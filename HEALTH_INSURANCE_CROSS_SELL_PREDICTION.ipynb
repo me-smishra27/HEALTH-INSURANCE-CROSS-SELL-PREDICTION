{
  "nbformat": 4,
  "nbformat_minor": 0,
  "metadata": {
    "colab": {
      "name": "HEALTH INSURANCE CROSS SELL PREDICTION.ipynb",
      "provenance": [],
      "collapsed_sections": [],
      "include_colab_link": true
    },
    "kernelspec": {
      "name": "python3",
      "display_name": "Python 3"
    },
    "language_info": {
      "name": "python"
    }
  },
  "cells": [
    {
      "cell_type": "markdown",
      "metadata": {
        "id": "view-in-github",
        "colab_type": "text"
      },
      "source": [
        "<a href=\"https://colab.research.google.com/github/me-smishra27/HEALTH-INSURANCE-CROSS-SELL-PREDICTION/blob/main/HEALTH_INSURANCE_CROSS_SELL_PREDICTION.ipynb\" target=\"_parent\"><img src=\"https://colab.research.google.com/assets/colab-badge.svg\" alt=\"Open In Colab\"/></a>"
      ]
    },
    {
      "cell_type": "markdown",
      "metadata": {
        "id": "LGcl5Bv9ed6u"
      },
      "source": [
        "# **Problem Statement**"
      ]
    },
    {
      "cell_type": "markdown",
      "metadata": {
        "id": "jJAmGx75jJk1"
      },
      "source": [
        "Our client is an Insurance company that has provided Health Insurance to its customers now they need your help in building a model to predict whether the policyholders (customers) from past year will also be interested in Vehicle Insurance provided by the company.\n",
        "\n",
        "An insurance policy is an arrangement by which a company undertakes to provide a guarantee of compensation for specified loss, damage, illness, or death in return for the payment of a specified premium. A premium is a sum of money that the customer needs to pay regularly to an insurance company for this guarantee.\n",
        "\n",
        "For example, you may pay a premium of Rs. 5000 each year for a health insurance cover of Rs. 200,000/- so that if, God forbid, you fall ill and need to be hospitalised in that year, the insurance provider company will bear the cost of hospitalisation etc. for upto Rs. 200,000. Now if you are wondering how can company bear such high hospitalisation cost when it charges a premium of only Rs. 5000/-, that is where the concept of probabilities comes in picture. For example, like you, there may be 100 customers who would be paying a premium of Rs. 5000 every year, but only a few of them (say 2-3) would get hospitalised that year and not everyone. This way everyone shares the risk of everyone else.\n",
        "\n",
        "Just like medical insurance, there is vehicle insurance where every year customer needs to pay a premium of certain amount to insurance provider company so that in case of unfortunate accident by the vehicle, the insurance provider company will provide a compensation (called ‘sum assured’) to the customer.\n",
        "\n",
        "Building a model to predict whether a customer would be interested in Vehicle Insurance is extremely helpful for the company because it can then accordingly plan its communication strategy to reach out to those customers and optimise its business model and revenue.\n",
        "\n",
        "Now, in order to predict, whether the customer would be interested in Vehicle insurance, you have information about demographics (gender, age, region code type), Vehicles (Vehicle Age, Damage), Policy (Premium, sourcing channel) etc."
      ]
    },
    {
      "cell_type": "markdown",
      "metadata": {
        "id": "AzGDqdC4fZ-b"
      },
      "source": [
        "# **Attribute Information**"
      ]
    },
    {
      "cell_type": "markdown",
      "metadata": {
        "id": "oEJxl68MjYbs"
      },
      "source": [
        "1. id :\tUnique ID for the customer\n",
        "\n",
        "2. Gender\t: Gender of the customer\n",
        "\n",
        "3. Age :\tAge of the customer\n",
        "\n",
        "4. Driving_License\t0 : Customer does not have DL, 1 : Customer already has DL\n",
        "\n",
        "5. Region_Code :\tUnique code for the region of the customer\n",
        "\n",
        "6. Previously_Insured\t: 1 : Customer already has Vehicle Insurance, 0 : Customer doesn't have Vehicle Insurance\n",
        "\n",
        "7. Vehicle_Age :\tAge of the Vehicle\n",
        "\n",
        "8. Vehicle_Damage\t :1 : Customer got his/her vehicle damaged in the past. 0 : Customer didn't get his/her vehicle damaged in the past.\n",
        "\n",
        "9. Annual_Premium\t: The amount customer needs to pay as premium in the year\n",
        "\n",
        "10. PolicySalesChannel :\tAnonymized Code for the channel of outreaching to the customer ie. Different Agents, Over Mail, Over Phone, In Person, etc.\n",
        "\n",
        "11. Vintage :\tNumber of Days, Customer has been associated with the company\n",
        "\n",
        "12. Response :\t1 : Customer is interested, 0 : Customer is not interested"
      ]
    },
    {
      "cell_type": "code",
      "metadata": {
        "colab": {
          "base_uri": "https://localhost:8080/"
        },
        "id": "v1PxP-8Zz0rp",
        "outputId": "165485fa-5194-43de-ed92-9a3976d3e893"
      },
      "source": [
        "from google.colab import drive\n",
        "drive.mount('/content/drive')"
      ],
      "execution_count": null,
      "outputs": [
        {
          "output_type": "stream",
          "name": "stdout",
          "text": [
            "Mounted at /content/drive\n"
          ]
        }
      ]
    },
    {
      "cell_type": "code",
      "metadata": {
        "id": "ZnXSPjQk3fHZ"
      },
      "source": [
        "import pandas as pd\n",
        "import numpy as np\n",
        "import matplotlib.pyplot as plt\n",
        "import seaborn as sns\n",
        "%matplotlib inline"
      ],
      "execution_count": null,
      "outputs": []
    },
    {
      "cell_type": "code",
      "metadata": {
        "id": "3TMCMw9lz3rF"
      },
      "source": [
        "filepath = '/content/drive/MyDrive/Colab Notebooks/Cohort_Himalaya_AlmaBetter/ML_CAPSTONE/HEALTH INSURANCE CROSS SELL PREDICTION /TRAIN-HEALTH INSURANCE CROSS SELL PREDICTION.csv'\n",
        "dataset = pd.read_csv(filepath)"
      ],
      "execution_count": null,
      "outputs": []
    },
    {
      "cell_type": "code",
      "metadata": {
        "colab": {
          "base_uri": "https://localhost:8080/"
        },
        "id": "hv0irYLf9mET",
        "outputId": "f0becb51-a710-4466-e1c9-6339bc0cdaba"
      },
      "source": [
        "dataset.shape"
      ],
      "execution_count": null,
      "outputs": [
        {
          "output_type": "execute_result",
          "data": {
            "text/plain": [
              "(381109, 12)"
            ]
          },
          "metadata": {},
          "execution_count": 4
        }
      ]
    },
    {
      "cell_type": "code",
      "metadata": {
        "colab": {
          "base_uri": "https://localhost:8080/"
        },
        "id": "qQsU1s30_Ffm",
        "outputId": "884b99f0-9a6b-4574-e276-ce53bf9aa6e2"
      },
      "source": [
        "dataset['id'].nunique()"
      ],
      "execution_count": null,
      "outputs": [
        {
          "output_type": "execute_result",
          "data": {
            "text/plain": [
              "381109"
            ]
          },
          "metadata": {},
          "execution_count": 5
        }
      ]
    },
    {
      "cell_type": "code",
      "metadata": {
        "colab": {
          "base_uri": "https://localhost:8080/"
        },
        "id": "mxxdDs4o_oRc",
        "outputId": "a5e16c24-3a7c-453f-e566-898d7f4e0261"
      },
      "source": [
        "dataset.duplicated().value_counts()"
      ],
      "execution_count": null,
      "outputs": [
        {
          "output_type": "execute_result",
          "data": {
            "text/plain": [
              "False    381109\n",
              "dtype: int64"
            ]
          },
          "metadata": {},
          "execution_count": 6
        }
      ]
    },
    {
      "cell_type": "code",
      "metadata": {
        "colab": {
          "base_uri": "https://localhost:8080/"
        },
        "id": "hegyFnvG_mnJ",
        "outputId": "5d3e9f92-1e65-44a9-d8c7-ebb61c670f92"
      },
      "source": [
        "dataset.columns"
      ],
      "execution_count": null,
      "outputs": [
        {
          "output_type": "execute_result",
          "data": {
            "text/plain": [
              "Index(['id', 'Gender', 'Age', 'Driving_License', 'Region_Code',\n",
              "       'Previously_Insured', 'Vehicle_Age', 'Vehicle_Damage', 'Annual_Premium',\n",
              "       'Policy_Sales_Channel', 'Vintage', 'Response'],\n",
              "      dtype='object')"
            ]
          },
          "metadata": {},
          "execution_count": 7
        }
      ]
    },
    {
      "cell_type": "code",
      "metadata": {
        "id": "Jof1NMgoGgI-"
      },
      "source": [
        "df = pd.DataFrame(dataset.isnull().sum(), columns = ['MISSING COUNT'])"
      ],
      "execution_count": null,
      "outputs": []
    },
    {
      "cell_type": "code",
      "metadata": {
        "colab": {
          "base_uri": "https://localhost:8080/",
          "height": 79
        },
        "id": "XgZLuonUHg2y",
        "outputId": "4a749411-da98-483e-f5ce-c0fc45acc350"
      },
      "source": [
        "df.T"
      ],
      "execution_count": null,
      "outputs": [
        {
          "output_type": "execute_result",
          "data": {
            "text/html": [
              "<div>\n",
              "<style scoped>\n",
              "    .dataframe tbody tr th:only-of-type {\n",
              "        vertical-align: middle;\n",
              "    }\n",
              "\n",
              "    .dataframe tbody tr th {\n",
              "        vertical-align: top;\n",
              "    }\n",
              "\n",
              "    .dataframe thead th {\n",
              "        text-align: right;\n",
              "    }\n",
              "</style>\n",
              "<table border=\"1\" class=\"dataframe\">\n",
              "  <thead>\n",
              "    <tr style=\"text-align: right;\">\n",
              "      <th></th>\n",
              "      <th>id</th>\n",
              "      <th>Gender</th>\n",
              "      <th>Age</th>\n",
              "      <th>Driving_License</th>\n",
              "      <th>Region_Code</th>\n",
              "      <th>Previously_Insured</th>\n",
              "      <th>Vehicle_Age</th>\n",
              "      <th>Vehicle_Damage</th>\n",
              "      <th>Annual_Premium</th>\n",
              "      <th>Policy_Sales_Channel</th>\n",
              "      <th>Vintage</th>\n",
              "      <th>Response</th>\n",
              "    </tr>\n",
              "  </thead>\n",
              "  <tbody>\n",
              "    <tr>\n",
              "      <th>MISSING COUNT</th>\n",
              "      <td>0</td>\n",
              "      <td>0</td>\n",
              "      <td>0</td>\n",
              "      <td>0</td>\n",
              "      <td>0</td>\n",
              "      <td>0</td>\n",
              "      <td>0</td>\n",
              "      <td>0</td>\n",
              "      <td>0</td>\n",
              "      <td>0</td>\n",
              "      <td>0</td>\n",
              "      <td>0</td>\n",
              "    </tr>\n",
              "  </tbody>\n",
              "</table>\n",
              "</div>"
            ],
            "text/plain": [
              "               id  Gender  Age  ...  Policy_Sales_Channel  Vintage  Response\n",
              "MISSING COUNT   0       0    0  ...                     0        0         0\n",
              "\n",
              "[1 rows x 12 columns]"
            ]
          },
          "metadata": {},
          "execution_count": 9
        }
      ]
    },
    {
      "cell_type": "code",
      "metadata": {
        "colab": {
          "base_uri": "https://localhost:8080/",
          "height": 418
        },
        "id": "DDWZxxxIGveL",
        "outputId": "271de50b-6be3-4dfc-cc3b-777ba0ca53e0"
      },
      "source": [
        "df.head(20)"
      ],
      "execution_count": null,
      "outputs": [
        {
          "output_type": "execute_result",
          "data": {
            "text/html": [
              "<div>\n",
              "<style scoped>\n",
              "    .dataframe tbody tr th:only-of-type {\n",
              "        vertical-align: middle;\n",
              "    }\n",
              "\n",
              "    .dataframe tbody tr th {\n",
              "        vertical-align: top;\n",
              "    }\n",
              "\n",
              "    .dataframe thead th {\n",
              "        text-align: right;\n",
              "    }\n",
              "</style>\n",
              "<table border=\"1\" class=\"dataframe\">\n",
              "  <thead>\n",
              "    <tr style=\"text-align: right;\">\n",
              "      <th></th>\n",
              "      <th>MISSING COUNT</th>\n",
              "    </tr>\n",
              "  </thead>\n",
              "  <tbody>\n",
              "    <tr>\n",
              "      <th>id</th>\n",
              "      <td>0</td>\n",
              "    </tr>\n",
              "    <tr>\n",
              "      <th>Gender</th>\n",
              "      <td>0</td>\n",
              "    </tr>\n",
              "    <tr>\n",
              "      <th>Age</th>\n",
              "      <td>0</td>\n",
              "    </tr>\n",
              "    <tr>\n",
              "      <th>Driving_License</th>\n",
              "      <td>0</td>\n",
              "    </tr>\n",
              "    <tr>\n",
              "      <th>Region_Code</th>\n",
              "      <td>0</td>\n",
              "    </tr>\n",
              "    <tr>\n",
              "      <th>Previously_Insured</th>\n",
              "      <td>0</td>\n",
              "    </tr>\n",
              "    <tr>\n",
              "      <th>Vehicle_Age</th>\n",
              "      <td>0</td>\n",
              "    </tr>\n",
              "    <tr>\n",
              "      <th>Vehicle_Damage</th>\n",
              "      <td>0</td>\n",
              "    </tr>\n",
              "    <tr>\n",
              "      <th>Annual_Premium</th>\n",
              "      <td>0</td>\n",
              "    </tr>\n",
              "    <tr>\n",
              "      <th>Policy_Sales_Channel</th>\n",
              "      <td>0</td>\n",
              "    </tr>\n",
              "    <tr>\n",
              "      <th>Vintage</th>\n",
              "      <td>0</td>\n",
              "    </tr>\n",
              "    <tr>\n",
              "      <th>Response</th>\n",
              "      <td>0</td>\n",
              "    </tr>\n",
              "  </tbody>\n",
              "</table>\n",
              "</div>"
            ],
            "text/plain": [
              "                      MISSING COUNT\n",
              "id                                0\n",
              "Gender                            0\n",
              "Age                               0\n",
              "Driving_License                   0\n",
              "Region_Code                       0\n",
              "Previously_Insured                0\n",
              "Vehicle_Age                       0\n",
              "Vehicle_Damage                    0\n",
              "Annual_Premium                    0\n",
              "Policy_Sales_Channel              0\n",
              "Vintage                           0\n",
              "Response                          0"
            ]
          },
          "metadata": {},
          "execution_count": 10
        }
      ]
    },
    {
      "cell_type": "code",
      "metadata": {
        "colab": {
          "base_uri": "https://localhost:8080/"
        },
        "id": "kUnlq3WACYhg",
        "outputId": "f2ecb7b1-df89-480d-86fd-c7fbc6a83232"
      },
      "source": [
        "dataset.info()"
      ],
      "execution_count": null,
      "outputs": [
        {
          "output_type": "stream",
          "name": "stdout",
          "text": [
            "<class 'pandas.core.frame.DataFrame'>\n",
            "RangeIndex: 381109 entries, 0 to 381108\n",
            "Data columns (total 12 columns):\n",
            " #   Column                Non-Null Count   Dtype  \n",
            "---  ------                --------------   -----  \n",
            " 0   id                    381109 non-null  int64  \n",
            " 1   Gender                381109 non-null  object \n",
            " 2   Age                   381109 non-null  int64  \n",
            " 3   Driving_License       381109 non-null  int64  \n",
            " 4   Region_Code           381109 non-null  float64\n",
            " 5   Previously_Insured    381109 non-null  int64  \n",
            " 6   Vehicle_Age           381109 non-null  object \n",
            " 7   Vehicle_Damage        381109 non-null  object \n",
            " 8   Annual_Premium        381109 non-null  float64\n",
            " 9   Policy_Sales_Channel  381109 non-null  float64\n",
            " 10  Vintage               381109 non-null  int64  \n",
            " 11  Response              381109 non-null  int64  \n",
            "dtypes: float64(3), int64(6), object(3)\n",
            "memory usage: 34.9+ MB\n"
          ]
        }
      ]
    },
    {
      "cell_type": "code",
      "metadata": {
        "id": "lcvRBDTO3yFt"
      },
      "source": [
        "dataset.set_index('id', inplace= True)"
      ],
      "execution_count": null,
      "outputs": []
    },
    {
      "cell_type": "code",
      "metadata": {
        "id": "_dCZHb11EjB2",
        "colab": {
          "base_uri": "https://localhost:8080/",
          "height": 234
        },
        "outputId": "4531dea5-f561-46a2-dff4-5b2ece73c50c"
      },
      "source": [
        "dataset.head()"
      ],
      "execution_count": null,
      "outputs": [
        {
          "output_type": "execute_result",
          "data": {
            "text/html": [
              "<div>\n",
              "<style scoped>\n",
              "    .dataframe tbody tr th:only-of-type {\n",
              "        vertical-align: middle;\n",
              "    }\n",
              "\n",
              "    .dataframe tbody tr th {\n",
              "        vertical-align: top;\n",
              "    }\n",
              "\n",
              "    .dataframe thead th {\n",
              "        text-align: right;\n",
              "    }\n",
              "</style>\n",
              "<table border=\"1\" class=\"dataframe\">\n",
              "  <thead>\n",
              "    <tr style=\"text-align: right;\">\n",
              "      <th></th>\n",
              "      <th>Gender</th>\n",
              "      <th>Age</th>\n",
              "      <th>Driving_License</th>\n",
              "      <th>Region_Code</th>\n",
              "      <th>Previously_Insured</th>\n",
              "      <th>Vehicle_Age</th>\n",
              "      <th>Vehicle_Damage</th>\n",
              "      <th>Annual_Premium</th>\n",
              "      <th>Policy_Sales_Channel</th>\n",
              "      <th>Vintage</th>\n",
              "      <th>Response</th>\n",
              "    </tr>\n",
              "    <tr>\n",
              "      <th>id</th>\n",
              "      <th></th>\n",
              "      <th></th>\n",
              "      <th></th>\n",
              "      <th></th>\n",
              "      <th></th>\n",
              "      <th></th>\n",
              "      <th></th>\n",
              "      <th></th>\n",
              "      <th></th>\n",
              "      <th></th>\n",
              "      <th></th>\n",
              "    </tr>\n",
              "  </thead>\n",
              "  <tbody>\n",
              "    <tr>\n",
              "      <th>1</th>\n",
              "      <td>Male</td>\n",
              "      <td>44</td>\n",
              "      <td>1</td>\n",
              "      <td>28.0</td>\n",
              "      <td>0</td>\n",
              "      <td>&gt; 2 Years</td>\n",
              "      <td>Yes</td>\n",
              "      <td>40454.0</td>\n",
              "      <td>26.0</td>\n",
              "      <td>217</td>\n",
              "      <td>1</td>\n",
              "    </tr>\n",
              "    <tr>\n",
              "      <th>2</th>\n",
              "      <td>Male</td>\n",
              "      <td>76</td>\n",
              "      <td>1</td>\n",
              "      <td>3.0</td>\n",
              "      <td>0</td>\n",
              "      <td>1-2 Year</td>\n",
              "      <td>No</td>\n",
              "      <td>33536.0</td>\n",
              "      <td>26.0</td>\n",
              "      <td>183</td>\n",
              "      <td>0</td>\n",
              "    </tr>\n",
              "    <tr>\n",
              "      <th>3</th>\n",
              "      <td>Male</td>\n",
              "      <td>47</td>\n",
              "      <td>1</td>\n",
              "      <td>28.0</td>\n",
              "      <td>0</td>\n",
              "      <td>&gt; 2 Years</td>\n",
              "      <td>Yes</td>\n",
              "      <td>38294.0</td>\n",
              "      <td>26.0</td>\n",
              "      <td>27</td>\n",
              "      <td>1</td>\n",
              "    </tr>\n",
              "    <tr>\n",
              "      <th>4</th>\n",
              "      <td>Male</td>\n",
              "      <td>21</td>\n",
              "      <td>1</td>\n",
              "      <td>11.0</td>\n",
              "      <td>1</td>\n",
              "      <td>&lt; 1 Year</td>\n",
              "      <td>No</td>\n",
              "      <td>28619.0</td>\n",
              "      <td>152.0</td>\n",
              "      <td>203</td>\n",
              "      <td>0</td>\n",
              "    </tr>\n",
              "    <tr>\n",
              "      <th>5</th>\n",
              "      <td>Female</td>\n",
              "      <td>29</td>\n",
              "      <td>1</td>\n",
              "      <td>41.0</td>\n",
              "      <td>1</td>\n",
              "      <td>&lt; 1 Year</td>\n",
              "      <td>No</td>\n",
              "      <td>27496.0</td>\n",
              "      <td>152.0</td>\n",
              "      <td>39</td>\n",
              "      <td>0</td>\n",
              "    </tr>\n",
              "  </tbody>\n",
              "</table>\n",
              "</div>"
            ],
            "text/plain": [
              "    Gender  Age  Driving_License  ...  Policy_Sales_Channel  Vintage Response\n",
              "id                                ...                                        \n",
              "1     Male   44                1  ...                  26.0      217        1\n",
              "2     Male   76                1  ...                  26.0      183        0\n",
              "3     Male   47                1  ...                  26.0       27        1\n",
              "4     Male   21                1  ...                 152.0      203        0\n",
              "5   Female   29                1  ...                 152.0       39        0\n",
              "\n",
              "[5 rows x 11 columns]"
            ]
          },
          "metadata": {},
          "execution_count": 13
        }
      ]
    },
    {
      "cell_type": "code",
      "metadata": {
        "id": "n8oo9bWFFdDQ"
      },
      "source": [
        "working_data = dataset.copy()"
      ],
      "execution_count": null,
      "outputs": []
    },
    {
      "cell_type": "code",
      "metadata": {
        "id": "ur7NIDYwYDYf"
      },
      "source": [
        "from sklearn.preprocessing import LabelEncoder\n",
        "le = LabelEncoder()\n",
        "working_data['Gender'] = le.fit_transform(working_data['Gender'])\n",
        "working_data['Vehicle_Damage'] = le.fit_transform(working_data['Vehicle_Damage'])"
      ],
      "execution_count": null,
      "outputs": []
    },
    {
      "cell_type": "code",
      "metadata": {
        "id": "PdoBjzIFajNo"
      },
      "source": [
        "working_data['Vehicle_Age_>2yrs'] = np.where(working_data['Vehicle_Age']== '> 2 Years', 1, 0)\n",
        "working_data['Vehicle_Age_1-2yrs'] = np.where(working_data['Vehicle_Age']== '1-2 Year', 1, 0)\n",
        "working_data['Vehicle_Age_<1yr'] = np.where(working_data['Vehicle_Age']=='< 1 Year', 1, 0)"
      ],
      "execution_count": null,
      "outputs": []
    },
    {
      "cell_type": "code",
      "metadata": {
        "id": "fK0cxynY9eDQ"
      },
      "source": [
        "working_data.drop(['Vehicle_Age'], axis = 1, inplace = True)"
      ],
      "execution_count": null,
      "outputs": []
    },
    {
      "cell_type": "code",
      "metadata": {
        "colab": {
          "base_uri": "https://localhost:8080/",
          "height": 234
        },
        "id": "9KZ6BmfT9XJZ",
        "outputId": "169b92bc-0694-42bd-844e-0d409284a3e4"
      },
      "source": [
        "working_data.head()"
      ],
      "execution_count": null,
      "outputs": [
        {
          "output_type": "execute_result",
          "data": {
            "text/html": [
              "<div>\n",
              "<style scoped>\n",
              "    .dataframe tbody tr th:only-of-type {\n",
              "        vertical-align: middle;\n",
              "    }\n",
              "\n",
              "    .dataframe tbody tr th {\n",
              "        vertical-align: top;\n",
              "    }\n",
              "\n",
              "    .dataframe thead th {\n",
              "        text-align: right;\n",
              "    }\n",
              "</style>\n",
              "<table border=\"1\" class=\"dataframe\">\n",
              "  <thead>\n",
              "    <tr style=\"text-align: right;\">\n",
              "      <th></th>\n",
              "      <th>Gender</th>\n",
              "      <th>Age</th>\n",
              "      <th>Driving_License</th>\n",
              "      <th>Region_Code</th>\n",
              "      <th>Previously_Insured</th>\n",
              "      <th>Vehicle_Damage</th>\n",
              "      <th>Annual_Premium</th>\n",
              "      <th>Policy_Sales_Channel</th>\n",
              "      <th>Vintage</th>\n",
              "      <th>Response</th>\n",
              "      <th>Vehicle_Age_&gt;2yrs</th>\n",
              "      <th>Vehicle_Age_1-2yrs</th>\n",
              "      <th>Vehicle_Age_&lt;1yr</th>\n",
              "    </tr>\n",
              "    <tr>\n",
              "      <th>id</th>\n",
              "      <th></th>\n",
              "      <th></th>\n",
              "      <th></th>\n",
              "      <th></th>\n",
              "      <th></th>\n",
              "      <th></th>\n",
              "      <th></th>\n",
              "      <th></th>\n",
              "      <th></th>\n",
              "      <th></th>\n",
              "      <th></th>\n",
              "      <th></th>\n",
              "      <th></th>\n",
              "    </tr>\n",
              "  </thead>\n",
              "  <tbody>\n",
              "    <tr>\n",
              "      <th>1</th>\n",
              "      <td>1</td>\n",
              "      <td>44</td>\n",
              "      <td>1</td>\n",
              "      <td>28.0</td>\n",
              "      <td>0</td>\n",
              "      <td>1</td>\n",
              "      <td>40454.0</td>\n",
              "      <td>26.0</td>\n",
              "      <td>217</td>\n",
              "      <td>1</td>\n",
              "      <td>1</td>\n",
              "      <td>0</td>\n",
              "      <td>0</td>\n",
              "    </tr>\n",
              "    <tr>\n",
              "      <th>2</th>\n",
              "      <td>1</td>\n",
              "      <td>76</td>\n",
              "      <td>1</td>\n",
              "      <td>3.0</td>\n",
              "      <td>0</td>\n",
              "      <td>0</td>\n",
              "      <td>33536.0</td>\n",
              "      <td>26.0</td>\n",
              "      <td>183</td>\n",
              "      <td>0</td>\n",
              "      <td>0</td>\n",
              "      <td>1</td>\n",
              "      <td>0</td>\n",
              "    </tr>\n",
              "    <tr>\n",
              "      <th>3</th>\n",
              "      <td>1</td>\n",
              "      <td>47</td>\n",
              "      <td>1</td>\n",
              "      <td>28.0</td>\n",
              "      <td>0</td>\n",
              "      <td>1</td>\n",
              "      <td>38294.0</td>\n",
              "      <td>26.0</td>\n",
              "      <td>27</td>\n",
              "      <td>1</td>\n",
              "      <td>1</td>\n",
              "      <td>0</td>\n",
              "      <td>0</td>\n",
              "    </tr>\n",
              "    <tr>\n",
              "      <th>4</th>\n",
              "      <td>1</td>\n",
              "      <td>21</td>\n",
              "      <td>1</td>\n",
              "      <td>11.0</td>\n",
              "      <td>1</td>\n",
              "      <td>0</td>\n",
              "      <td>28619.0</td>\n",
              "      <td>152.0</td>\n",
              "      <td>203</td>\n",
              "      <td>0</td>\n",
              "      <td>0</td>\n",
              "      <td>0</td>\n",
              "      <td>1</td>\n",
              "    </tr>\n",
              "    <tr>\n",
              "      <th>5</th>\n",
              "      <td>0</td>\n",
              "      <td>29</td>\n",
              "      <td>1</td>\n",
              "      <td>41.0</td>\n",
              "      <td>1</td>\n",
              "      <td>0</td>\n",
              "      <td>27496.0</td>\n",
              "      <td>152.0</td>\n",
              "      <td>39</td>\n",
              "      <td>0</td>\n",
              "      <td>0</td>\n",
              "      <td>0</td>\n",
              "      <td>1</td>\n",
              "    </tr>\n",
              "  </tbody>\n",
              "</table>\n",
              "</div>"
            ],
            "text/plain": [
              "    Gender  Age  ...  Vehicle_Age_1-2yrs  Vehicle_Age_<1yr\n",
              "id               ...                                      \n",
              "1        1   44  ...                   0                 0\n",
              "2        1   76  ...                   1                 0\n",
              "3        1   47  ...                   0                 0\n",
              "4        1   21  ...                   0                 1\n",
              "5        0   29  ...                   0                 1\n",
              "\n",
              "[5 rows x 13 columns]"
            ]
          },
          "metadata": {},
          "execution_count": 18
        }
      ]
    },
    {
      "cell_type": "code",
      "metadata": {
        "id": "8A_-GIXrDkR1"
      },
      "source": [
        "working_data.drop(['Region_Code', 'Policy_Sales_Channel'], axis = 1, inplace = True)"
      ],
      "execution_count": null,
      "outputs": []
    },
    {
      "cell_type": "code",
      "metadata": {
        "colab": {
          "base_uri": "https://localhost:8080/",
          "height": 234
        },
        "id": "uZq3Is0gEh2U",
        "outputId": "28d31d82-8548-4b81-bd70-dffb65e5f7a7"
      },
      "source": [
        "working_data.head()"
      ],
      "execution_count": null,
      "outputs": [
        {
          "output_type": "execute_result",
          "data": {
            "text/html": [
              "<div>\n",
              "<style scoped>\n",
              "    .dataframe tbody tr th:only-of-type {\n",
              "        vertical-align: middle;\n",
              "    }\n",
              "\n",
              "    .dataframe tbody tr th {\n",
              "        vertical-align: top;\n",
              "    }\n",
              "\n",
              "    .dataframe thead th {\n",
              "        text-align: right;\n",
              "    }\n",
              "</style>\n",
              "<table border=\"1\" class=\"dataframe\">\n",
              "  <thead>\n",
              "    <tr style=\"text-align: right;\">\n",
              "      <th></th>\n",
              "      <th>Gender</th>\n",
              "      <th>Age</th>\n",
              "      <th>Driving_License</th>\n",
              "      <th>Previously_Insured</th>\n",
              "      <th>Vehicle_Damage</th>\n",
              "      <th>Annual_Premium</th>\n",
              "      <th>Vintage</th>\n",
              "      <th>Response</th>\n",
              "      <th>Vehicle_Age_&gt;2yrs</th>\n",
              "      <th>Vehicle_Age_1-2yrs</th>\n",
              "      <th>Vehicle_Age_&lt;1yr</th>\n",
              "    </tr>\n",
              "    <tr>\n",
              "      <th>id</th>\n",
              "      <th></th>\n",
              "      <th></th>\n",
              "      <th></th>\n",
              "      <th></th>\n",
              "      <th></th>\n",
              "      <th></th>\n",
              "      <th></th>\n",
              "      <th></th>\n",
              "      <th></th>\n",
              "      <th></th>\n",
              "      <th></th>\n",
              "    </tr>\n",
              "  </thead>\n",
              "  <tbody>\n",
              "    <tr>\n",
              "      <th>1</th>\n",
              "      <td>1</td>\n",
              "      <td>44</td>\n",
              "      <td>1</td>\n",
              "      <td>0</td>\n",
              "      <td>1</td>\n",
              "      <td>40454.0</td>\n",
              "      <td>217</td>\n",
              "      <td>1</td>\n",
              "      <td>1</td>\n",
              "      <td>0</td>\n",
              "      <td>0</td>\n",
              "    </tr>\n",
              "    <tr>\n",
              "      <th>2</th>\n",
              "      <td>1</td>\n",
              "      <td>76</td>\n",
              "      <td>1</td>\n",
              "      <td>0</td>\n",
              "      <td>0</td>\n",
              "      <td>33536.0</td>\n",
              "      <td>183</td>\n",
              "      <td>0</td>\n",
              "      <td>0</td>\n",
              "      <td>1</td>\n",
              "      <td>0</td>\n",
              "    </tr>\n",
              "    <tr>\n",
              "      <th>3</th>\n",
              "      <td>1</td>\n",
              "      <td>47</td>\n",
              "      <td>1</td>\n",
              "      <td>0</td>\n",
              "      <td>1</td>\n",
              "      <td>38294.0</td>\n",
              "      <td>27</td>\n",
              "      <td>1</td>\n",
              "      <td>1</td>\n",
              "      <td>0</td>\n",
              "      <td>0</td>\n",
              "    </tr>\n",
              "    <tr>\n",
              "      <th>4</th>\n",
              "      <td>1</td>\n",
              "      <td>21</td>\n",
              "      <td>1</td>\n",
              "      <td>1</td>\n",
              "      <td>0</td>\n",
              "      <td>28619.0</td>\n",
              "      <td>203</td>\n",
              "      <td>0</td>\n",
              "      <td>0</td>\n",
              "      <td>0</td>\n",
              "      <td>1</td>\n",
              "    </tr>\n",
              "    <tr>\n",
              "      <th>5</th>\n",
              "      <td>0</td>\n",
              "      <td>29</td>\n",
              "      <td>1</td>\n",
              "      <td>1</td>\n",
              "      <td>0</td>\n",
              "      <td>27496.0</td>\n",
              "      <td>39</td>\n",
              "      <td>0</td>\n",
              "      <td>0</td>\n",
              "      <td>0</td>\n",
              "      <td>1</td>\n",
              "    </tr>\n",
              "  </tbody>\n",
              "</table>\n",
              "</div>"
            ],
            "text/plain": [
              "    Gender  Age  ...  Vehicle_Age_1-2yrs  Vehicle_Age_<1yr\n",
              "id               ...                                      \n",
              "1        1   44  ...                   0                 0\n",
              "2        1   76  ...                   1                 0\n",
              "3        1   47  ...                   0                 0\n",
              "4        1   21  ...                   0                 1\n",
              "5        0   29  ...                   0                 1\n",
              "\n",
              "[5 rows x 11 columns]"
            ]
          },
          "metadata": {},
          "execution_count": 20
        }
      ]
    },
    {
      "cell_type": "code",
      "metadata": {
        "id": "tGALhZFl6Uob"
      },
      "source": [
        "working_data.drop_duplicates(inplace = True)"
      ],
      "execution_count": null,
      "outputs": []
    },
    {
      "cell_type": "code",
      "metadata": {
        "colab": {
          "base_uri": "https://localhost:8080/",
          "height": 141
        },
        "id": "UFfAOg1of55H",
        "outputId": "0454f5f0-27b5-40e4-bffd-17d4d8cc91b7"
      },
      "source": [
        "pd.crosstab(['Response'], working_data['Gender'], margins = True)"
      ],
      "execution_count": null,
      "outputs": [
        {
          "output_type": "execute_result",
          "data": {
            "text/html": [
              "<div>\n",
              "<style scoped>\n",
              "    .dataframe tbody tr th:only-of-type {\n",
              "        vertical-align: middle;\n",
              "    }\n",
              "\n",
              "    .dataframe tbody tr th {\n",
              "        vertical-align: top;\n",
              "    }\n",
              "\n",
              "    .dataframe thead th {\n",
              "        text-align: right;\n",
              "    }\n",
              "</style>\n",
              "<table border=\"1\" class=\"dataframe\">\n",
              "  <thead>\n",
              "    <tr style=\"text-align: right;\">\n",
              "      <th>Gender</th>\n",
              "      <th>0</th>\n",
              "      <th>1</th>\n",
              "      <th>All</th>\n",
              "    </tr>\n",
              "    <tr>\n",
              "      <th>row_0</th>\n",
              "      <th></th>\n",
              "      <th></th>\n",
              "      <th></th>\n",
              "    </tr>\n",
              "  </thead>\n",
              "  <tbody>\n",
              "    <tr>\n",
              "      <th>Response</th>\n",
              "      <td>168478</td>\n",
              "      <td>196789</td>\n",
              "      <td>365267</td>\n",
              "    </tr>\n",
              "    <tr>\n",
              "      <th>All</th>\n",
              "      <td>168478</td>\n",
              "      <td>196789</td>\n",
              "      <td>365267</td>\n",
              "    </tr>\n",
              "  </tbody>\n",
              "</table>\n",
              "</div>"
            ],
            "text/plain": [
              "Gender         0       1     All\n",
              "row_0                           \n",
              "Response  168478  196789  365267\n",
              "All       168478  196789  365267"
            ]
          },
          "metadata": {},
          "execution_count": 22
        }
      ]
    },
    {
      "cell_type": "code",
      "metadata": {
        "colab": {
          "base_uri": "https://localhost:8080/",
          "height": 295
        },
        "id": "pMtekZyXj0Rg",
        "outputId": "037c3525-77ea-4cdb-e520-8e789500cb65"
      },
      "source": [
        "sns.countplot(x = 'Gender', hue= 'Response', data = working_data)"
      ],
      "execution_count": null,
      "outputs": [
        {
          "output_type": "execute_result",
          "data": {
            "text/plain": [
              "<matplotlib.axes._subplots.AxesSubplot at 0x7f9fdea47d90>"
            ]
          },
          "metadata": {},
          "execution_count": 23
        },
        {
          "output_type": "display_data",
          "data": {
            "image/png": "[encoded data removed]",
            "text/plain": [
              "<Figure size 432x288 with 1 Axes>"
            ]
          },
          "metadata": {
            "needs_background": "light"
          }
        }
      ]
    },
    {
      "cell_type": "code",
      "metadata": {
        "colab": {
          "base_uri": "https://localhost:8080/"
        },
        "id": "CVXz1Jv5ZUAT",
        "outputId": "800c9d55-7973-49ed-a008-99eae97bc5d4"
      },
      "source": [
        "dataset.columns"
      ],
      "execution_count": null,
      "outputs": [
        {
          "output_type": "execute_result",
          "data": {
            "text/plain": [
              "Index(['Gender', 'Age', 'Driving_License', 'Region_Code', 'Previously_Insured',\n",
              "       'Vehicle_Age', 'Vehicle_Damage', 'Annual_Premium',\n",
              "       'Policy_Sales_Channel', 'Vintage', 'Response'],\n",
              "      dtype='object')"
            ]
          },
          "metadata": {},
          "execution_count": 24
        }
      ]
    },
    {
      "cell_type": "code",
      "metadata": {
        "colab": {
          "base_uri": "https://localhost:8080/"
        },
        "id": "izIR22_uZmjh",
        "outputId": "1acabb70-2f00-483b-923f-9e1ad028d0cc"
      },
      "source": [
        "print(dataset['Policy_Sales_Channel'].nunique())\n",
        "print(dataset['Policy_Sales_Channel'].unique())"
      ],
      "execution_count": null,
      "outputs": [
        {
          "output_type": "stream",
          "name": "stdout",
          "text": [
            "155\n",
            "[ 26. 152. 160. 124.  14.  13.  30. 156. 163. 157. 122.  19.  22.  15.\n",
            " 154.  16.  52. 155.  11. 151. 125.  25.  61.   1.  86.  31. 150.  23.\n",
            "  60.  21. 121.   3. 139.  12.  29.  55.   7.  47. 127. 153.  78. 158.\n",
            "  89.  32.   8.  10. 120.  65.   4.  42.  83. 136.  24.  18.  56.  48.\n",
            " 106.  54.  93. 116.  91.  45.   9. 145. 147.  44. 109.  37. 140. 107.\n",
            " 128. 131. 114. 118. 159. 119. 105. 135.  62. 138. 129.  88.  92. 111.\n",
            " 113.  73.  36.  28.  35.  59.  53. 148. 133. 108.  64.  39.  94. 132.\n",
            "  46.  81. 103.  90.  51.  27. 146.  63.  96.  40.  66. 100.  95. 123.\n",
            "  98.  75.  69. 130. 134.  49.  97.  38.  17. 110.  80.  71. 117.  58.\n",
            "  20.  76. 104.  87.  84. 137. 126.  68.  67. 101. 115.  57.  82.  79.\n",
            " 112.  99.  70.   2.  34.  33.  74. 102. 149.  43.   6.  50. 144. 143.\n",
            "  41.]\n"
          ]
        }
      ]
    },
    {
      "cell_type": "code",
      "metadata": {
        "id": "gxJKr1NPkEQZ"
      },
      "source": [
        "plt.figure(figsize=(20,10))\n",
        "sns.pairplot(dataset, hue = 'Response', vars =['Age', 'Annual_Premium', 'Vintage'])"
      ],
      "execution_count": null,
      "outputs": []
    },
    {
      "cell_type": "code",
      "metadata": {
        "id": "tD3zYKM_432b"
      },
      "source": [
        "X = working_data.drop(['Response'], axis = 1)\n",
        "Y = working_data['Response']"
      ],
      "execution_count": null,
      "outputs": []
    },
    {
      "cell_type": "code",
      "metadata": {
        "colab": {
          "base_uri": "https://localhost:8080/"
        },
        "id": "K6l2BJ51ZdH0",
        "outputId": "4de700ba-b21d-4d56-f0b4-1b30dc8bc377"
      },
      "source": [
        "from sklearn.model_selection import train_test_split \n",
        "X_train, X_test, y_train, y_test = train_test_split( X,Y , test_size = 0.3, random_state = 0) \n",
        "print(X_train.shape)\n",
        "print(X_test.shape)"
      ],
      "execution_count": null,
      "outputs": [
        {
          "output_type": "stream",
          "name": "stdout",
          "text": [
            "(255686, 10)\n",
            "(109581, 10)\n"
          ]
        }
      ]
    },
    {
      "cell_type": "code",
      "metadata": {
        "colab": {
          "base_uri": "https://localhost:8080/"
        },
        "id": "Pe0WhBOj60Mz",
        "outputId": "7561c0da-17d7-4d14-92ae-f13522676a3d"
      },
      "source": [
        "working_data.columns"
      ],
      "execution_count": null,
      "outputs": [
        {
          "output_type": "execute_result",
          "data": {
            "text/plain": [
              "Index(['Gender', 'Age', 'Driving_License', 'Previously_Insured',\n",
              "       'Vehicle_Damage', 'Annual_Premium', 'Vintage', 'Response',\n",
              "       'Vehicle_Age_>2yrs', 'Vehicle_Age_1-2yrs', 'Vehicle_Age_<1yr'],\n",
              "      dtype='object')"
            ]
          },
          "metadata": {},
          "execution_count": 30
        }
      ]
    },
    {
      "cell_type": "code",
      "metadata": {
        "colab": {
          "base_uri": "https://localhost:8080/"
        },
        "id": "lA1OzTw96qfF",
        "outputId": "530708f0-6cfb-4934-fd8c-b146d4b480f8"
      },
      "source": [
        "col = ['Age', 'Annual_Premium', 'Vintage']\n",
        "from sklearn.preprocessing import StandardScaler\n",
        "sc = StandardScaler()\n",
        "X_train[col] = sc.fit_transform(X_train[col])\n",
        "X_test[col] = sc.transform(X_test[col])"
      ],
      "execution_count": null,
      "outputs": [
        {
          "output_type": "stream",
          "name": "stderr",
          "text": [
            "/usr/local/lib/python3.7/dist-packages/ipykernel_launcher.py:4: SettingWithCopyWarning: \n",
            "A value is trying to be set on a copy of a slice from a DataFrame.\n",
            "Try using .loc[row_indexer,col_indexer] = value instead\n",
            "\n",
            "See the caveats in the documentation: https://pandas.pydata.org/pandas-docs/stable/user_guide/indexing.html#returning-a-view-versus-a-copy\n",
            "  after removing the cwd from sys.path.\n",
            "/usr/local/lib/python3.7/dist-packages/pandas/core/indexing.py:1734: SettingWithCopyWarning: \n",
            "A value is trying to be set on a copy of a slice from a DataFrame.\n",
            "Try using .loc[row_indexer,col_indexer] = value instead\n",
            "\n",
            "See the caveats in the documentation: https://pandas.pydata.org/pandas-docs/stable/user_guide/indexing.html#returning-a-view-versus-a-copy\n",
            "  isetter(loc, value[:, i].tolist())\n",
            "/usr/local/lib/python3.7/dist-packages/ipykernel_launcher.py:5: SettingWithCopyWarning: \n",
            "A value is trying to be set on a copy of a slice from a DataFrame.\n",
            "Try using .loc[row_indexer,col_indexer] = value instead\n",
            "\n",
            "See the caveats in the documentation: https://pandas.pydata.org/pandas-docs/stable/user_guide/indexing.html#returning-a-view-versus-a-copy\n",
            "  \"\"\"\n",
            "/usr/local/lib/python3.7/dist-packages/pandas/core/indexing.py:1734: SettingWithCopyWarning: \n",
            "A value is trying to be set on a copy of a slice from a DataFrame.\n",
            "Try using .loc[row_indexer,col_indexer] = value instead\n",
            "\n",
            "See the caveats in the documentation: https://pandas.pydata.org/pandas-docs/stable/user_guide/indexing.html#returning-a-view-versus-a-copy\n",
            "  isetter(loc, value[:, i].tolist())\n"
          ]
        }
      ]
    },
    {
      "cell_type": "code",
      "metadata": {
        "id": "IO22-tAXl5RW"
      },
      "source": [
        "from sklearn.tree import DecisionTreeClassifier\n",
        "from sklearn import tree"
      ],
      "execution_count": null,
      "outputs": []
    },
    {
      "cell_type": "code",
      "metadata": {
        "colab": {
          "base_uri": "https://localhost:8080/"
        },
        "id": "rzGfQPNrmCsD",
        "outputId": "db8ddada-b125-497f-983c-372b0a99f629"
      },
      "source": [
        "dat_classifier = DecisionTreeClassifier(criterion='entropy', max_leaf_nodes=30, random_state=0)\n",
        "dat_classifier.fit(X_train, y_train)"
      ],
      "execution_count": null,
      "outputs": [
        {
          "output_type": "execute_result",
          "data": {
            "text/plain": [
              "DecisionTreeClassifier(ccp_alpha=0.0, class_weight=None, criterion='entropy',\n",
              "                       max_depth=None, max_features=None, max_leaf_nodes=30,\n",
              "                       min_impurity_decrease=0.0, min_impurity_split=None,\n",
              "                       min_samples_leaf=1, min_samples_split=2,\n",
              "                       min_weight_fraction_leaf=0.0, presort='deprecated',\n",
              "                       random_state=0, splitter='best')"
            ]
          },
          "metadata": {},
          "execution_count": 33
        }
      ]
    },
    {
      "cell_type": "code",
      "metadata": {
        "id": "Px5zypLHmFHA"
      },
      "source": [
        "y_predicted = dat_classifier.predict(X_test)"
      ],
      "execution_count": null,
      "outputs": []
    },
    {
      "cell_type": "code",
      "metadata": {
        "id": "FTM_nUDGmHdY"
      },
      "source": [
        "from sklearn.metrics import accuracy_score, auc\n",
        "from sklearn.tree import DecisionTreeClassifier, export_graphviz\n",
        "from sklearn import tree\n",
        "from IPython.display import SVG\n",
        "from graphviz import Source\n",
        "from IPython.display import display"
      ],
      "execution_count": null,
      "outputs": []
    },
    {
      "cell_type": "code",
      "metadata": {
        "colab": {
          "base_uri": "https://localhost:8080/",
          "height": 1000
        },
        "id": "AUfA_a8WmNX4",
        "outputId": "844fb651-f4b3-4b67-dbc9-3cd84f14b5ce"
      },
      "source": [
        "graph = Source(tree.export_graphviz(dat_classifier, out_file=None\n",
        "   , feature_names=X.columns, class_names=['0', '1'] \n",
        "   , filled = True))\n",
        "display(SVG(graph.pipe(format='svg')))"
      ],
      "execution_count": null,
      "outputs": [
        {
          "output_type": "display_data",
          "data": {
            "text/plain": [
              "<IPython.core.display.SVG object>"
            ],
            "image/svg+xml": "<svg height=\"1147pt\" viewBox=\"0.00 0.00 2557.00 1147.00\" width=\"2557pt\" xmlns=\"http://www.w3.org/2000/svg\" xmlns:xlink=\"http://www.w3.org/1999/xlink\">\n<g class=\"graph\" id=\"graph0\" transform=\"scale(1 1) rotate(0) translate(4 1143)\">\n<title>Tree</title>\n<polygon fill=\"#ffffff\" points=\"-4,4 -4,-1143 2553,-1143 2553,4 -4,4\" stroke=\"transparent\"/>\n<!-- 0 -->\n<g class=\"node\" id=\"node1\">\n<title>0</title>\n<polygon fill=\"#e99355\" points=\"659.5,-1139 488.5,-1139 488.5,-1056 659.5,-1056 659.5,-1139\" stroke=\"#000000\"/>\n<text fill=\"#000000\" font-family=\"Times,serif\" font-size=\"14.00\" text-anchor=\"middle\" x=\"574\" y=\"-1123.8\">Previously_Insured &lt;= 0.5</text>\n<text fill=\"#000000\" font-family=\"Times,serif\" font-size=\"14.00\" text-anchor=\"middle\" x=\"574\" y=\"-1108.8\">entropy = 0.543</text>\n<text fill=\"#000000\" font-family=\"Times,serif\" font-size=\"14.00\" text-anchor=\"middle\" x=\"574\" y=\"-1093.8\">samples = 255686</text>\n<text fill=\"#000000\" font-family=\"Times,serif\" font-size=\"14.00\" text-anchor=\"middle\" x=\"574\" y=\"-1078.8\">value = [223766, 31920]</text>\n<text fill=\"#000000\" font-family=\"Times,serif\" font-size=\"14.00\" text-anchor=\"middle\" x=\"574\" y=\"-1063.8\">class = 0</text>\n</g>\n<!-- 1 -->\n<g class=\"node\" id=\"node2\">\n<title>1</title>\n<polygon fill=\"#eda774\" points=\"567,-1020 405,-1020 405,-937 567,-937 567,-1020\" stroke=\"#000000\"/>\n<text fill=\"#000000\" font-family=\"Times,serif\" font-size=\"14.00\" text-anchor=\"middle\" x=\"486\" y=\"-1004.8\">Vehicle_Damage &lt;= 0.5</text>\n<text fill=\"#000000\" font-family=\"Times,serif\" font-size=\"14.00\" text-anchor=\"middle\" x=\"486\" y=\"-989.8\">entropy = 0.779</text>\n<text fill=\"#000000\" font-family=\"Times,serif\" font-size=\"14.00\" text-anchor=\"middle\" x=\"486\" y=\"-974.8\">samples = 137982</text>\n<text fill=\"#000000\" font-family=\"Times,serif\" font-size=\"14.00\" text-anchor=\"middle\" x=\"486\" y=\"-959.8\">value = [106177, 31805]</text>\n<text fill=\"#000000\" font-family=\"Times,serif\" font-size=\"14.00\" text-anchor=\"middle\" x=\"486\" y=\"-944.8\">class = 0</text>\n</g>\n<!-- 0&#45;&gt;1 -->\n<g class=\"edge\" id=\"edge1\">\n<title>0-&gt;1</title>\n<path d=\"M543.2219,-1055.8796C536.6949,-1047.0534 529.7401,-1037.6485 523.0092,-1028.5466\" fill=\"none\" stroke=\"#000000\"/>\n<polygon fill=\"#000000\" points=\"525.6695,-1026.2574 516.9095,-1020.2981 520.0412,-1030.4195 525.6695,-1026.2574\" stroke=\"#000000\"/>\n<text fill=\"#000000\" font-family=\"Times,serif\" font-size=\"14.00\" text-anchor=\"middle\" x=\"513.2068\" y=\"-1041.3224\">True</text>\n</g>\n<!-- 2 -->\n<g class=\"node\" id=\"node57\">\n<title>2</title>\n<polygon fill=\"#e58139\" points=\"741,-1020 585,-1020 585,-937 741,-937 741,-1020\" stroke=\"#000000\"/>\n<text fill=\"#000000\" font-family=\"Times,serif\" font-size=\"14.00\" text-anchor=\"middle\" x=\"663\" y=\"-1004.8\">Vehicle_Damage &lt;= 0.5</text>\n<text fill=\"#000000\" font-family=\"Times,serif\" font-size=\"14.00\" text-anchor=\"middle\" x=\"663\" y=\"-989.8\">entropy = 0.011</text>\n<text fill=\"#000000\" font-family=\"Times,serif\" font-size=\"14.00\" text-anchor=\"middle\" x=\"663\" y=\"-974.8\">samples = 117704</text>\n<text fill=\"#000000\" font-family=\"Times,serif\" font-size=\"14.00\" text-anchor=\"middle\" x=\"663\" y=\"-959.8\">value = [117589, 115]</text>\n<text fill=\"#000000\" font-family=\"Times,serif\" font-size=\"14.00\" text-anchor=\"middle\" x=\"663\" y=\"-944.8\">class = 0</text>\n</g>\n<!-- 0&#45;&gt;2 -->\n<g class=\"edge\" id=\"edge56\">\n<title>0-&gt;2</title>\n<path d=\"M605.1279,-1055.8796C611.729,-1047.0534 618.7629,-1037.6485 625.5702,-1028.5466\" fill=\"none\" stroke=\"#000000\"/>\n<polygon fill=\"#000000\" points=\"628.5528,-1030.4024 631.7393,-1020.2981 622.9472,-1026.2099 628.5528,-1030.4024\" stroke=\"#000000\"/>\n<text fill=\"#000000\" font-family=\"Times,serif\" font-size=\"14.00\" text-anchor=\"middle\" x=\"635.3081\" y=\"-1041.342\">False</text>\n</g>\n<!-- 3 -->\n<g class=\"node\" id=\"node3\">\n<title>3</title>\n<polygon fill=\"#e68641\" points=\"307,-901 125,-901 125,-818 307,-818 307,-901\" stroke=\"#000000\"/>\n<text fill=\"#000000\" font-family=\"Times,serif\" font-size=\"14.00\" text-anchor=\"middle\" x=\"216\" y=\"-885.8\">Annual_Premium &lt;= -0.157</text>\n<text fill=\"#000000\" font-family=\"Times,serif\" font-size=\"14.00\" text-anchor=\"middle\" x=\"216\" y=\"-870.8\">entropy = 0.235</text>\n<text fill=\"#000000\" font-family=\"Times,serif\" font-size=\"14.00\" text-anchor=\"middle\" x=\"216\" y=\"-855.8\">samples = 16401</text>\n<text fill=\"#000000\" font-family=\"Times,serif\" font-size=\"14.00\" text-anchor=\"middle\" x=\"216\" y=\"-840.8\">value = [15772, 629]</text>\n<text fill=\"#000000\" font-family=\"Times,serif\" font-size=\"14.00\" text-anchor=\"middle\" x=\"216\" y=\"-825.8\">class = 0</text>\n</g>\n<!-- 1&#45;&gt;3 -->\n<g class=\"edge\" id=\"edge2\">\n<title>1-&gt;3</title>\n<path d=\"M404.9911,-942.7961C377.2388,-930.5645 345.8418,-916.7266 316.7233,-903.8928\" fill=\"none\" stroke=\"#000000\"/>\n<polygon fill=\"#000000\" points=\"317.919,-900.595 307.3567,-899.7646 315.0958,-907.0005 317.919,-900.595\" stroke=\"#000000\"/>\n</g>\n<!-- 4 -->\n<g class=\"node\" id=\"node8\">\n<title>4</title>\n<polygon fill=\"#eeac7d\" points=\"566,-901 412,-901 412,-818 566,-818 566,-901\" stroke=\"#000000\"/>\n<text fill=\"#000000\" font-family=\"Times,serif\" font-size=\"14.00\" text-anchor=\"middle\" x=\"489\" y=\"-885.8\">Age &lt;= -0.796</text>\n<text fill=\"#000000\" font-family=\"Times,serif\" font-size=\"14.00\" text-anchor=\"middle\" x=\"489\" y=\"-870.8\">entropy = 0.821</text>\n<text fill=\"#000000\" font-family=\"Times,serif\" font-size=\"14.00\" text-anchor=\"middle\" x=\"489\" y=\"-855.8\">samples = 121581</text>\n<text fill=\"#000000\" font-family=\"Times,serif\" font-size=\"14.00\" text-anchor=\"middle\" x=\"489\" y=\"-840.8\">value = [90405, 31176]</text>\n<text fill=\"#000000\" font-family=\"Times,serif\" font-size=\"14.00\" text-anchor=\"middle\" x=\"489\" y=\"-825.8\">class = 0</text>\n</g>\n<!-- 1&#45;&gt;4 -->\n<g class=\"edge\" id=\"edge7\">\n<title>1-&gt;4</title>\n<path d=\"M487.0493,-936.8796C487.2559,-928.6838 487.4751,-919.9891 487.689,-911.5013\" fill=\"none\" stroke=\"#000000\"/>\n<polygon fill=\"#000000\" points=\"491.193,-911.3831 487.9463,-901.2981 484.1953,-911.2067 491.193,-911.3831\" stroke=\"#000000\"/>\n</g>\n<!-- 25 -->\n<g class=\"node\" id=\"node4\">\n<title>25</title>\n<polygon fill=\"#e68843\" points=\"132,-774.5 0,-774.5 0,-706.5 132,-706.5 132,-774.5\" stroke=\"#000000\"/>\n<text fill=\"#000000\" font-family=\"Times,serif\" font-size=\"14.00\" text-anchor=\"middle\" x=\"66\" y=\"-759.3\">entropy = 0.286</text>\n<text fill=\"#000000\" font-family=\"Times,serif\" font-size=\"14.00\" text-anchor=\"middle\" x=\"66\" y=\"-744.3\">samples = 7503</text>\n<text fill=\"#000000\" font-family=\"Times,serif\" font-size=\"14.00\" text-anchor=\"middle\" x=\"66\" y=\"-729.3\">value = [7128, 375]</text>\n<text fill=\"#000000\" font-family=\"Times,serif\" font-size=\"14.00\" text-anchor=\"middle\" x=\"66\" y=\"-714.3\">class = 0</text>\n</g>\n<!-- 3&#45;&gt;25 -->\n<g class=\"edge\" id=\"edge3\">\n<title>3-&gt;25</title>\n<path d=\"M163.5373,-817.8796C148.5678,-806.0038 132.2778,-793.0804 117.3741,-781.2568\" fill=\"none\" stroke=\"#000000\"/>\n<polygon fill=\"#000000\" points=\"119.2635,-778.2881 109.2541,-774.8149 114.913,-783.772 119.2635,-778.2881\" stroke=\"#000000\"/>\n</g>\n<!-- 26 -->\n<g class=\"node\" id=\"node5\">\n<title>26</title>\n<polygon fill=\"#e6853f\" points=\"282,-782 150,-782 150,-699 282,-699 282,-782\" stroke=\"#000000\"/>\n<text fill=\"#000000\" font-family=\"Times,serif\" font-size=\"14.00\" text-anchor=\"middle\" x=\"216\" y=\"-766.8\">Age &lt;= 1.383</text>\n<text fill=\"#000000\" font-family=\"Times,serif\" font-size=\"14.00\" text-anchor=\"middle\" x=\"216\" y=\"-751.8\">entropy = 0.187</text>\n<text fill=\"#000000\" font-family=\"Times,serif\" font-size=\"14.00\" text-anchor=\"middle\" x=\"216\" y=\"-736.8\">samples = 8898</text>\n<text fill=\"#000000\" font-family=\"Times,serif\" font-size=\"14.00\" text-anchor=\"middle\" x=\"216\" y=\"-721.8\">value = [8644, 254]</text>\n<text fill=\"#000000\" font-family=\"Times,serif\" font-size=\"14.00\" text-anchor=\"middle\" x=\"216\" y=\"-706.8\">class = 0</text>\n</g>\n<!-- 3&#45;&gt;26 -->\n<g class=\"edge\" id=\"edge4\">\n<title>3-&gt;26</title>\n<path d=\"M216,-817.8796C216,-809.6838 216,-800.9891 216,-792.5013\" fill=\"none\" stroke=\"#000000\"/>\n<polygon fill=\"#000000\" points=\"219.5001,-792.298 216,-782.2981 212.5001,-792.2981 219.5001,-792.298\" stroke=\"#000000\"/>\n</g>\n<!-- 43 -->\n<g class=\"node\" id=\"node6\">\n<title>43</title>\n<polygon fill=\"#e6853f\" points=\"139,-655.5 7,-655.5 7,-587.5 139,-587.5 139,-655.5\" stroke=\"#000000\"/>\n<text fill=\"#000000\" font-family=\"Times,serif\" font-size=\"14.00\" text-anchor=\"middle\" x=\"73\" y=\"-640.3\">entropy = 0.203</text>\n<text fill=\"#000000\" font-family=\"Times,serif\" font-size=\"14.00\" text-anchor=\"middle\" x=\"73\" y=\"-625.3\">samples = 7813</text>\n<text fill=\"#000000\" font-family=\"Times,serif\" font-size=\"14.00\" text-anchor=\"middle\" x=\"73\" y=\"-610.3\">value = [7565, 248]</text>\n<text fill=\"#000000\" font-family=\"Times,serif\" font-size=\"14.00\" text-anchor=\"middle\" x=\"73\" y=\"-595.3\">class = 0</text>\n</g>\n<!-- 26&#45;&gt;43 -->\n<g class=\"edge\" id=\"edge5\">\n<title>26-&gt;43</title>\n<path d=\"M165.9855,-698.8796C151.7147,-687.0038 136.1849,-674.0804 121.9767,-662.2568\" fill=\"none\" stroke=\"#000000\"/>\n<polygon fill=\"#000000\" points=\"124.161,-659.5212 114.2356,-655.8149 119.6834,-664.9019 124.161,-659.5212\" stroke=\"#000000\"/>\n</g>\n<!-- 44 -->\n<g class=\"node\" id=\"node7\">\n<title>44</title>\n<polygon fill=\"#e5823a\" points=\"274.5,-655.5 157.5,-655.5 157.5,-587.5 274.5,-587.5 274.5,-655.5\" stroke=\"#000000\"/>\n<text fill=\"#000000\" font-family=\"Times,serif\" font-size=\"14.00\" text-anchor=\"middle\" x=\"216\" y=\"-640.3\">entropy = 0.049</text>\n<text fill=\"#000000\" font-family=\"Times,serif\" font-size=\"14.00\" text-anchor=\"middle\" x=\"216\" y=\"-625.3\">samples = 1085</text>\n<text fill=\"#000000\" font-family=\"Times,serif\" font-size=\"14.00\" text-anchor=\"middle\" x=\"216\" y=\"-610.3\">value = [1079, 6]</text>\n<text fill=\"#000000\" font-family=\"Times,serif\" font-size=\"14.00\" text-anchor=\"middle\" x=\"216\" y=\"-595.3\">class = 0</text>\n</g>\n<!-- 26&#45;&gt;44 -->\n<g class=\"edge\" id=\"edge6\">\n<title>26-&gt;44</title>\n<path d=\"M216,-698.8796C216,-688.2134 216,-676.7021 216,-665.9015\" fill=\"none\" stroke=\"#000000\"/>\n<polygon fill=\"#000000\" points=\"219.5001,-665.8149 216,-655.8149 212.5001,-665.815 219.5001,-665.8149\" stroke=\"#000000\"/>\n</g>\n<!-- 5 -->\n<g class=\"node\" id=\"node9\">\n<title>5</title>\n<polygon fill=\"#e99355\" points=\"562.5,-782 415.5,-782 415.5,-699 562.5,-699 562.5,-782\" stroke=\"#000000\"/>\n<text fill=\"#000000\" font-family=\"Times,serif\" font-size=\"14.00\" text-anchor=\"middle\" x=\"489\" y=\"-766.8\">Age &lt;= -1.116</text>\n<text fill=\"#000000\" font-family=\"Times,serif\" font-size=\"14.00\" text-anchor=\"middle\" x=\"489\" y=\"-751.8\">entropy = 0.536</text>\n<text fill=\"#000000\" font-family=\"Times,serif\" font-size=\"14.00\" text-anchor=\"middle\" x=\"489\" y=\"-736.8\">samples = 23824</text>\n<text fill=\"#000000\" font-family=\"Times,serif\" font-size=\"14.00\" text-anchor=\"middle\" x=\"489\" y=\"-721.8\">value = [20912, 2912]</text>\n<text fill=\"#000000\" font-family=\"Times,serif\" font-size=\"14.00\" text-anchor=\"middle\" x=\"489\" y=\"-706.8\">class = 0</text>\n</g>\n<!-- 4&#45;&gt;5 -->\n<g class=\"edge\" id=\"edge8\">\n<title>4-&gt;5</title>\n<path d=\"M489,-817.8796C489,-809.6838 489,-800.9891 489,-792.5013\" fill=\"none\" stroke=\"#000000\"/>\n<polygon fill=\"#000000\" points=\"492.5001,-792.298 489,-782.2981 485.5001,-792.2981 492.5001,-792.298\" stroke=\"#000000\"/>\n</g>\n<!-- 6 -->\n<g class=\"node\" id=\"node22\">\n<title>6</title>\n<polygon fill=\"#f0b48a\" points=\"1300.5,-782 1145.5,-782 1145.5,-699 1300.5,-699 1300.5,-782\" stroke=\"#000000\"/>\n<text fill=\"#000000\" font-family=\"Times,serif\" font-size=\"14.00\" text-anchor=\"middle\" x=\"1223\" y=\"-766.8\">Age &lt;= 1.191</text>\n<text fill=\"#000000\" font-family=\"Times,serif\" font-size=\"14.00\" text-anchor=\"middle\" x=\"1223\" y=\"-751.8\">entropy = 0.868</text>\n<text fill=\"#000000\" font-family=\"Times,serif\" font-size=\"14.00\" text-anchor=\"middle\" x=\"1223\" y=\"-736.8\">samples = 97757</text>\n<text fill=\"#000000\" font-family=\"Times,serif\" font-size=\"14.00\" text-anchor=\"middle\" x=\"1223\" y=\"-721.8\">value = [69493, 28264]</text>\n<text fill=\"#000000\" font-family=\"Times,serif\" font-size=\"14.00\" text-anchor=\"middle\" x=\"1223\" y=\"-706.8\">class = 0</text>\n</g>\n<!-- 4&#45;&gt;6 -->\n<g class=\"edge\" id=\"edge21\">\n<title>4-&gt;6</title>\n<path d=\"M566.1801,-822.6965C571.139,-820.9531 576.1053,-819.3649 581,-818 774.0139,-764.1772 1009.956,-747.7331 1135.1467,-742.7095\" fill=\"none\" stroke=\"#000000\"/>\n<polygon fill=\"#000000\" points=\"1135.5814,-746.1954 1145.4389,-742.3123 1135.3114,-739.2006 1135.5814,-746.1954\" stroke=\"#000000\"/>\n</g>\n<!-- 9 -->\n<g class=\"node\" id=\"node10\">\n<title>9</title>\n<polygon fill=\"#e78b49\" points=\"469.5,-663 292.5,-663 292.5,-580 469.5,-580 469.5,-663\" stroke=\"#000000\"/>\n<text fill=\"#000000\" font-family=\"Times,serif\" font-size=\"14.00\" text-anchor=\"middle\" x=\"381\" y=\"-647.8\">Vehicle_Age_1-2yrs &lt;= 0.5</text>\n<text fill=\"#000000\" font-family=\"Times,serif\" font-size=\"14.00\" text-anchor=\"middle\" x=\"381\" y=\"-632.8\">entropy = 0.387</text>\n<text fill=\"#000000\" font-family=\"Times,serif\" font-size=\"14.00\" text-anchor=\"middle\" x=\"381\" y=\"-617.8\">samples = 6547</text>\n<text fill=\"#000000\" font-family=\"Times,serif\" font-size=\"14.00\" text-anchor=\"middle\" x=\"381\" y=\"-602.8\">value = [6052, 495]</text>\n<text fill=\"#000000\" font-family=\"Times,serif\" font-size=\"14.00\" text-anchor=\"middle\" x=\"381\" y=\"-587.8\">class = 0</text>\n</g>\n<!-- 5&#45;&gt;9 -->\n<g class=\"edge\" id=\"edge9\">\n<title>5-&gt;9</title>\n<path d=\"M451.2268,-698.8796C442.9713,-689.7832 434.158,-680.0722 425.6626,-670.7116\" fill=\"none\" stroke=\"#000000\"/>\n<polygon fill=\"#000000\" points=\"428.2467,-668.3509 418.9344,-663.2981 423.0632,-673.0553 428.2467,-668.3509\" stroke=\"#000000\"/>\n</g>\n<!-- 10 -->\n<g class=\"node\" id=\"node15\">\n<title>10</title>\n<polygon fill=\"#e99559\" points=\"664.5,-663 487.5,-663 487.5,-580 664.5,-580 664.5,-663\" stroke=\"#000000\"/>\n<text fill=\"#000000\" font-family=\"Times,serif\" font-size=\"14.00\" text-anchor=\"middle\" x=\"576\" y=\"-647.8\">Vehicle_Age_1-2yrs &lt;= 0.5</text>\n<text fill=\"#000000\" font-family=\"Times,serif\" font-size=\"14.00\" text-anchor=\"middle\" x=\"576\" y=\"-632.8\">entropy = 0.584</text>\n<text fill=\"#000000\" font-family=\"Times,serif\" font-size=\"14.00\" text-anchor=\"middle\" x=\"576\" y=\"-617.8\">samples = 17277</text>\n<text fill=\"#000000\" font-family=\"Times,serif\" font-size=\"14.00\" text-anchor=\"middle\" x=\"576\" y=\"-602.8\">value = [14860, 2417]</text>\n<text fill=\"#000000\" font-family=\"Times,serif\" font-size=\"14.00\" text-anchor=\"middle\" x=\"576\" y=\"-587.8\">class = 0</text>\n</g>\n<!-- 5&#45;&gt;10 -->\n<g class=\"edge\" id=\"edge14\">\n<title>5-&gt;10</title>\n<path d=\"M519.4284,-698.8796C525.8811,-690.0534 532.757,-680.6485 539.4113,-671.5466\" fill=\"none\" stroke=\"#000000\"/>\n<polygon fill=\"#000000\" points=\"542.3653,-673.4364 545.4417,-663.2981 536.7144,-669.3051 542.3653,-673.4364\" stroke=\"#000000\"/>\n</g>\n<!-- 21 -->\n<g class=\"node\" id=\"node11\">\n<title>21</title>\n<polygon fill=\"#e78a47\" points=\"299,-544 167,-544 167,-461 299,-461 299,-544\" stroke=\"#000000\"/>\n<text fill=\"#000000\" font-family=\"Times,serif\" font-size=\"14.00\" text-anchor=\"middle\" x=\"233\" y=\"-528.8\">Age &lt;= -1.18</text>\n<text fill=\"#000000\" font-family=\"Times,serif\" font-size=\"14.00\" text-anchor=\"middle\" x=\"233\" y=\"-513.8\">entropy = 0.348</text>\n<text fill=\"#000000\" font-family=\"Times,serif\" font-size=\"14.00\" text-anchor=\"middle\" x=\"233\" y=\"-498.8\">samples = 5986</text>\n<text fill=\"#000000\" font-family=\"Times,serif\" font-size=\"14.00\" text-anchor=\"middle\" x=\"233\" y=\"-483.8\">value = [5596, 390]</text>\n<text fill=\"#000000\" font-family=\"Times,serif\" font-size=\"14.00\" text-anchor=\"middle\" x=\"233\" y=\"-468.8\">class = 0</text>\n</g>\n<!-- 9&#45;&gt;21 -->\n<g class=\"edge\" id=\"edge10\">\n<title>9-&gt;21</title>\n<path d=\"M329.2368,-579.8796C317.4072,-570.368 304.7419,-560.1843 292.6129,-550.432\" fill=\"none\" stroke=\"#000000\"/>\n<polygon fill=\"#000000\" points=\"294.7204,-547.6355 284.734,-544.0969 290.3341,-553.0908 294.7204,-547.6355\" stroke=\"#000000\"/>\n</g>\n<!-- 22 -->\n<g class=\"node\" id=\"node14\">\n<title>22</title>\n<polygon fill=\"#eb9e67\" points=\"443.5,-536.5 318.5,-536.5 318.5,-468.5 443.5,-468.5 443.5,-536.5\" stroke=\"#000000\"/>\n<text fill=\"#000000\" font-family=\"Times,serif\" font-size=\"14.00\" text-anchor=\"middle\" x=\"381\" y=\"-521.3\">entropy = 0.696</text>\n<text fill=\"#000000\" font-family=\"Times,serif\" font-size=\"14.00\" text-anchor=\"middle\" x=\"381\" y=\"-506.3\">samples = 561</text>\n<text fill=\"#000000\" font-family=\"Times,serif\" font-size=\"14.00\" text-anchor=\"middle\" x=\"381\" y=\"-491.3\">value = [456, 105]</text>\n<text fill=\"#000000\" font-family=\"Times,serif\" font-size=\"14.00\" text-anchor=\"middle\" x=\"381\" y=\"-476.3\">class = 0</text>\n</g>\n<!-- 9&#45;&gt;22 -->\n<g class=\"edge\" id=\"edge13\">\n<title>9-&gt;22</title>\n<path d=\"M381,-579.8796C381,-569.2134 381,-557.7021 381,-546.9015\" fill=\"none\" stroke=\"#000000\"/>\n<polygon fill=\"#000000\" points=\"384.5001,-546.8149 381,-536.8149 377.5001,-546.815 384.5001,-546.8149\" stroke=\"#000000\"/>\n</g>\n<!-- 47 -->\n<g class=\"node\" id=\"node12\">\n<title>47</title>\n<polygon fill=\"#e68642\" points=\"149.5,-417.5 24.5,-417.5 24.5,-349.5 149.5,-349.5 149.5,-417.5\" stroke=\"#000000\"/>\n<text fill=\"#000000\" font-family=\"Times,serif\" font-size=\"14.00\" text-anchor=\"middle\" x=\"87\" y=\"-402.3\">entropy = 0.249</text>\n<text fill=\"#000000\" font-family=\"Times,serif\" font-size=\"14.00\" text-anchor=\"middle\" x=\"87\" y=\"-387.3\">samples = 1903</text>\n<text fill=\"#000000\" font-family=\"Times,serif\" font-size=\"14.00\" text-anchor=\"middle\" x=\"87\" y=\"-372.3\">value = [1824, 79]</text>\n<text fill=\"#000000\" font-family=\"Times,serif\" font-size=\"14.00\" text-anchor=\"middle\" x=\"87\" y=\"-357.3\">class = 0</text>\n</g>\n<!-- 21&#45;&gt;47 -->\n<g class=\"edge\" id=\"edge11\">\n<title>21-&gt;47</title>\n<path d=\"M181.9363,-460.8796C167.366,-449.0038 151.5104,-436.0804 137.0042,-424.2568\" fill=\"none\" stroke=\"#000000\"/>\n<polygon fill=\"#000000\" points=\"139.0634,-421.4199 129.1007,-417.8149 134.6408,-426.8459 139.0634,-421.4199\" stroke=\"#000000\"/>\n</g>\n<!-- 48 -->\n<g class=\"node\" id=\"node13\">\n<title>48</title>\n<polygon fill=\"#e78b49\" points=\"298.5,-417.5 167.5,-417.5 167.5,-349.5 298.5,-349.5 298.5,-417.5\" stroke=\"#000000\"/>\n<text fill=\"#000000\" font-family=\"Times,serif\" font-size=\"14.00\" text-anchor=\"middle\" x=\"233\" y=\"-402.3\">entropy = 0.389</text>\n<text fill=\"#000000\" font-family=\"Times,serif\" font-size=\"14.00\" text-anchor=\"middle\" x=\"233\" y=\"-387.3\">samples = 4083</text>\n<text fill=\"#000000\" font-family=\"Times,serif\" font-size=\"14.00\" text-anchor=\"middle\" x=\"233\" y=\"-372.3\">value = [3772, 311]</text>\n<text fill=\"#000000\" font-family=\"Times,serif\" font-size=\"14.00\" text-anchor=\"middle\" x=\"233\" y=\"-357.3\">class = 0</text>\n</g>\n<!-- 21&#45;&gt;48 -->\n<g class=\"edge\" id=\"edge12\">\n<title>21-&gt;48</title>\n<path d=\"M233,-460.8796C233,-450.2134 233,-438.7021 233,-427.9015\" fill=\"none\" stroke=\"#000000\"/>\n<polygon fill=\"#000000\" points=\"236.5001,-427.8149 233,-417.8149 229.5001,-427.815 236.5001,-427.8149\" stroke=\"#000000\"/>\n</g>\n<!-- 19 -->\n<g class=\"node\" id=\"node16\">\n<title>19</title>\n<polygon fill=\"#e99457\" points=\"609.5,-544 462.5,-544 462.5,-461 609.5,-461 609.5,-544\" stroke=\"#000000\"/>\n<text fill=\"#000000\" font-family=\"Times,serif\" font-size=\"14.00\" text-anchor=\"middle\" x=\"536\" y=\"-528.8\">Gender &lt;= 0.5</text>\n<text fill=\"#000000\" font-family=\"Times,serif\" font-size=\"14.00\" text-anchor=\"middle\" x=\"536\" y=\"-513.8\">entropy = 0.562</text>\n<text fill=\"#000000\" font-family=\"Times,serif\" font-size=\"14.00\" text-anchor=\"middle\" x=\"536\" y=\"-498.8\">samples = 16144</text>\n<text fill=\"#000000\" font-family=\"Times,serif\" font-size=\"14.00\" text-anchor=\"middle\" x=\"536\" y=\"-483.8\">value = [14016, 2128]</text>\n<text fill=\"#000000\" font-family=\"Times,serif\" font-size=\"14.00\" text-anchor=\"middle\" x=\"536\" y=\"-468.8\">class = 0</text>\n</g>\n<!-- 10&#45;&gt;19 -->\n<g class=\"edge\" id=\"edge15\">\n<title>10-&gt;19</title>\n<path d=\"M562.0099,-579.8796C559.1945,-571.5037 556.2039,-562.6067 553.2914,-553.942\" fill=\"none\" stroke=\"#000000\"/>\n<polygon fill=\"#000000\" points=\"556.5536,-552.6617 550.0498,-544.2981 549.9184,-554.8921 556.5536,-552.6617\" stroke=\"#000000\"/>\n</g>\n<!-- 20 -->\n<g class=\"node\" id=\"node21\">\n<title>20</title>\n<polygon fill=\"#eeac7d\" points=\"752.5,-536.5 627.5,-536.5 627.5,-468.5 752.5,-468.5 752.5,-536.5\" stroke=\"#000000\"/>\n<text fill=\"#000000\" font-family=\"Times,serif\" font-size=\"14.00\" text-anchor=\"middle\" x=\"690\" y=\"-521.3\">entropy = 0.819</text>\n<text fill=\"#000000\" font-family=\"Times,serif\" font-size=\"14.00\" text-anchor=\"middle\" x=\"690\" y=\"-506.3\">samples = 1133</text>\n<text fill=\"#000000\" font-family=\"Times,serif\" font-size=\"14.00\" text-anchor=\"middle\" x=\"690\" y=\"-491.3\">value = [844, 289]</text>\n<text fill=\"#000000\" font-family=\"Times,serif\" font-size=\"14.00\" text-anchor=\"middle\" x=\"690\" y=\"-476.3\">class = 0</text>\n</g>\n<!-- 10&#45;&gt;20 -->\n<g class=\"edge\" id=\"edge20\">\n<title>10-&gt;20</title>\n<path d=\"M615.8717,-579.8796C626.9324,-568.3337 638.9418,-555.7976 650.0094,-544.2446\" fill=\"none\" stroke=\"#000000\"/>\n<polygon fill=\"#000000\" points=\"652.7365,-546.4573 657.1269,-536.8149 647.6817,-541.6149 652.7365,-546.4573\" stroke=\"#000000\"/>\n</g>\n<!-- 23 -->\n<g class=\"node\" id=\"node17\">\n<title>23</title>\n<polygon fill=\"#e89152\" points=\"449,-417.5 317,-417.5 317,-349.5 449,-349.5 449,-417.5\" stroke=\"#000000\"/>\n<text fill=\"#000000\" font-family=\"Times,serif\" font-size=\"14.00\" text-anchor=\"middle\" x=\"383\" y=\"-402.3\">entropy = 0.506</text>\n<text fill=\"#000000\" font-family=\"Times,serif\" font-size=\"14.00\" text-anchor=\"middle\" x=\"383\" y=\"-387.3\">samples = 8736</text>\n<text fill=\"#000000\" font-family=\"Times,serif\" font-size=\"14.00\" text-anchor=\"middle\" x=\"383\" y=\"-372.3\">value = [7757, 979]</text>\n<text fill=\"#000000\" font-family=\"Times,serif\" font-size=\"14.00\" text-anchor=\"middle\" x=\"383\" y=\"-357.3\">class = 0</text>\n</g>\n<!-- 19&#45;&gt;23 -->\n<g class=\"edge\" id=\"edge16\">\n<title>19-&gt;23</title>\n<path d=\"M482.488,-460.8796C467.2192,-449.0038 450.6034,-436.0804 435.4016,-424.2568\" fill=\"none\" stroke=\"#000000\"/>\n<polygon fill=\"#000000\" points=\"437.1616,-421.1916 427.1192,-417.8149 432.8639,-426.7171 437.1616,-421.1916\" stroke=\"#000000\"/>\n</g>\n<!-- 24 -->\n<g class=\"node\" id=\"node18\">\n<title>24</title>\n<polygon fill=\"#ea985d\" points=\"606.5,-425 467.5,-425 467.5,-342 606.5,-342 606.5,-425\" stroke=\"#000000\"/>\n<text fill=\"#000000\" font-family=\"Times,serif\" font-size=\"14.00\" text-anchor=\"middle\" x=\"537\" y=\"-409.8\">Age &lt;= -1.052</text>\n<text fill=\"#000000\" font-family=\"Times,serif\" font-size=\"14.00\" text-anchor=\"middle\" x=\"537\" y=\"-394.8\">entropy = 0.622</text>\n<text fill=\"#000000\" font-family=\"Times,serif\" font-size=\"14.00\" text-anchor=\"middle\" x=\"537\" y=\"-379.8\">samples = 7408</text>\n<text fill=\"#000000\" font-family=\"Times,serif\" font-size=\"14.00\" text-anchor=\"middle\" x=\"537\" y=\"-364.8\">value = [6259, 1149]</text>\n<text fill=\"#000000\" font-family=\"Times,serif\" font-size=\"14.00\" text-anchor=\"middle\" x=\"537\" y=\"-349.8\">class = 0</text>\n</g>\n<!-- 19&#45;&gt;24 -->\n<g class=\"edge\" id=\"edge17\">\n<title>19-&gt;24</title>\n<path d=\"M536.3498,-460.8796C536.4186,-452.6838 536.4917,-443.9891 536.563,-435.5013\" fill=\"none\" stroke=\"#000000\"/>\n<polygon fill=\"#000000\" points=\"540.0645,-435.3272 536.6488,-425.2981 533.0648,-435.2683 540.0645,-435.3272\" stroke=\"#000000\"/>\n</g>\n<!-- 39 -->\n<g class=\"node\" id=\"node19\">\n<title>39</title>\n<polygon fill=\"#e89152\" points=\"453,-298.5 321,-298.5 321,-230.5 453,-230.5 453,-298.5\" stroke=\"#000000\"/>\n<text fill=\"#000000\" font-family=\"Times,serif\" font-size=\"14.00\" text-anchor=\"middle\" x=\"387\" y=\"-283.3\">entropy = 0.51</text>\n<text fill=\"#000000\" font-family=\"Times,serif\" font-size=\"14.00\" text-anchor=\"middle\" x=\"387\" y=\"-268.3\">samples = 1828</text>\n<text fill=\"#000000\" font-family=\"Times,serif\" font-size=\"14.00\" text-anchor=\"middle\" x=\"387\" y=\"-253.3\">value = [1621, 207]</text>\n<text fill=\"#000000\" font-family=\"Times,serif\" font-size=\"14.00\" text-anchor=\"middle\" x=\"387\" y=\"-238.3\">class = 0</text>\n</g>\n<!-- 24&#45;&gt;39 -->\n<g class=\"edge\" id=\"edge18\">\n<title>24-&gt;39</title>\n<path d=\"M484.5373,-341.8796C469.5678,-330.0038 453.2778,-317.0804 438.3741,-305.2568\" fill=\"none\" stroke=\"#000000\"/>\n<polygon fill=\"#000000\" points=\"440.2635,-302.2881 430.2541,-298.8149 435.913,-307.772 440.2635,-302.2881\" stroke=\"#000000\"/>\n</g>\n<!-- 40 -->\n<g class=\"node\" id=\"node20\">\n<title>40</title>\n<polygon fill=\"#ea9b61\" points=\"603,-298.5 471,-298.5 471,-230.5 603,-230.5 603,-298.5\" stroke=\"#000000\"/>\n<text fill=\"#000000\" font-family=\"Times,serif\" font-size=\"14.00\" text-anchor=\"middle\" x=\"537\" y=\"-283.3\">entropy = 0.655</text>\n<text fill=\"#000000\" font-family=\"Times,serif\" font-size=\"14.00\" text-anchor=\"middle\" x=\"537\" y=\"-268.3\">samples = 5580</text>\n<text fill=\"#000000\" font-family=\"Times,serif\" font-size=\"14.00\" text-anchor=\"middle\" x=\"537\" y=\"-253.3\">value = [4638, 942]</text>\n<text fill=\"#000000\" font-family=\"Times,serif\" font-size=\"14.00\" text-anchor=\"middle\" x=\"537\" y=\"-238.3\">class = 0</text>\n</g>\n<!-- 24&#45;&gt;40 -->\n<g class=\"edge\" id=\"edge19\">\n<title>24-&gt;40</title>\n<path d=\"M537,-341.8796C537,-331.2134 537,-319.7021 537,-308.9015\" fill=\"none\" stroke=\"#000000\"/>\n<polygon fill=\"#000000\" points=\"540.5001,-308.8149 537,-298.8149 533.5001,-308.815 540.5001,-308.8149\" stroke=\"#000000\"/>\n</g>\n<!-- 7 -->\n<g class=\"node\" id=\"node23\">\n<title>7</title>\n<polygon fill=\"#f1bc96\" points=\"1300.5,-663 1145.5,-663 1145.5,-580 1300.5,-580 1300.5,-663\" stroke=\"#000000\"/>\n<text fill=\"#000000\" font-family=\"Times,serif\" font-size=\"14.00\" text-anchor=\"middle\" x=\"1223\" y=\"-647.8\">Age &lt;= 0.614</text>\n<text fill=\"#000000\" font-family=\"Times,serif\" font-size=\"14.00\" text-anchor=\"middle\" x=\"1223\" y=\"-632.8\">entropy = 0.903</text>\n<text fill=\"#000000\" font-family=\"Times,serif\" font-size=\"14.00\" text-anchor=\"middle\" x=\"1223\" y=\"-617.8\">samples = 76024</text>\n<text fill=\"#000000\" font-family=\"Times,serif\" font-size=\"14.00\" text-anchor=\"middle\" x=\"1223\" y=\"-602.8\">value = [51787, 24237]</text>\n<text fill=\"#000000\" font-family=\"Times,serif\" font-size=\"14.00\" text-anchor=\"middle\" x=\"1223\" y=\"-587.8\">class = 0</text>\n</g>\n<!-- 6&#45;&gt;7 -->\n<g class=\"edge\" id=\"edge22\">\n<title>6-&gt;7</title>\n<path d=\"M1223,-698.8796C1223,-690.6838 1223,-681.9891 1223,-673.5013\" fill=\"none\" stroke=\"#000000\"/>\n<polygon fill=\"#000000\" points=\"1226.5001,-673.298 1223,-663.2981 1219.5001,-673.2981 1226.5001,-673.298\" stroke=\"#000000\"/>\n</g>\n<!-- 8 -->\n<g class=\"node\" id=\"node46\">\n<title>8</title>\n<polygon fill=\"#eb9e66\" points=\"1982.5,-663 1835.5,-663 1835.5,-580 1982.5,-580 1982.5,-663\" stroke=\"#000000\"/>\n<text fill=\"#000000\" font-family=\"Times,serif\" font-size=\"14.00\" text-anchor=\"middle\" x=\"1909\" y=\"-647.8\">Age &lt;= 1.831</text>\n<text fill=\"#000000\" font-family=\"Times,serif\" font-size=\"14.00\" text-anchor=\"middle\" x=\"1909\" y=\"-632.8\">entropy = 0.692</text>\n<text fill=\"#000000\" font-family=\"Times,serif\" font-size=\"14.00\" text-anchor=\"middle\" x=\"1909\" y=\"-617.8\">samples = 21733</text>\n<text fill=\"#000000\" font-family=\"Times,serif\" font-size=\"14.00\" text-anchor=\"middle\" x=\"1909\" y=\"-602.8\">value = [17706, 4027]</text>\n<text fill=\"#000000\" font-family=\"Times,serif\" font-size=\"14.00\" text-anchor=\"middle\" x=\"1909\" y=\"-587.8\">class = 0</text>\n</g>\n<!-- 6&#45;&gt;8 -->\n<g class=\"edge\" id=\"edge45\">\n<title>6-&gt;8</title>\n<path d=\"M1300.6919,-727.0228C1430.6925,-704.4717 1691.2002,-659.2816 1825.179,-636.0404\" fill=\"none\" stroke=\"#000000\"/>\n<polygon fill=\"#000000\" points=\"1826.1335,-639.4272 1835.3881,-634.2694 1824.937,-632.5302 1826.1335,-639.4272\" stroke=\"#000000\"/>\n</g>\n<!-- 13 -->\n<g class=\"node\" id=\"node24\">\n<title>13</title>\n<polygon fill=\"#f2c09c\" points=\"1180.5,-544 1025.5,-544 1025.5,-461 1180.5,-461 1180.5,-544\" stroke=\"#000000\"/>\n<text fill=\"#000000\" font-family=\"Times,serif\" font-size=\"14.00\" text-anchor=\"middle\" x=\"1103\" y=\"-528.8\">Age &lt;= -0.668</text>\n<text fill=\"#000000\" font-family=\"Times,serif\" font-size=\"14.00\" text-anchor=\"middle\" x=\"1103\" y=\"-513.8\">entropy = 0.917</text>\n<text fill=\"#000000\" font-family=\"Times,serif\" font-size=\"14.00\" text-anchor=\"middle\" x=\"1103\" y=\"-498.8\">samples = 55307</text>\n<text fill=\"#000000\" font-family=\"Times,serif\" font-size=\"14.00\" text-anchor=\"middle\" x=\"1103\" y=\"-483.8\">value = [36932, 18375]</text>\n<text fill=\"#000000\" font-family=\"Times,serif\" font-size=\"14.00\" text-anchor=\"middle\" x=\"1103\" y=\"-468.8\">class = 0</text>\n</g>\n<!-- 7&#45;&gt;13 -->\n<g class=\"edge\" id=\"edge23\">\n<title>7-&gt;13</title>\n<path d=\"M1181.0298,-579.8796C1171.7662,-570.6931 1161.8704,-560.8798 1152.3448,-551.4336\" fill=\"none\" stroke=\"#000000\"/>\n<polygon fill=\"#000000\" points=\"1154.7144,-548.8543 1145.1493,-544.2981 1149.7854,-553.8247 1154.7144,-548.8543\" stroke=\"#000000\"/>\n</g>\n<!-- 14 -->\n<g class=\"node\" id=\"node37\">\n<title>14</title>\n<polygon fill=\"#efb387\" points=\"1535.5,-544 1358.5,-544 1358.5,-461 1535.5,-461 1535.5,-544\" stroke=\"#000000\"/>\n<text fill=\"#000000\" font-family=\"Times,serif\" font-size=\"14.00\" text-anchor=\"middle\" x=\"1447\" y=\"-528.8\">Vehicle_Age_1-2yrs &lt;= 0.5</text>\n<text fill=\"#000000\" font-family=\"Times,serif\" font-size=\"14.00\" text-anchor=\"middle\" x=\"1447\" y=\"-513.8\">entropy = 0.859</text>\n<text fill=\"#000000\" font-family=\"Times,serif\" font-size=\"14.00\" text-anchor=\"middle\" x=\"1447\" y=\"-498.8\">samples = 20717</text>\n<text fill=\"#000000\" font-family=\"Times,serif\" font-size=\"14.00\" text-anchor=\"middle\" x=\"1447\" y=\"-483.8\">value = [14855, 5862]</text>\n<text fill=\"#000000\" font-family=\"Times,serif\" font-size=\"14.00\" text-anchor=\"middle\" x=\"1447\" y=\"-468.8\">class = 0</text>\n</g>\n<!-- 7&#45;&gt;14 -->\n<g class=\"edge\" id=\"edge36\">\n<title>7-&gt;14</title>\n<path d=\"M1300.7157,-580.2135C1319.7823,-570.0844 1340.3159,-559.1759 1359.796,-548.8271\" fill=\"none\" stroke=\"#000000\"/>\n<polygon fill=\"#000000\" points=\"1361.4739,-551.899 1368.663,-544.1165 1358.1898,-545.7172 1361.4739,-551.899\" stroke=\"#000000\"/>\n</g>\n<!-- 17 -->\n<g class=\"node\" id=\"node25\">\n<title>17</title>\n<polygon fill=\"#eda876\" points=\"915,-425 747,-425 747,-342 915,-342 915,-425\" stroke=\"#000000\"/>\n<text fill=\"#000000\" font-family=\"Times,serif\" font-size=\"14.00\" text-anchor=\"middle\" x=\"831\" y=\"-409.8\">Vehicle_Age_&lt;1yr &lt;= 0.5</text>\n<text fill=\"#000000\" font-family=\"Times,serif\" font-size=\"14.00\" text-anchor=\"middle\" x=\"831\" y=\"-394.8\">entropy = 0.787</text>\n<text fill=\"#000000\" font-family=\"Times,serif\" font-size=\"14.00\" text-anchor=\"middle\" x=\"831\" y=\"-379.8\">samples = 2994</text>\n<text fill=\"#000000\" font-family=\"Times,serif\" font-size=\"14.00\" text-anchor=\"middle\" x=\"831\" y=\"-364.8\">value = [2290, 704]</text>\n<text fill=\"#000000\" font-family=\"Times,serif\" font-size=\"14.00\" text-anchor=\"middle\" x=\"831\" y=\"-349.8\">class = 0</text>\n</g>\n<!-- 13&#45;&gt;17 -->\n<g class=\"edge\" id=\"edge24\">\n<title>13-&gt;17</title>\n<path d=\"M1025.4197,-468.5586C993.9869,-454.8068 957.4136,-438.806 924.5243,-424.4169\" fill=\"none\" stroke=\"#000000\"/>\n<polygon fill=\"#000000\" points=\"925.9174,-421.2061 915.3529,-420.4044 923.1116,-427.6192 925.9174,-421.2061\" stroke=\"#000000\"/>\n</g>\n<!-- 18 -->\n<g class=\"node\" id=\"node28\">\n<title>18</title>\n<polygon fill=\"#f2c19e\" points=\"1180.5,-425 1025.5,-425 1025.5,-342 1180.5,-342 1180.5,-425\" stroke=\"#000000\"/>\n<text fill=\"#000000\" font-family=\"Times,serif\" font-size=\"14.00\" text-anchor=\"middle\" x=\"1103\" y=\"-409.8\">Age &lt;= -0.155</text>\n<text fill=\"#000000\" font-family=\"Times,serif\" font-size=\"14.00\" text-anchor=\"middle\" x=\"1103\" y=\"-394.8\">entropy = 0.923</text>\n<text fill=\"#000000\" font-family=\"Times,serif\" font-size=\"14.00\" text-anchor=\"middle\" x=\"1103\" y=\"-379.8\">samples = 52313</text>\n<text fill=\"#000000\" font-family=\"Times,serif\" font-size=\"14.00\" text-anchor=\"middle\" x=\"1103\" y=\"-364.8\">value = [34642, 17671]</text>\n<text fill=\"#000000\" font-family=\"Times,serif\" font-size=\"14.00\" text-anchor=\"middle\" x=\"1103\" y=\"-349.8\">class = 0</text>\n</g>\n<!-- 13&#45;&gt;18 -->\n<g class=\"edge\" id=\"edge27\">\n<title>13-&gt;18</title>\n<path d=\"M1103,-460.8796C1103,-452.6838 1103,-443.9891 1103,-435.5013\" fill=\"none\" stroke=\"#000000\"/>\n<polygon fill=\"#000000\" points=\"1106.5001,-435.298 1103,-425.2981 1099.5001,-435.2981 1106.5001,-435.298\" stroke=\"#000000\"/>\n</g>\n<!-- 33 -->\n<g class=\"node\" id=\"node26\">\n<title>33</title>\n<polygon fill=\"#f2c29f\" points=\"746.5,-298.5 621.5,-298.5 621.5,-230.5 746.5,-230.5 746.5,-298.5\" stroke=\"#000000\"/>\n<text fill=\"#000000\" font-family=\"Times,serif\" font-size=\"14.00\" text-anchor=\"middle\" x=\"684\" y=\"-283.3\">entropy = 0.924</text>\n<text fill=\"#000000\" font-family=\"Times,serif\" font-size=\"14.00\" text-anchor=\"middle\" x=\"684\" y=\"-268.3\">samples = 645</text>\n<text fill=\"#000000\" font-family=\"Times,serif\" font-size=\"14.00\" text-anchor=\"middle\" x=\"684\" y=\"-253.3\">value = [426, 219]</text>\n<text fill=\"#000000\" font-family=\"Times,serif\" font-size=\"14.00\" text-anchor=\"middle\" x=\"684\" y=\"-238.3\">class = 0</text>\n</g>\n<!-- 17&#45;&gt;33 -->\n<g class=\"edge\" id=\"edge25\">\n<title>17-&gt;33</title>\n<path d=\"M779.5865,-341.8796C764.9165,-330.0038 748.9523,-317.0804 734.3467,-305.2568\" fill=\"none\" stroke=\"#000000\"/>\n<polygon fill=\"#000000\" points=\"736.3637,-302.3866 726.389,-298.8149 731.9593,-307.8273 736.3637,-302.3866\" stroke=\"#000000\"/>\n</g>\n<!-- 34 -->\n<g class=\"node\" id=\"node27\">\n<title>34</title>\n<polygon fill=\"#eca26d\" points=\"897,-298.5 765,-298.5 765,-230.5 897,-230.5 897,-298.5\" stroke=\"#000000\"/>\n<text fill=\"#000000\" font-family=\"Times,serif\" font-size=\"14.00\" text-anchor=\"middle\" x=\"831\" y=\"-283.3\">entropy = 0.735</text>\n<text fill=\"#000000\" font-family=\"Times,serif\" font-size=\"14.00\" text-anchor=\"middle\" x=\"831\" y=\"-268.3\">samples = 2349</text>\n<text fill=\"#000000\" font-family=\"Times,serif\" font-size=\"14.00\" text-anchor=\"middle\" x=\"831\" y=\"-253.3\">value = [1864, 485]</text>\n<text fill=\"#000000\" font-family=\"Times,serif\" font-size=\"14.00\" text-anchor=\"middle\" x=\"831\" y=\"-238.3\">class = 0</text>\n</g>\n<!-- 17&#45;&gt;34 -->\n<g class=\"edge\" id=\"edge26\">\n<title>17-&gt;34</title>\n<path d=\"M831,-341.8796C831,-331.2134 831,-319.7021 831,-308.9015\" fill=\"none\" stroke=\"#000000\"/>\n<polygon fill=\"#000000\" points=\"834.5001,-308.8149 831,-298.8149 827.5001,-308.815 834.5001,-308.8149\" stroke=\"#000000\"/>\n</g>\n<!-- 27 -->\n<g class=\"node\" id=\"node29\">\n<title>27</title>\n<polygon fill=\"#f4c8a9\" points=\"1092.5,-306 915.5,-306 915.5,-223 1092.5,-223 1092.5,-306\" stroke=\"#000000\"/>\n<text fill=\"#000000\" font-family=\"Times,serif\" font-size=\"14.00\" text-anchor=\"middle\" x=\"1004\" y=\"-290.8\">Vehicle_Age_1-2yrs &lt;= 0.5</text>\n<text fill=\"#000000\" font-family=\"Times,serif\" font-size=\"14.00\" text-anchor=\"middle\" x=\"1004\" y=\"-275.8\">entropy = 0.944</text>\n<text fill=\"#000000\" font-family=\"Times,serif\" font-size=\"14.00\" text-anchor=\"middle\" x=\"1004\" y=\"-260.8\">samples = 14138</text>\n<text fill=\"#000000\" font-family=\"Times,serif\" font-size=\"14.00\" text-anchor=\"middle\" x=\"1004\" y=\"-245.8\">value = [9021, 5117]</text>\n<text fill=\"#000000\" font-family=\"Times,serif\" font-size=\"14.00\" text-anchor=\"middle\" x=\"1004\" y=\"-230.8\">class = 0</text>\n</g>\n<!-- 18&#45;&gt;27 -->\n<g class=\"edge\" id=\"edge28\">\n<title>18-&gt;27</title>\n<path d=\"M1068.3746,-341.8796C1060.882,-332.8733 1052.8881,-323.2644 1045.1721,-313.9897\" fill=\"none\" stroke=\"#000000\"/>\n<polygon fill=\"#000000\" points=\"1047.8593,-311.7472 1038.7732,-306.2981 1042.4781,-316.224 1047.8593,-311.7472\" stroke=\"#000000\"/>\n</g>\n<!-- 28 -->\n<g class=\"node\" id=\"node34\">\n<title>28</title>\n<polygon fill=\"#f2bf9a\" points=\"1278,-306 1110,-306 1110,-223 1278,-223 1278,-306\" stroke=\"#000000\"/>\n<text fill=\"#000000\" font-family=\"Times,serif\" font-size=\"14.00\" text-anchor=\"middle\" x=\"1194\" y=\"-290.8\">Vehicle_Age_&lt;1yr &lt;= 0.5</text>\n<text fill=\"#000000\" font-family=\"Times,serif\" font-size=\"14.00\" text-anchor=\"middle\" x=\"1194\" y=\"-275.8\">entropy = 0.914</text>\n<text fill=\"#000000\" font-family=\"Times,serif\" font-size=\"14.00\" text-anchor=\"middle\" x=\"1194\" y=\"-260.8\">samples = 38175</text>\n<text fill=\"#000000\" font-family=\"Times,serif\" font-size=\"14.00\" text-anchor=\"middle\" x=\"1194\" y=\"-245.8\">value = [25621, 12554]</text>\n<text fill=\"#000000\" font-family=\"Times,serif\" font-size=\"14.00\" text-anchor=\"middle\" x=\"1194\" y=\"-230.8\">class = 0</text>\n</g>\n<!-- 18&#45;&gt;28 -->\n<g class=\"edge\" id=\"edge33\">\n<title>18-&gt;28</title>\n<path d=\"M1134.8274,-341.8796C1141.6457,-332.9633 1148.9156,-323.4565 1155.9421,-314.268\" fill=\"none\" stroke=\"#000000\"/>\n<polygon fill=\"#000000\" points=\"1158.7425,-316.3678 1162.0368,-306.2981 1153.182,-312.1156 1158.7425,-316.3678\" stroke=\"#000000\"/>\n</g>\n<!-- 29 -->\n<g class=\"node\" id=\"node30\">\n<title>29</title>\n<polygon fill=\"#f1bd97\" points=\"922,-187 782,-187 782,-104 922,-104 922,-187\" stroke=\"#000000\"/>\n<text fill=\"#000000\" font-family=\"Times,serif\" font-size=\"14.00\" text-anchor=\"middle\" x=\"852\" y=\"-171.8\">Age &lt;= -0.54</text>\n<text fill=\"#000000\" font-family=\"Times,serif\" font-size=\"14.00\" text-anchor=\"middle\" x=\"852\" y=\"-156.8\">entropy = 0.907</text>\n<text fill=\"#000000\" font-family=\"Times,serif\" font-size=\"14.00\" text-anchor=\"middle\" x=\"852\" y=\"-141.8\">samples = 5138</text>\n<text fill=\"#000000\" font-family=\"Times,serif\" font-size=\"14.00\" text-anchor=\"middle\" x=\"852\" y=\"-126.8\">value = [3479, 1659]</text>\n<text fill=\"#000000\" font-family=\"Times,serif\" font-size=\"14.00\" text-anchor=\"middle\" x=\"852\" y=\"-111.8\">class = 0</text>\n</g>\n<!-- 27&#45;&gt;29 -->\n<g class=\"edge\" id=\"edge29\">\n<title>27-&gt;29</title>\n<path d=\"M950.8378,-222.8796C938.6885,-213.368 925.6808,-203.1843 913.224,-193.432\" fill=\"none\" stroke=\"#000000\"/>\n<polygon fill=\"#000000\" points=\"915.1638,-190.5055 905.1322,-187.0969 910.8486,-196.0173 915.1638,-190.5055\" stroke=\"#000000\"/>\n</g>\n<!-- 30 -->\n<g class=\"node\" id=\"node33\">\n<title>30</title>\n<polygon fill=\"#f5d0b5\" points=\"1080,-179.5 940,-179.5 940,-111.5 1080,-111.5 1080,-179.5\" stroke=\"#000000\"/>\n<text fill=\"#000000\" font-family=\"Times,serif\" font-size=\"14.00\" text-anchor=\"middle\" x=\"1010\" y=\"-164.3\">entropy = 0.961</text>\n<text fill=\"#000000\" font-family=\"Times,serif\" font-size=\"14.00\" text-anchor=\"middle\" x=\"1010\" y=\"-149.3\">samples = 9000</text>\n<text fill=\"#000000\" font-family=\"Times,serif\" font-size=\"14.00\" text-anchor=\"middle\" x=\"1010\" y=\"-134.3\">value = [5542, 3458]</text>\n<text fill=\"#000000\" font-family=\"Times,serif\" font-size=\"14.00\" text-anchor=\"middle\" x=\"1010\" y=\"-119.3\">class = 0</text>\n</g>\n<!-- 27&#45;&gt;30 -->\n<g class=\"edge\" id=\"edge32\">\n<title>27-&gt;30</title>\n<path d=\"M1006.0985,-222.8796C1006.6363,-212.2134 1007.2167,-200.7021 1007.7613,-189.9015\" fill=\"none\" stroke=\"#000000\"/>\n<polygon fill=\"#000000\" points=\"1011.2617,-189.9785 1008.2698,-179.8149 1004.2706,-189.626 1011.2617,-189.9785\" stroke=\"#000000\"/>\n</g>\n<!-- 35 -->\n<g class=\"node\" id=\"node31\">\n<title>35</title>\n<polygon fill=\"#efb082\" points=\"841,-68 709,-68 709,0 841,0 841,-68\" stroke=\"#000000\"/>\n<text fill=\"#000000\" font-family=\"Times,serif\" font-size=\"14.00\" text-anchor=\"middle\" x=\"775\" y=\"-52.8\">entropy = 0.841</text>\n<text fill=\"#000000\" font-family=\"Times,serif\" font-size=\"14.00\" text-anchor=\"middle\" x=\"775\" y=\"-37.8\">samples = 2062</text>\n<text fill=\"#000000\" font-family=\"Times,serif\" font-size=\"14.00\" text-anchor=\"middle\" x=\"775\" y=\"-22.8\">value = [1506, 556]</text>\n<text fill=\"#000000\" font-family=\"Times,serif\" font-size=\"14.00\" text-anchor=\"middle\" x=\"775\" y=\"-7.8\">class = 0</text>\n</g>\n<!-- 29&#45;&gt;35 -->\n<g class=\"edge\" id=\"edge30\">\n<title>29-&gt;35</title>\n<path d=\"M823.328,-103.9815C817.1715,-95.0666 810.6557,-85.6313 804.4695,-76.6734\" fill=\"none\" stroke=\"#000000\"/>\n<polygon fill=\"#000000\" points=\"807.2245,-74.5034 798.6619,-68.2637 801.4645,-78.4811 807.2245,-74.5034\" stroke=\"#000000\"/>\n</g>\n<!-- 36 -->\n<g class=\"node\" id=\"node32\">\n<title>36</title>\n<polygon fill=\"#f4c7a8\" points=\"998.5,-68 859.5,-68 859.5,0 998.5,0 998.5,-68\" stroke=\"#000000\"/>\n<text fill=\"#000000\" font-family=\"Times,serif\" font-size=\"14.00\" text-anchor=\"middle\" x=\"929\" y=\"-52.8\">entropy = 0.942</text>\n<text fill=\"#000000\" font-family=\"Times,serif\" font-size=\"14.00\" text-anchor=\"middle\" x=\"929\" y=\"-37.8\">samples = 3076</text>\n<text fill=\"#000000\" font-family=\"Times,serif\" font-size=\"14.00\" text-anchor=\"middle\" x=\"929\" y=\"-22.8\">value = [1973, 1103]</text>\n<text fill=\"#000000\" font-family=\"Times,serif\" font-size=\"14.00\" text-anchor=\"middle\" x=\"929\" y=\"-7.8\">class = 0</text>\n</g>\n<!-- 29&#45;&gt;36 -->\n<g class=\"edge\" id=\"edge31\">\n<title>29-&gt;36</title>\n<path d=\"M880.672,-103.9815C886.8285,-95.0666 893.3443,-85.6313 899.5305,-76.6734\" fill=\"none\" stroke=\"#000000\"/>\n<polygon fill=\"#000000\" points=\"902.5355,-78.4811 905.3381,-68.2637 896.7755,-74.5034 902.5355,-78.4811\" stroke=\"#000000\"/>\n</g>\n<!-- 57 -->\n<g class=\"node\" id=\"node35\">\n<title>57</title>\n<polygon fill=\"#f2bf9a\" points=\"1264,-179.5 1110,-179.5 1110,-111.5 1264,-111.5 1264,-179.5\" stroke=\"#000000\"/>\n<text fill=\"#000000\" font-family=\"Times,serif\" font-size=\"14.00\" text-anchor=\"middle\" x=\"1187\" y=\"-164.3\">entropy = 0.913</text>\n<text fill=\"#000000\" font-family=\"Times,serif\" font-size=\"14.00\" text-anchor=\"middle\" x=\"1187\" y=\"-149.3\">samples = 38100</text>\n<text fill=\"#000000\" font-family=\"Times,serif\" font-size=\"14.00\" text-anchor=\"middle\" x=\"1187\" y=\"-134.3\">value = [25589, 12511]</text>\n<text fill=\"#000000\" font-family=\"Times,serif\" font-size=\"14.00\" text-anchor=\"middle\" x=\"1187\" y=\"-119.3\">class = 0</text>\n</g>\n<!-- 28&#45;&gt;57 -->\n<g class=\"edge\" id=\"edge34\">\n<title>28-&gt;57</title>\n<path d=\"M1191.5517,-222.8796C1190.9243,-212.2134 1190.2472,-200.7021 1189.6119,-189.9015\" fill=\"none\" stroke=\"#000000\"/>\n<polygon fill=\"#000000\" points=\"1193.0998,-189.5921 1189.0185,-179.8149 1186.1119,-190.0032 1193.0998,-189.5921\" stroke=\"#000000\"/>\n</g>\n<!-- 58 -->\n<g class=\"node\" id=\"node36\">\n<title>58</title>\n<polygon fill=\"#cce6f8\" points=\"1392,-179.5 1282,-179.5 1282,-111.5 1392,-111.5 1392,-179.5\" stroke=\"#000000\"/>\n<text fill=\"#000000\" font-family=\"Times,serif\" font-size=\"14.00\" text-anchor=\"middle\" x=\"1337\" y=\"-164.3\">entropy = 0.984</text>\n<text fill=\"#000000\" font-family=\"Times,serif\" font-size=\"14.00\" text-anchor=\"middle\" x=\"1337\" y=\"-149.3\">samples = 75</text>\n<text fill=\"#000000\" font-family=\"Times,serif\" font-size=\"14.00\" text-anchor=\"middle\" x=\"1337\" y=\"-134.3\">value = [32, 43]</text>\n<text fill=\"#000000\" font-family=\"Times,serif\" font-size=\"14.00\" text-anchor=\"middle\" x=\"1337\" y=\"-119.3\">class = 1</text>\n</g>\n<!-- 28&#45;&gt;58 -->\n<g class=\"edge\" id=\"edge35\">\n<title>28-&gt;58</title>\n<path d=\"M1244.0145,-222.8796C1258.2853,-211.0038 1273.8151,-198.0804 1288.0233,-186.2568\" fill=\"none\" stroke=\"#000000\"/>\n<polygon fill=\"#000000\" points=\"1290.3166,-188.9019 1295.7644,-179.8149 1285.839,-183.5212 1290.3166,-188.9019\" stroke=\"#000000\"/>\n</g>\n<!-- 37 -->\n<g class=\"node\" id=\"node38\">\n<title>37</title>\n<polygon fill=\"#f2bf9a\" points=\"1538,-425 1356,-425 1356,-342 1538,-342 1538,-425\" stroke=\"#000000\"/>\n<text fill=\"#000000\" font-family=\"Times,serif\" font-size=\"14.00\" text-anchor=\"middle\" x=\"1447\" y=\"-409.8\">Annual_Premium &lt;= -0.718</text>\n<text fill=\"#000000\" font-family=\"Times,serif\" font-size=\"14.00\" text-anchor=\"middle\" x=\"1447\" y=\"-394.8\">entropy = 0.915</text>\n<text fill=\"#000000\" font-family=\"Times,serif\" font-size=\"14.00\" text-anchor=\"middle\" x=\"1447\" y=\"-379.8\">samples = 3251</text>\n<text fill=\"#000000\" font-family=\"Times,serif\" font-size=\"14.00\" text-anchor=\"middle\" x=\"1447\" y=\"-364.8\">value = [2179, 1072]</text>\n<text fill=\"#000000\" font-family=\"Times,serif\" font-size=\"14.00\" text-anchor=\"middle\" x=\"1447\" y=\"-349.8\">class = 0</text>\n</g>\n<!-- 14&#45;&gt;37 -->\n<g class=\"edge\" id=\"edge37\">\n<title>14-&gt;37</title>\n<path d=\"M1447,-460.8796C1447,-452.6838 1447,-443.9891 1447,-435.5013\" fill=\"none\" stroke=\"#000000\"/>\n<polygon fill=\"#000000\" points=\"1450.5001,-435.298 1447,-425.2981 1443.5001,-435.2981 1450.5001,-435.298\" stroke=\"#000000\"/>\n</g>\n<!-- 38 -->\n<g class=\"node\" id=\"node43\">\n<title>38</title>\n<polygon fill=\"#efb184\" points=\"1756.5,-425 1609.5,-425 1609.5,-342 1756.5,-342 1756.5,-425\" stroke=\"#000000\"/>\n<text fill=\"#000000\" font-family=\"Times,serif\" font-size=\"14.00\" text-anchor=\"middle\" x=\"1683\" y=\"-409.8\">Age &lt;= 0.998</text>\n<text fill=\"#000000\" font-family=\"Times,serif\" font-size=\"14.00\" text-anchor=\"middle\" x=\"1683\" y=\"-394.8\">entropy = 0.847</text>\n<text fill=\"#000000\" font-family=\"Times,serif\" font-size=\"14.00\" text-anchor=\"middle\" x=\"1683\" y=\"-379.8\">samples = 17466</text>\n<text fill=\"#000000\" font-family=\"Times,serif\" font-size=\"14.00\" text-anchor=\"middle\" x=\"1683\" y=\"-364.8\">value = [12676, 4790]</text>\n<text fill=\"#000000\" font-family=\"Times,serif\" font-size=\"14.00\" text-anchor=\"middle\" x=\"1683\" y=\"-349.8\">class = 0</text>\n</g>\n<!-- 14&#45;&gt;38 -->\n<g class=\"edge\" id=\"edge42\">\n<title>14-&gt;38</title>\n<path d=\"M1529.5413,-460.8796C1552.4235,-449.3415 1577.2668,-436.8146 1600.1656,-425.2682\" fill=\"none\" stroke=\"#000000\"/>\n<polygon fill=\"#000000\" points=\"1601.8194,-428.3541 1609.1727,-420.7265 1598.6677,-422.1037 1601.8194,-428.3541\" stroke=\"#000000\"/>\n</g>\n<!-- 41 -->\n<g class=\"node\" id=\"node39\">\n<title>41</title>\n<polygon fill=\"#eda673\" points=\"1420.5,-298.5 1295.5,-298.5 1295.5,-230.5 1420.5,-230.5 1420.5,-298.5\" stroke=\"#000000\"/>\n<text fill=\"#000000\" font-family=\"Times,serif\" font-size=\"14.00\" text-anchor=\"middle\" x=\"1358\" y=\"-283.3\">entropy = 0.769</text>\n<text fill=\"#000000\" font-family=\"Times,serif\" font-size=\"14.00\" text-anchor=\"middle\" x=\"1358\" y=\"-268.3\">samples = 542</text>\n<text fill=\"#000000\" font-family=\"Times,serif\" font-size=\"14.00\" text-anchor=\"middle\" x=\"1358\" y=\"-253.3\">value = [420, 122]</text>\n<text fill=\"#000000\" font-family=\"Times,serif\" font-size=\"14.00\" text-anchor=\"middle\" x=\"1358\" y=\"-238.3\">class = 0</text>\n</g>\n<!-- 37&#45;&gt;41 -->\n<g class=\"edge\" id=\"edge38\">\n<title>37-&gt;41</title>\n<path d=\"M1415.8721,-341.8796C1407.4014,-330.5536 1398.2181,-318.2748 1389.7153,-306.9058\" fill=\"none\" stroke=\"#000000\"/>\n<polygon fill=\"#000000\" points=\"1392.4562,-304.7268 1383.6641,-298.8149 1386.8505,-308.9193 1392.4562,-304.7268\" stroke=\"#000000\"/>\n</g>\n<!-- 42 -->\n<g class=\"node\" id=\"node40\">\n<title>42</title>\n<polygon fill=\"#f3c5a4\" points=\"1607,-306 1439,-306 1439,-223 1607,-223 1607,-306\" stroke=\"#000000\"/>\n<text fill=\"#000000\" font-family=\"Times,serif\" font-size=\"14.00\" text-anchor=\"middle\" x=\"1523\" y=\"-290.8\">Vehicle_Age_&lt;1yr &lt;= 0.5</text>\n<text fill=\"#000000\" font-family=\"Times,serif\" font-size=\"14.00\" text-anchor=\"middle\" x=\"1523\" y=\"-275.8\">entropy = 0.935</text>\n<text fill=\"#000000\" font-family=\"Times,serif\" font-size=\"14.00\" text-anchor=\"middle\" x=\"1523\" y=\"-260.8\">samples = 2709</text>\n<text fill=\"#000000\" font-family=\"Times,serif\" font-size=\"14.00\" text-anchor=\"middle\" x=\"1523\" y=\"-245.8\">value = [1759, 950]</text>\n<text fill=\"#000000\" font-family=\"Times,serif\" font-size=\"14.00\" text-anchor=\"middle\" x=\"1523\" y=\"-230.8\">class = 0</text>\n</g>\n<!-- 37&#45;&gt;42 -->\n<g class=\"edge\" id=\"edge39\">\n<title>37-&gt;42</title>\n<path d=\"M1473.5811,-341.8796C1479.1605,-333.1434 1485.1019,-323.8404 1490.8595,-314.8253\" fill=\"none\" stroke=\"#000000\"/>\n<polygon fill=\"#000000\" points=\"1493.8726,-316.6098 1496.3054,-306.2981 1487.9731,-312.8421 1493.8726,-316.6098\" stroke=\"#000000\"/>\n</g>\n<!-- 53 -->\n<g class=\"node\" id=\"node41\">\n<title>53</title>\n<polygon fill=\"#f3c3a1\" points=\"1568,-179.5 1436,-179.5 1436,-111.5 1568,-111.5 1568,-179.5\" stroke=\"#000000\"/>\n<text fill=\"#000000\" font-family=\"Times,serif\" font-size=\"14.00\" text-anchor=\"middle\" x=\"1502\" y=\"-164.3\">entropy = 0.93</text>\n<text fill=\"#000000\" font-family=\"Times,serif\" font-size=\"14.00\" text-anchor=\"middle\" x=\"1502\" y=\"-149.3\">samples = 2665</text>\n<text fill=\"#000000\" font-family=\"Times,serif\" font-size=\"14.00\" text-anchor=\"middle\" x=\"1502\" y=\"-134.3\">value = [1745, 920]</text>\n<text fill=\"#000000\" font-family=\"Times,serif\" font-size=\"14.00\" text-anchor=\"middle\" x=\"1502\" y=\"-119.3\">class = 0</text>\n</g>\n<!-- 42&#45;&gt;53 -->\n<g class=\"edge\" id=\"edge40\">\n<title>42-&gt;53</title>\n<path d=\"M1515.6552,-222.8796C1513.7729,-212.2134 1511.7415,-200.7021 1509.8356,-189.9015\" fill=\"none\" stroke=\"#000000\"/>\n<polygon fill=\"#000000\" points=\"1513.2403,-189.0545 1508.0556,-179.8149 1506.3468,-190.2711 1513.2403,-189.0545\" stroke=\"#000000\"/>\n</g>\n<!-- 54 -->\n<g class=\"node\" id=\"node42\">\n<title>54</title>\n<polygon fill=\"#95cbf1\" points=\"1696,-179.5 1586,-179.5 1586,-111.5 1696,-111.5 1696,-179.5\" stroke=\"#000000\"/>\n<text fill=\"#000000\" font-family=\"Times,serif\" font-size=\"14.00\" text-anchor=\"middle\" x=\"1641\" y=\"-164.3\">entropy = 0.902</text>\n<text fill=\"#000000\" font-family=\"Times,serif\" font-size=\"14.00\" text-anchor=\"middle\" x=\"1641\" y=\"-149.3\">samples = 44</text>\n<text fill=\"#000000\" font-family=\"Times,serif\" font-size=\"14.00\" text-anchor=\"middle\" x=\"1641\" y=\"-134.3\">value = [14, 30]</text>\n<text fill=\"#000000\" font-family=\"Times,serif\" font-size=\"14.00\" text-anchor=\"middle\" x=\"1641\" y=\"-119.3\">class = 1</text>\n</g>\n<!-- 42&#45;&gt;54 -->\n<g class=\"edge\" id=\"edge41\">\n<title>42-&gt;54</title>\n<path d=\"M1564.2707,-222.8796C1575.7195,-211.3337 1588.1503,-198.7976 1599.6062,-187.2446\" fill=\"none\" stroke=\"#000000\"/>\n<polygon fill=\"#000000\" points=\"1602.4175,-189.3802 1606.9734,-179.8149 1597.4469,-184.4514 1602.4175,-189.3802\" stroke=\"#000000\"/>\n</g>\n<!-- 51 -->\n<g class=\"node\" id=\"node44\">\n<title>51</title>\n<polygon fill=\"#efb387\" points=\"1765,-298.5 1625,-298.5 1625,-230.5 1765,-230.5 1765,-298.5\" stroke=\"#000000\"/>\n<text fill=\"#000000\" font-family=\"Times,serif\" font-size=\"14.00\" text-anchor=\"middle\" x=\"1695\" y=\"-283.3\">entropy = 0.86</text>\n<text fill=\"#000000\" font-family=\"Times,serif\" font-size=\"14.00\" text-anchor=\"middle\" x=\"1695\" y=\"-268.3\">samples = 12956</text>\n<text fill=\"#000000\" font-family=\"Times,serif\" font-size=\"14.00\" text-anchor=\"middle\" x=\"1695\" y=\"-253.3\">value = [9286, 3670]</text>\n<text fill=\"#000000\" font-family=\"Times,serif\" font-size=\"14.00\" text-anchor=\"middle\" x=\"1695\" y=\"-238.3\">class = 0</text>\n</g>\n<!-- 38&#45;&gt;51 -->\n<g class=\"edge\" id=\"edge43\">\n<title>38-&gt;51</title>\n<path d=\"M1687.197,-341.8796C1688.2726,-331.2134 1689.4334,-319.7021 1690.5225,-308.9015\" fill=\"none\" stroke=\"#000000\"/>\n<polygon fill=\"#000000\" points=\"1694.0186,-309.1157 1691.5397,-298.8149 1687.0539,-308.4133 1694.0186,-309.1157\" stroke=\"#000000\"/>\n</g>\n<!-- 52 -->\n<g class=\"node\" id=\"node45\">\n<title>52</title>\n<polygon fill=\"#eeab7a\" points=\"1922.5,-298.5 1783.5,-298.5 1783.5,-230.5 1922.5,-230.5 1922.5,-298.5\" stroke=\"#000000\"/>\n<text fill=\"#000000\" font-family=\"Times,serif\" font-size=\"14.00\" text-anchor=\"middle\" x=\"1853\" y=\"-283.3\">entropy = 0.809</text>\n<text fill=\"#000000\" font-family=\"Times,serif\" font-size=\"14.00\" text-anchor=\"middle\" x=\"1853\" y=\"-268.3\">samples = 4510</text>\n<text fill=\"#000000\" font-family=\"Times,serif\" font-size=\"14.00\" text-anchor=\"middle\" x=\"1853\" y=\"-253.3\">value = [3390, 1120]</text>\n<text fill=\"#000000\" font-family=\"Times,serif\" font-size=\"14.00\" text-anchor=\"middle\" x=\"1853\" y=\"-238.3\">class = 0</text>\n</g>\n<!-- 38&#45;&gt;52 -->\n<g class=\"edge\" id=\"edge44\">\n<title>38-&gt;52</title>\n<path d=\"M1742.4578,-341.8796C1759.8196,-329.7263 1778.7488,-316.4759 1795.9575,-304.4297\" fill=\"none\" stroke=\"#000000\"/>\n<polygon fill=\"#000000\" points=\"1798.0676,-307.225 1804.2528,-298.623 1794.0533,-301.4904 1798.0676,-307.225\" stroke=\"#000000\"/>\n</g>\n<!-- 15 -->\n<g class=\"node\" id=\"node47\">\n<title>15</title>\n<polygon fill=\"#eca36e\" points=\"1997.5,-544 1820.5,-544 1820.5,-461 1997.5,-461 1997.5,-544\" stroke=\"#000000\"/>\n<text fill=\"#000000\" font-family=\"Times,serif\" font-size=\"14.00\" text-anchor=\"middle\" x=\"1909\" y=\"-528.8\">Vehicle_Age_1-2yrs &lt;= 0.5</text>\n<text fill=\"#000000\" font-family=\"Times,serif\" font-size=\"14.00\" text-anchor=\"middle\" x=\"1909\" y=\"-513.8\">entropy = 0.745</text>\n<text fill=\"#000000\" font-family=\"Times,serif\" font-size=\"14.00\" text-anchor=\"middle\" x=\"1909\" y=\"-498.8\">samples = 13062</text>\n<text fill=\"#000000\" font-family=\"Times,serif\" font-size=\"14.00\" text-anchor=\"middle\" x=\"1909\" y=\"-483.8\">value = [10296, 2766]</text>\n<text fill=\"#000000\" font-family=\"Times,serif\" font-size=\"14.00\" text-anchor=\"middle\" x=\"1909\" y=\"-468.8\">class = 0</text>\n</g>\n<!-- 8&#45;&gt;15 -->\n<g class=\"edge\" id=\"edge46\">\n<title>8-&gt;15</title>\n<path d=\"M1909,-579.8796C1909,-571.6838 1909,-562.9891 1909,-554.5013\" fill=\"none\" stroke=\"#000000\"/>\n<polygon fill=\"#000000\" points=\"1912.5001,-554.298 1909,-544.2981 1905.5001,-554.2981 1912.5001,-554.298\" stroke=\"#000000\"/>\n</g>\n<!-- 16 -->\n<g class=\"node\" id=\"node50\">\n<title>16</title>\n<polygon fill=\"#e9965b\" points=\"2260.5,-544 2083.5,-544 2083.5,-461 2260.5,-461 2260.5,-544\" stroke=\"#000000\"/>\n<text fill=\"#000000\" font-family=\"Times,serif\" font-size=\"14.00\" text-anchor=\"middle\" x=\"2172\" y=\"-528.8\">Vehicle_Age_1-2yrs &lt;= 0.5</text>\n<text fill=\"#000000\" font-family=\"Times,serif\" font-size=\"14.00\" text-anchor=\"middle\" x=\"2172\" y=\"-513.8\">entropy = 0.598</text>\n<text fill=\"#000000\" font-family=\"Times,serif\" font-size=\"14.00\" text-anchor=\"middle\" x=\"2172\" y=\"-498.8\">samples = 8671</text>\n<text fill=\"#000000\" font-family=\"Times,serif\" font-size=\"14.00\" text-anchor=\"middle\" x=\"2172\" y=\"-483.8\">value = [7410, 1261]</text>\n<text fill=\"#000000\" font-family=\"Times,serif\" font-size=\"14.00\" text-anchor=\"middle\" x=\"2172\" y=\"-468.8\">class = 0</text>\n</g>\n<!-- 8&#45;&gt;16 -->\n<g class=\"edge\" id=\"edge49\">\n<title>8-&gt;16</title>\n<path d=\"M1982.6099,-588.1936C2010.9793,-575.3573 2043.84,-560.4888 2074.1449,-546.7767\" fill=\"none\" stroke=\"#000000\"/>\n<polygon fill=\"#000000\" points=\"2075.792,-549.873 2083.46,-542.5618 2072.9063,-543.4955 2075.792,-549.873\" stroke=\"#000000\"/>\n</g>\n<!-- 31 -->\n<g class=\"node\" id=\"node48\">\n<title>31</title>\n<polygon fill=\"#eeae80\" points=\"1907,-417.5 1775,-417.5 1775,-349.5 1907,-349.5 1907,-417.5\" stroke=\"#000000\"/>\n<text fill=\"#000000\" font-family=\"Times,serif\" font-size=\"14.00\" text-anchor=\"middle\" x=\"1841\" y=\"-402.3\">entropy = 0.831</text>\n<text fill=\"#000000\" font-family=\"Times,serif\" font-size=\"14.00\" text-anchor=\"middle\" x=\"1841\" y=\"-387.3\">samples = 2650</text>\n<text fill=\"#000000\" font-family=\"Times,serif\" font-size=\"14.00\" text-anchor=\"middle\" x=\"1841\" y=\"-372.3\">value = [1954, 696]</text>\n<text fill=\"#000000\" font-family=\"Times,serif\" font-size=\"14.00\" text-anchor=\"middle\" x=\"1841\" y=\"-357.3\">class = 0</text>\n</g>\n<!-- 15&#45;&gt;31 -->\n<g class=\"edge\" id=\"edge47\">\n<title>15-&gt;31</title>\n<path d=\"M1885.2169,-460.8796C1878.8706,-449.7735 1872.0007,-437.7513 1865.6109,-426.5691\" fill=\"none\" stroke=\"#000000\"/>\n<polygon fill=\"#000000\" points=\"1868.6088,-424.7609 1860.6085,-417.8149 1862.5311,-428.2339 1868.6088,-424.7609\" stroke=\"#000000\"/>\n</g>\n<!-- 32 -->\n<g class=\"node\" id=\"node49\">\n<title>32</title>\n<polygon fill=\"#eba06a\" points=\"2065,-417.5 1925,-417.5 1925,-349.5 2065,-349.5 2065,-417.5\" stroke=\"#000000\"/>\n<text fill=\"#000000\" font-family=\"Times,serif\" font-size=\"14.00\" text-anchor=\"middle\" x=\"1995\" y=\"-402.3\">entropy = 0.72</text>\n<text fill=\"#000000\" font-family=\"Times,serif\" font-size=\"14.00\" text-anchor=\"middle\" x=\"1995\" y=\"-387.3\">samples = 10412</text>\n<text fill=\"#000000\" font-family=\"Times,serif\" font-size=\"14.00\" text-anchor=\"middle\" x=\"1995\" y=\"-372.3\">value = [8342, 2070]</text>\n<text fill=\"#000000\" font-family=\"Times,serif\" font-size=\"14.00\" text-anchor=\"middle\" x=\"1995\" y=\"-357.3\">class = 0</text>\n</g>\n<!-- 15&#45;&gt;32 -->\n<g class=\"edge\" id=\"edge48\">\n<title>15-&gt;32</title>\n<path d=\"M1939.0786,-460.8796C1947.1843,-449.6636 1955.9653,-437.5131 1964.1143,-426.2372\" fill=\"none\" stroke=\"#000000\"/>\n<polygon fill=\"#000000\" points=\"1967.1803,-427.9701 1970.201,-417.8149 1961.5068,-423.8698 1967.1803,-427.9701\" stroke=\"#000000\"/>\n</g>\n<!-- 45 -->\n<g class=\"node\" id=\"node51\">\n<title>45</title>\n<polygon fill=\"#eb9e66\" points=\"2260.5,-425 2083.5,-425 2083.5,-342 2260.5,-342 2260.5,-425\" stroke=\"#000000\"/>\n<text fill=\"#000000\" font-family=\"Times,serif\" font-size=\"14.00\" text-anchor=\"middle\" x=\"2172\" y=\"-409.8\">Annual_Premium &lt;= 0.207</text>\n<text fill=\"#000000\" font-family=\"Times,serif\" font-size=\"14.00\" text-anchor=\"middle\" x=\"2172\" y=\"-394.8\">entropy = 0.693</text>\n<text fill=\"#000000\" font-family=\"Times,serif\" font-size=\"14.00\" text-anchor=\"middle\" x=\"2172\" y=\"-379.8\">samples = 1842</text>\n<text fill=\"#000000\" font-family=\"Times,serif\" font-size=\"14.00\" text-anchor=\"middle\" x=\"2172\" y=\"-364.8\">value = [1499, 343]</text>\n<text fill=\"#000000\" font-family=\"Times,serif\" font-size=\"14.00\" text-anchor=\"middle\" x=\"2172\" y=\"-349.8\">class = 0</text>\n</g>\n<!-- 16&#45;&gt;45 -->\n<g class=\"edge\" id=\"edge50\">\n<title>16-&gt;45</title>\n<path d=\"M2172,-460.8796C2172,-452.6838 2172,-443.9891 2172,-435.5013\" fill=\"none\" stroke=\"#000000\"/>\n<polygon fill=\"#000000\" points=\"2175.5001,-435.298 2172,-425.2981 2168.5001,-435.2981 2175.5001,-435.298\" stroke=\"#000000\"/>\n</g>\n<!-- 46 -->\n<g class=\"node\" id=\"node54\">\n<title>46</title>\n<polygon fill=\"#e99558\" points=\"2433.5,-425 2278.5,-425 2278.5,-342 2433.5,-342 2433.5,-425\" stroke=\"#000000\"/>\n<text fill=\"#000000\" font-family=\"Times,serif\" font-size=\"14.00\" text-anchor=\"middle\" x=\"2356\" y=\"-409.8\">Driving_License &lt;= 0.5</text>\n<text fill=\"#000000\" font-family=\"Times,serif\" font-size=\"14.00\" text-anchor=\"middle\" x=\"2356\" y=\"-394.8\">entropy = 0.569</text>\n<text fill=\"#000000\" font-family=\"Times,serif\" font-size=\"14.00\" text-anchor=\"middle\" x=\"2356\" y=\"-379.8\">samples = 6829</text>\n<text fill=\"#000000\" font-family=\"Times,serif\" font-size=\"14.00\" text-anchor=\"middle\" x=\"2356\" y=\"-364.8\">value = [5911, 918]</text>\n<text fill=\"#000000\" font-family=\"Times,serif\" font-size=\"14.00\" text-anchor=\"middle\" x=\"2356\" y=\"-349.8\">class = 0</text>\n</g>\n<!-- 16&#45;&gt;46 -->\n<g class=\"edge\" id=\"edge53\">\n<title>16-&gt;46</title>\n<path d=\"M2236.3543,-460.8796C2251.4815,-451.0962 2267.7081,-440.6019 2283.1776,-430.5971\" fill=\"none\" stroke=\"#000000\"/>\n<polygon fill=\"#000000\" points=\"2285.1859,-433.4665 2291.6821,-425.0969 2281.3844,-427.5887 2285.1859,-433.4665\" stroke=\"#000000\"/>\n</g>\n<!-- 49 -->\n<g class=\"node\" id=\"node52\">\n<title>49</title>\n<polygon fill=\"#e99457\" points=\"2104.5,-298.5 1987.5,-298.5 1987.5,-230.5 2104.5,-230.5 2104.5,-298.5\" stroke=\"#000000\"/>\n<text fill=\"#000000\" font-family=\"Times,serif\" font-size=\"14.00\" text-anchor=\"middle\" x=\"2046\" y=\"-283.3\">entropy = 0.559</text>\n<text fill=\"#000000\" font-family=\"Times,serif\" font-size=\"14.00\" text-anchor=\"middle\" x=\"2046\" y=\"-268.3\">samples = 727</text>\n<text fill=\"#000000\" font-family=\"Times,serif\" font-size=\"14.00\" text-anchor=\"middle\" x=\"2046\" y=\"-253.3\">value = [632, 95]</text>\n<text fill=\"#000000\" font-family=\"Times,serif\" font-size=\"14.00\" text-anchor=\"middle\" x=\"2046\" y=\"-238.3\">class = 0</text>\n</g>\n<!-- 45&#45;&gt;49 -->\n<g class=\"edge\" id=\"edge51\">\n<title>45-&gt;49</title>\n<path d=\"M2127.9313,-341.8796C2115.5898,-330.2237 2102.1798,-317.5587 2089.851,-305.9148\" fill=\"none\" stroke=\"#000000\"/>\n<polygon fill=\"#000000\" points=\"2092.0068,-303.1366 2082.3335,-298.8149 2087.2004,-308.2258 2092.0068,-303.1366\" stroke=\"#000000\"/>\n</g>\n<!-- 50 -->\n<g class=\"node\" id=\"node53\">\n<title>50</title>\n<polygon fill=\"#eca572\" points=\"2247.5,-298.5 2122.5,-298.5 2122.5,-230.5 2247.5,-230.5 2247.5,-298.5\" stroke=\"#000000\"/>\n<text fill=\"#000000\" font-family=\"Times,serif\" font-size=\"14.00\" text-anchor=\"middle\" x=\"2185\" y=\"-283.3\">entropy = 0.765</text>\n<text fill=\"#000000\" font-family=\"Times,serif\" font-size=\"14.00\" text-anchor=\"middle\" x=\"2185\" y=\"-268.3\">samples = 1115</text>\n<text fill=\"#000000\" font-family=\"Times,serif\" font-size=\"14.00\" text-anchor=\"middle\" x=\"2185\" y=\"-253.3\">value = [867, 248]</text>\n<text fill=\"#000000\" font-family=\"Times,serif\" font-size=\"14.00\" text-anchor=\"middle\" x=\"2185\" y=\"-238.3\">class = 0</text>\n</g>\n<!-- 45&#45;&gt;50 -->\n<g class=\"edge\" id=\"edge52\">\n<title>45-&gt;50</title>\n<path d=\"M2176.5468,-341.8796C2177.712,-331.2134 2178.9695,-319.7021 2180.1494,-308.9015\" fill=\"none\" stroke=\"#000000\"/>\n<polygon fill=\"#000000\" points=\"2183.6445,-309.1359 2181.2513,-298.8149 2176.6859,-308.3757 2183.6445,-309.1359\" stroke=\"#000000\"/>\n</g>\n<!-- 55 -->\n<g class=\"node\" id=\"node55\">\n<title>55</title>\n<polygon fill=\"#e6853f\" points=\"2399,-298.5 2289,-298.5 2289,-230.5 2399,-230.5 2399,-298.5\" stroke=\"#000000\"/>\n<text fill=\"#000000\" font-family=\"Times,serif\" font-size=\"14.00\" text-anchor=\"middle\" x=\"2344\" y=\"-283.3\">entropy = 0.187</text>\n<text fill=\"#000000\" font-family=\"Times,serif\" font-size=\"14.00\" text-anchor=\"middle\" x=\"2344\" y=\"-268.3\">samples = 140</text>\n<text fill=\"#000000\" font-family=\"Times,serif\" font-size=\"14.00\" text-anchor=\"middle\" x=\"2344\" y=\"-253.3\">value = [136, 4]</text>\n<text fill=\"#000000\" font-family=\"Times,serif\" font-size=\"14.00\" text-anchor=\"middle\" x=\"2344\" y=\"-238.3\">class = 0</text>\n</g>\n<!-- 46&#45;&gt;55 -->\n<g class=\"edge\" id=\"edge54\">\n<title>46-&gt;55</title>\n<path d=\"M2351.803,-341.8796C2350.7274,-331.2134 2349.5666,-319.7021 2348.4775,-308.9015\" fill=\"none\" stroke=\"#000000\"/>\n<polygon fill=\"#000000\" points=\"2351.9461,-308.4133 2347.4603,-298.8149 2344.9814,-309.1157 2351.9461,-308.4133\" stroke=\"#000000\"/>\n</g>\n<!-- 56 -->\n<g class=\"node\" id=\"node56\">\n<title>56</title>\n<polygon fill=\"#e99558\" points=\"2549,-298.5 2417,-298.5 2417,-230.5 2549,-230.5 2549,-298.5\" stroke=\"#000000\"/>\n<text fill=\"#000000\" font-family=\"Times,serif\" font-size=\"14.00\" text-anchor=\"middle\" x=\"2483\" y=\"-283.3\">entropy = 0.575</text>\n<text fill=\"#000000\" font-family=\"Times,serif\" font-size=\"14.00\" text-anchor=\"middle\" x=\"2483\" y=\"-268.3\">samples = 6689</text>\n<text fill=\"#000000\" font-family=\"Times,serif\" font-size=\"14.00\" text-anchor=\"middle\" x=\"2483\" y=\"-253.3\">value = [5775, 914]</text>\n<text fill=\"#000000\" font-family=\"Times,serif\" font-size=\"14.00\" text-anchor=\"middle\" x=\"2483\" y=\"-238.3\">class = 0</text>\n</g>\n<!-- 46&#45;&gt;56 -->\n<g class=\"edge\" id=\"edge55\">\n<title>46-&gt;56</title>\n<path d=\"M2400.4184,-341.8796C2412.8579,-330.2237 2426.3743,-317.5587 2438.801,-305.9148\" fill=\"none\" stroke=\"#000000\"/>\n<polygon fill=\"#000000\" points=\"2441.4741,-308.2065 2446.3782,-298.8149 2436.6879,-303.0985 2441.4741,-308.2065\" stroke=\"#000000\"/>\n</g>\n<!-- 11 -->\n<g class=\"node\" id=\"node58\">\n<title>11</title>\n<polygon fill=\"#e58139\" points=\"729.5,-893.5 590.5,-893.5 590.5,-825.5 729.5,-825.5 729.5,-893.5\" stroke=\"#000000\"/>\n<text fill=\"#000000\" font-family=\"Times,serif\" font-size=\"14.00\" text-anchor=\"middle\" x=\"660\" y=\"-878.3\">entropy = 0.006</text>\n<text fill=\"#000000\" font-family=\"Times,serif\" font-size=\"14.00\" text-anchor=\"middle\" x=\"660\" y=\"-863.3\">samples = 110839</text>\n<text fill=\"#000000\" font-family=\"Times,serif\" font-size=\"14.00\" text-anchor=\"middle\" x=\"660\" y=\"-848.3\">value = [110785, 54]</text>\n<text fill=\"#000000\" font-family=\"Times,serif\" font-size=\"14.00\" text-anchor=\"middle\" x=\"660\" y=\"-833.3\">class = 0</text>\n</g>\n<!-- 2&#45;&gt;11 -->\n<g class=\"edge\" id=\"edge57\">\n<title>2-&gt;11</title>\n<path d=\"M661.9507,-936.8796C661.6818,-926.2134 661.3916,-914.7021 661.1194,-903.9015\" fill=\"none\" stroke=\"#000000\"/>\n<polygon fill=\"#000000\" points=\"664.6161,-903.7235 660.8651,-893.8149 657.6183,-903.9 664.6161,-903.7235\" stroke=\"#000000\"/>\n</g>\n<!-- 12 -->\n<g class=\"node\" id=\"node59\">\n<title>12</title>\n<polygon fill=\"#e5823b\" points=\"872.5,-893.5 747.5,-893.5 747.5,-825.5 872.5,-825.5 872.5,-893.5\" stroke=\"#000000\"/>\n<text fill=\"#000000\" font-family=\"Times,serif\" font-size=\"14.00\" text-anchor=\"middle\" x=\"810\" y=\"-878.3\">entropy = 0.073</text>\n<text fill=\"#000000\" font-family=\"Times,serif\" font-size=\"14.00\" text-anchor=\"middle\" x=\"810\" y=\"-863.3\">samples = 6865</text>\n<text fill=\"#000000\" font-family=\"Times,serif\" font-size=\"14.00\" text-anchor=\"middle\" x=\"810\" y=\"-848.3\">value = [6804, 61]</text>\n<text fill=\"#000000\" font-family=\"Times,serif\" font-size=\"14.00\" text-anchor=\"middle\" x=\"810\" y=\"-833.3\">class = 0</text>\n</g>\n<!-- 2&#45;&gt;12 -->\n<g class=\"edge\" id=\"edge58\">\n<title>2-&gt;12</title>\n<path d=\"M714.4135,-936.8796C729.0835,-925.0038 745.0477,-912.0804 759.6533,-900.2568\" fill=\"none\" stroke=\"#000000\"/>\n<polygon fill=\"#000000\" points=\"762.0407,-902.8273 767.611,-893.8149 757.6363,-897.3866 762.0407,-902.8273\" stroke=\"#000000\"/>\n</g>\n</g>\n</svg>"
          },
          "metadata": {}
        }
      ]
    },
    {
      "cell_type": "code",
      "metadata": {
        "colab": {
          "base_uri": "https://localhost:8080/"
        },
        "id": "YQKtufXFmPKG",
        "outputId": "4508aaf7-5f7b-465a-ac97-d1af498cd59c"
      },
      "source": [
        "accuracy_score(y_test, y_predicted) * 100"
      ],
      "execution_count": null,
      "outputs": [
        {
          "output_type": "execute_result",
          "data": {
            "text/plain": [
              "87.4321278323797"
            ]
          },
          "metadata": {},
          "execution_count": 37
        }
      ]
    },
    {
      "cell_type": "code",
      "metadata": {
        "id": "udNPd9xAmdFG",
        "colab": {
          "base_uri": "https://localhost:8080/"
        },
        "outputId": "adf5e26f-0add-435d-ea69-fba61751d283"
      },
      "source": [
        "from sklearn.linear_model import LogisticRegression\n",
        "\n",
        "clf = LogisticRegression(fit_intercept=True, max_iter=10000)\n",
        "clf.fit(X_train, y_train)"
      ],
      "execution_count": null,
      "outputs": [
        {
          "output_type": "execute_result",
          "data": {
            "text/plain": [
              "LogisticRegression(C=1.0, class_weight=None, dual=False, fit_intercept=True,\n",
              "                   intercept_scaling=1, l1_ratio=None, max_iter=10000,\n",
              "                   multi_class='auto', n_jobs=None, penalty='l2',\n",
              "                   random_state=None, solver='lbfgs', tol=0.0001, verbose=0,\n",
              "                   warm_start=False)"
            ]
          },
          "metadata": {},
          "execution_count": 38
        }
      ]
    },
    {
      "cell_type": "code",
      "metadata": {
        "colab": {
          "base_uri": "https://localhost:8080/"
        },
        "id": "eRlYdX0dimLi",
        "outputId": "8921ebee-b586-4286-c118-d45a651fa23d"
      },
      "source": [
        "clf.coef_"
      ],
      "execution_count": null,
      "outputs": [
        {
          "output_type": "execute_result",
          "data": {
            "text/plain": [
              "array([[ 0.10945843, -0.34719324,  1.07752859, -3.88976919,  2.06043204,\n",
              "         0.00788929, -0.00698598,  0.56183256,  0.36933655, -0.8725858 ]])"
            ]
          },
          "metadata": {},
          "execution_count": 39
        }
      ]
    },
    {
      "cell_type": "code",
      "metadata": {
        "colab": {
          "base_uri": "https://localhost:8080/"
        },
        "id": "uDXu_ieiisom",
        "outputId": "91d064d0-721b-4098-e5ba-2bf37af3ee54"
      },
      "source": [
        "clf.intercept_"
      ],
      "execution_count": null,
      "outputs": [
        {
          "output_type": "execute_result",
          "data": {
            "text/plain": [
              "array([-4.29212718])"
            ]
          },
          "metadata": {},
          "execution_count": 40
        }
      ]
    },
    {
      "cell_type": "code",
      "metadata": {
        "id": "aXMEn1IKivLh"
      },
      "source": [
        "train_preds = clf.predict_proba(X_train)\n",
        "test_preds = clf.predict_proba(X_test)"
      ],
      "execution_count": null,
      "outputs": []
    },
    {
      "cell_type": "code",
      "metadata": {
        "colab": {
          "base_uri": "https://localhost:8080/"
        },
        "id": "ej9Zc0sHixVA",
        "outputId": "bb4fd39b-eb19-43a5-aadf-5e4e4483b9ee"
      },
      "source": [
        "test_preds"
      ],
      "execution_count": null,
      "outputs": [
        {
          "output_type": "execute_result",
          "data": {
            "text/plain": [
              "array([[9.95994996e-01, 4.00500425e-03],\n",
              "       [9.99459731e-01, 5.40268610e-04],\n",
              "       [9.99570923e-01, 4.29077247e-04],\n",
              "       ...,\n",
              "       [9.99509875e-01, 4.90125431e-04],\n",
              "       [9.99443621e-01, 5.56379435e-04],\n",
              "       [7.85375028e-01, 2.14624972e-01]])"
            ]
          },
          "metadata": {},
          "execution_count": 42
        }
      ]
    },
    {
      "cell_type": "code",
      "metadata": {
        "id": "YyrYZmj6i0Df"
      },
      "source": [
        "train_preds = clf.predict_proba(X_train)[:,1]\n",
        "test_preds = clf.predict_proba(X_test)[:,1]"
      ],
      "execution_count": null,
      "outputs": []
    },
    {
      "cell_type": "code",
      "metadata": {
        "colab": {
          "base_uri": "https://localhost:8080/"
        },
        "id": "gcTlAqmVi3u3",
        "outputId": "49cc8c6f-d117-4ac7-c942-a8338aa187c8"
      },
      "source": [
        "test_preds"
      ],
      "execution_count": null,
      "outputs": [
        {
          "output_type": "execute_result",
          "data": {
            "text/plain": [
              "array([0.004005  , 0.00054027, 0.00042908, ..., 0.00049013, 0.00055638,\n",
              "       0.21462497])"
            ]
          },
          "metadata": {},
          "execution_count": 44
        }
      ]
    },
    {
      "cell_type": "code",
      "metadata": {
        "id": "x6xU4FO0i6IV"
      },
      "source": [
        "train_class_preds = clf.predict(X_train)\n",
        "test_class_preds = clf.predict(X_test)"
      ],
      "execution_count": null,
      "outputs": []
    },
    {
      "cell_type": "code",
      "metadata": {
        "id": "RCrp49Kvi7_L"
      },
      "source": [
        "from sklearn.metrics import accuracy_score, confusion_matrix"
      ],
      "execution_count": null,
      "outputs": []
    },
    {
      "cell_type": "code",
      "metadata": {
        "colab": {
          "base_uri": "https://localhost:8080/"
        },
        "id": "zuTl6g3VkHWP",
        "outputId": "07e72bff-19f9-43a2-c086-5056ddbf93c4"
      },
      "source": [
        "train_accuracy = accuracy_score(train_class_preds,y_train)\n",
        "test_accuracy = accuracy_score(test_class_preds,y_test)\n",
        "\n",
        "print(\"The accuracy on train data is \", train_accuracy)\n",
        "print(\"The accuracy on test data is \", test_accuracy)"
      ],
      "execution_count": null,
      "outputs": [
        {
          "output_type": "stream",
          "name": "stdout",
          "text": [
            "The accuracy on train data is  0.8751593751711083\n",
            "The accuracy on test data is  0.874293901315009\n"
          ]
        }
      ]
    },
    {
      "cell_type": "code",
      "metadata": {
        "colab": {
          "base_uri": "https://localhost:8080/",
          "height": 345
        },
        "id": "nMWqSO8ykJqJ",
        "outputId": "277af601-1437-498b-e52f-c42772a46e16"
      },
      "source": [
        "labels = ['Interested', 'Not-Interested']\n",
        "cm = confusion_matrix(y_train, train_class_preds)\n",
        "print(cm)\n",
        "\n",
        "ax= plt.subplot()\n",
        "sns.heatmap(cm, annot=True, ax = ax) #annot=True to annotate cells\n",
        "\n",
        "# labels, title and ticks\n",
        "ax.set_xlabel('Predicted labels')\n",
        "ax.set_ylabel('True labels')\n",
        "ax.set_title('Confusion Matrix')\n",
        "ax.xaxis.set_ticklabels(labels)\n",
        "ax.yaxis.set_ticklabels(labels)"
      ],
      "execution_count": null,
      "outputs": [
        {
          "output_type": "stream",
          "name": "stdout",
          "text": [
            "[[223766      0]\n",
            " [ 31920      0]]\n"
          ]
        },
        {
          "output_type": "execute_result",
          "data": {
            "text/plain": [
              "[Text(0, 0.5, 'Interested'), Text(0, 1.5, 'Not-Interested')]"
            ]
          },
          "metadata": {},
          "execution_count": 48
        },
        {
          "output_type": "display_data",
          "data": {
            "image/png": "[encoded data removed]",
            "text/plain": [
              "<Figure size 432x288 with 2 Axes>"
            ]
          },
          "metadata": {
            "needs_background": "light"
          }
        }
      ]
    },
    {
      "cell_type": "code",
      "metadata": {
        "colab": {
          "base_uri": "https://localhost:8080/",
          "height": 345
        },
        "id": "FEf937F1kNQP",
        "outputId": "ae381d6e-9699-4f7a-c8e1-89bb89ce4b5e"
      },
      "source": [
        "labels = ['Interested', 'Not-Interested']\n",
        "cm = confusion_matrix(y_test, test_class_preds)\n",
        "print(cm)\n",
        "\n",
        "ax= plt.subplot()\n",
        "sns.heatmap(cm, annot=True, ax = ax); #annot=True to annotate cells\n",
        "\n",
        "# labels, title and ticks\n",
        "ax.set_xlabel('Predicted labels')\n",
        "ax.set_ylabel('True labels')\n",
        "ax.set_title('Confusion Matrix')\n",
        "ax.xaxis.set_ticklabels(labels)\n",
        "ax.yaxis.set_ticklabels(labels)"
      ],
      "execution_count": null,
      "outputs": [
        {
          "output_type": "stream",
          "name": "stdout",
          "text": [
            "[[95806     0]\n",
            " [13775     0]]\n"
          ]
        },
        {
          "output_type": "execute_result",
          "data": {
            "text/plain": [
              "[Text(0, 0.5, 'Interested'), Text(0, 1.5, 'Not-Interested')]"
            ]
          },
          "metadata": {},
          "execution_count": 49
        },
        {
          "output_type": "display_data",
          "data": {
            "image/png": "[encoded data removed]",
            "text/plain": [
              "<Figure size 432x288 with 2 Axes>"
            ]
          },
          "metadata": {
            "needs_background": "light"
          }
        }
      ]
    },
    {
      "cell_type": "code",
      "metadata": {
        "id": "ojUuCExxkVDP"
      },
      "source": [
        "from sklearn.linear_model import LogisticRegressionCV\n",
        "from sklearn.model_selection import cross_validate"
      ],
      "execution_count": null,
      "outputs": []
    },
    {
      "cell_type": "code",
      "metadata": {
        "id": "3YYYK_5KlSGw"
      },
      "source": [
        "logistic = LogisticRegression()"
      ],
      "execution_count": null,
      "outputs": []
    },
    {
      "cell_type": "code",
      "metadata": {
        "colab": {
          "base_uri": "https://localhost:8080/"
        },
        "id": "izEn_O7SlqXv",
        "outputId": "45c77fb8-f13d-4137-8e1a-80a83398ef6b"
      },
      "source": [
        "scoring = ['accuracy']\n",
        "scores = cross_validate(logistic,X_train, y_train, scoring = scoring, cv = 50, return_train_score=True,return_estimator=True,verbose = 10)"
      ],
      "execution_count": null,
      "outputs": [
        {
          "output_type": "stream",
          "name": "stderr",
          "text": [
            "[Parallel(n_jobs=1)]: Using backend SequentialBackend with 1 concurrent workers.\n"
          ]
        },
        {
          "output_type": "stream",
          "name": "stdout",
          "text": [
            "[CV]  ................................................................\n"
          ]
        },
        {
          "output_type": "stream",
          "name": "stderr",
          "text": [
            "/usr/local/lib/python3.7/dist-packages/sklearn/linear_model/_logistic.py:940: ConvergenceWarning: lbfgs failed to converge (status=1):\n",
            "STOP: TOTAL NO. of ITERATIONS REACHED LIMIT.\n",
            "\n",
            "Increase the number of iterations (max_iter) or scale the data as shown in:\n",
            "    https://scikit-learn.org/stable/modules/preprocessing.html\n",
            "Please also refer to the documentation for alternative solver options:\n",
            "    https://scikit-learn.org/stable/modules/linear_model.html#logistic-regression\n",
            "  extra_warning_msg=_LOGISTIC_SOLVER_CONVERGENCE_MSG)\n",
            "[Parallel(n_jobs=1)]: Done   1 out of   1 | elapsed:    4.6s remaining:    0.0s\n"
          ]
        },
        {
          "output_type": "stream",
          "name": "stdout",
          "text": [
            "[CV] ............. , accuracy=(train=0.875, test=0.875), total=   4.5s\n",
            "[CV]  ................................................................\n",
            "[CV] ............. , accuracy=(train=0.875, test=0.875), total=   4.0s\n",
            "[CV]  ................................................................\n"
          ]
        },
        {
          "output_type": "stream",
          "name": "stderr",
          "text": [
            "[Parallel(n_jobs=1)]: Done   2 out of   2 | elapsed:    8.6s remaining:    0.0s\n"
          ]
        },
        {
          "output_type": "stream",
          "name": "stdout",
          "text": [
            "[CV] ............. , accuracy=(train=0.875, test=0.875), total=   3.9s\n",
            "[CV]  ................................................................\n"
          ]
        },
        {
          "output_type": "stream",
          "name": "stderr",
          "text": [
            "[Parallel(n_jobs=1)]: Done   3 out of   3 | elapsed:   12.6s remaining:    0.0s\n"
          ]
        },
        {
          "output_type": "stream",
          "name": "stdout",
          "text": [
            "[CV] ............. , accuracy=(train=0.875, test=0.875), total=   3.2s\n",
            "[CV]  ................................................................\n"
          ]
        },
        {
          "output_type": "stream",
          "name": "stderr",
          "text": [
            "[Parallel(n_jobs=1)]: Done   4 out of   4 | elapsed:   15.8s remaining:    0.0s\n"
          ]
        },
        {
          "output_type": "stream",
          "name": "stdout",
          "text": [
            "[CV] ............. , accuracy=(train=0.875, test=0.875), total=   4.0s\n",
            "[CV]  ................................................................\n"
          ]
        },
        {
          "output_type": "stream",
          "name": "stderr",
          "text": [
            "[Parallel(n_jobs=1)]: Done   5 out of   5 | elapsed:   19.9s remaining:    0.0s\n"
          ]
        },
        {
          "output_type": "stream",
          "name": "stdout",
          "text": [
            "[CV] ............. , accuracy=(train=0.875, test=0.875), total=   4.0s\n",
            "[CV]  ................................................................\n"
          ]
        },
        {
          "output_type": "stream",
          "name": "stderr",
          "text": [
            "[Parallel(n_jobs=1)]: Done   6 out of   6 | elapsed:   23.9s remaining:    0.0s\n"
          ]
        },
        {
          "output_type": "stream",
          "name": "stdout",
          "text": [
            "[CV] ............. , accuracy=(train=0.875, test=0.875), total=   3.9s\n",
            "[CV]  ................................................................\n"
          ]
        },
        {
          "output_type": "stream",
          "name": "stderr",
          "text": [
            "[Parallel(n_jobs=1)]: Done   7 out of   7 | elapsed:   27.9s remaining:    0.0s\n",
            "/usr/local/lib/python3.7/dist-packages/sklearn/linear_model/_logistic.py:940: ConvergenceWarning: lbfgs failed to converge (status=1):\n",
            "STOP: TOTAL NO. of ITERATIONS REACHED LIMIT.\n",
            "\n",
            "Increase the number of iterations (max_iter) or scale the data as shown in:\n",
            "    https://scikit-learn.org/stable/modules/preprocessing.html\n",
            "Please also refer to the documentation for alternative solver options:\n",
            "    https://scikit-learn.org/stable/modules/linear_model.html#logistic-regression\n",
            "  extra_warning_msg=_LOGISTIC_SOLVER_CONVERGENCE_MSG)\n",
            "[Parallel(n_jobs=1)]: Done   8 out of   8 | elapsed:   32.2s remaining:    0.0s\n"
          ]
        },
        {
          "output_type": "stream",
          "name": "stdout",
          "text": [
            "[CV] ............. , accuracy=(train=0.875, test=0.875), total=   4.2s\n",
            "[CV]  ................................................................\n",
            "[CV] ............. , accuracy=(train=0.875, test=0.875), total=   4.2s\n",
            "[CV]  ................................................................\n"
          ]
        },
        {
          "output_type": "stream",
          "name": "stderr",
          "text": [
            "[Parallel(n_jobs=1)]: Done   9 out of   9 | elapsed:   36.4s remaining:    0.0s\n"
          ]
        },
        {
          "output_type": "stream",
          "name": "stdout",
          "text": [
            "[CV] ............. , accuracy=(train=0.875, test=0.875), total=   3.9s\n",
            "[CV]  ................................................................\n",
            "[CV] ............. , accuracy=(train=0.875, test=0.875), total=   2.6s\n",
            "[CV]  ................................................................\n",
            "[CV] ............. , accuracy=(train=0.875, test=0.875), total=   4.0s\n",
            "[CV]  ................................................................\n",
            "[CV] ............. , accuracy=(train=0.875, test=0.875), total=   4.0s\n",
            "[CV]  ................................................................\n"
          ]
        },
        {
          "output_type": "stream",
          "name": "stderr",
          "text": [
            "/usr/local/lib/python3.7/dist-packages/sklearn/linear_model/_logistic.py:940: ConvergenceWarning: lbfgs failed to converge (status=1):\n",
            "STOP: TOTAL NO. of ITERATIONS REACHED LIMIT.\n",
            "\n",
            "Increase the number of iterations (max_iter) or scale the data as shown in:\n",
            "    https://scikit-learn.org/stable/modules/preprocessing.html\n",
            "Please also refer to the documentation for alternative solver options:\n",
            "    https://scikit-learn.org/stable/modules/linear_model.html#logistic-regression\n",
            "  extra_warning_msg=_LOGISTIC_SOLVER_CONVERGENCE_MSG)\n"
          ]
        },
        {
          "output_type": "stream",
          "name": "stdout",
          "text": [
            "[CV] ............. , accuracy=(train=0.875, test=0.875), total=   4.2s\n",
            "[CV]  ................................................................\n",
            "[CV] ............. , accuracy=(train=0.875, test=0.875), total=   3.4s\n",
            "[CV]  ................................................................\n"
          ]
        },
        {
          "output_type": "stream",
          "name": "stderr",
          "text": [
            "/usr/local/lib/python3.7/dist-packages/sklearn/linear_model/_logistic.py:940: ConvergenceWarning: lbfgs failed to converge (status=1):\n",
            "STOP: TOTAL NO. of ITERATIONS REACHED LIMIT.\n",
            "\n",
            "Increase the number of iterations (max_iter) or scale the data as shown in:\n",
            "    https://scikit-learn.org/stable/modules/preprocessing.html\n",
            "Please also refer to the documentation for alternative solver options:\n",
            "    https://scikit-learn.org/stable/modules/linear_model.html#logistic-regression\n",
            "  extra_warning_msg=_LOGISTIC_SOLVER_CONVERGENCE_MSG)\n"
          ]
        },
        {
          "output_type": "stream",
          "name": "stdout",
          "text": [
            "[CV] ............. , accuracy=(train=0.875, test=0.875), total=   4.1s\n",
            "[CV]  ................................................................\n",
            "[CV] ............. , accuracy=(train=0.875, test=0.875), total=   3.6s\n",
            "[CV]  ................................................................\n",
            "[CV] ............. , accuracy=(train=0.875, test=0.875), total=   4.0s\n",
            "[CV]  ................................................................\n",
            "[CV] ............. , accuracy=(train=0.875, test=0.875), total=   3.6s\n",
            "[CV]  ................................................................\n"
          ]
        },
        {
          "output_type": "stream",
          "name": "stderr",
          "text": [
            "/usr/local/lib/python3.7/dist-packages/sklearn/linear_model/_logistic.py:940: ConvergenceWarning: lbfgs failed to converge (status=1):\n",
            "STOP: TOTAL NO. of ITERATIONS REACHED LIMIT.\n",
            "\n",
            "Increase the number of iterations (max_iter) or scale the data as shown in:\n",
            "    https://scikit-learn.org/stable/modules/preprocessing.html\n",
            "Please also refer to the documentation for alternative solver options:\n",
            "    https://scikit-learn.org/stable/modules/linear_model.html#logistic-regression\n",
            "  extra_warning_msg=_LOGISTIC_SOLVER_CONVERGENCE_MSG)\n"
          ]
        },
        {
          "output_type": "stream",
          "name": "stdout",
          "text": [
            "[CV] ............. , accuracy=(train=0.875, test=0.875), total=   4.3s\n",
            "[CV]  ................................................................\n",
            "[CV] ............. , accuracy=(train=0.875, test=0.875), total=   3.6s\n",
            "[CV]  ................................................................\n",
            "[CV] ............. , accuracy=(train=0.875, test=0.875), total=   4.0s\n",
            "[CV]  ................................................................\n"
          ]
        },
        {
          "output_type": "stream",
          "name": "stderr",
          "text": [
            "/usr/local/lib/python3.7/dist-packages/sklearn/linear_model/_logistic.py:940: ConvergenceWarning: lbfgs failed to converge (status=1):\n",
            "STOP: TOTAL NO. of ITERATIONS REACHED LIMIT.\n",
            "\n",
            "Increase the number of iterations (max_iter) or scale the data as shown in:\n",
            "    https://scikit-learn.org/stable/modules/preprocessing.html\n",
            "Please also refer to the documentation for alternative solver options:\n",
            "    https://scikit-learn.org/stable/modules/linear_model.html#logistic-regression\n",
            "  extra_warning_msg=_LOGISTIC_SOLVER_CONVERGENCE_MSG)\n"
          ]
        },
        {
          "output_type": "stream",
          "name": "stdout",
          "text": [
            "[CV] ............. , accuracy=(train=0.875, test=0.875), total=   4.2s\n",
            "[CV]  ................................................................\n",
            "[CV] ............. , accuracy=(train=0.875, test=0.875), total=   4.0s\n",
            "[CV]  ................................................................\n",
            "[CV] ............. , accuracy=(train=0.875, test=0.875), total=   3.5s\n",
            "[CV]  ................................................................\n"
          ]
        },
        {
          "output_type": "stream",
          "name": "stderr",
          "text": [
            "/usr/local/lib/python3.7/dist-packages/sklearn/linear_model/_logistic.py:940: ConvergenceWarning: lbfgs failed to converge (status=1):\n",
            "STOP: TOTAL NO. of ITERATIONS REACHED LIMIT.\n",
            "\n",
            "Increase the number of iterations (max_iter) or scale the data as shown in:\n",
            "    https://scikit-learn.org/stable/modules/preprocessing.html\n",
            "Please also refer to the documentation for alternative solver options:\n",
            "    https://scikit-learn.org/stable/modules/linear_model.html#logistic-regression\n",
            "  extra_warning_msg=_LOGISTIC_SOLVER_CONVERGENCE_MSG)\n"
          ]
        },
        {
          "output_type": "stream",
          "name": "stdout",
          "text": [
            "[CV] ............. , accuracy=(train=0.875, test=0.875), total=   4.3s\n",
            "[CV]  ................................................................\n",
            "[CV] ............. , accuracy=(train=0.875, test=0.875), total=   3.4s\n",
            "[CV]  ................................................................\n"
          ]
        },
        {
          "output_type": "stream",
          "name": "stderr",
          "text": [
            "/usr/local/lib/python3.7/dist-packages/sklearn/linear_model/_logistic.py:940: ConvergenceWarning: lbfgs failed to converge (status=1):\n",
            "STOP: TOTAL NO. of ITERATIONS REACHED LIMIT.\n",
            "\n",
            "Increase the number of iterations (max_iter) or scale the data as shown in:\n",
            "    https://scikit-learn.org/stable/modules/preprocessing.html\n",
            "Please also refer to the documentation for alternative solver options:\n",
            "    https://scikit-learn.org/stable/modules/linear_model.html#logistic-regression\n",
            "  extra_warning_msg=_LOGISTIC_SOLVER_CONVERGENCE_MSG)\n"
          ]
        },
        {
          "output_type": "stream",
          "name": "stdout",
          "text": [
            "[CV] ............. , accuracy=(train=0.875, test=0.875), total=   4.2s\n",
            "[CV]  ................................................................\n",
            "[CV] ............. , accuracy=(train=0.875, test=0.875), total=   2.4s\n",
            "[CV]  ................................................................\n",
            "[CV] ............. , accuracy=(train=0.875, test=0.875), total=   3.6s\n",
            "[CV]  ................................................................\n"
          ]
        },
        {
          "output_type": "stream",
          "name": "stderr",
          "text": [
            "/usr/local/lib/python3.7/dist-packages/sklearn/linear_model/_logistic.py:940: ConvergenceWarning: lbfgs failed to converge (status=1):\n",
            "STOP: TOTAL NO. of ITERATIONS REACHED LIMIT.\n",
            "\n",
            "Increase the number of iterations (max_iter) or scale the data as shown in:\n",
            "    https://scikit-learn.org/stable/modules/preprocessing.html\n",
            "Please also refer to the documentation for alternative solver options:\n",
            "    https://scikit-learn.org/stable/modules/linear_model.html#logistic-regression\n",
            "  extra_warning_msg=_LOGISTIC_SOLVER_CONVERGENCE_MSG)\n"
          ]
        },
        {
          "output_type": "stream",
          "name": "stdout",
          "text": [
            "[CV] ............. , accuracy=(train=0.875, test=0.875), total=   4.1s\n",
            "[CV]  ................................................................\n",
            "[CV] ............. , accuracy=(train=0.875, test=0.875), total=   3.5s\n",
            "[CV]  ................................................................\n",
            "[CV] ............. , accuracy=(train=0.875, test=0.875), total=   3.8s\n",
            "[CV]  ................................................................\n",
            "[CV] ............. , accuracy=(train=0.875, test=0.875), total=   3.8s\n",
            "[CV]  ................................................................\n"
          ]
        },
        {
          "output_type": "stream",
          "name": "stderr",
          "text": [
            "/usr/local/lib/python3.7/dist-packages/sklearn/linear_model/_logistic.py:940: ConvergenceWarning: lbfgs failed to converge (status=1):\n",
            "STOP: TOTAL NO. of ITERATIONS REACHED LIMIT.\n",
            "\n",
            "Increase the number of iterations (max_iter) or scale the data as shown in:\n",
            "    https://scikit-learn.org/stable/modules/preprocessing.html\n",
            "Please also refer to the documentation for alternative solver options:\n",
            "    https://scikit-learn.org/stable/modules/linear_model.html#logistic-regression\n",
            "  extra_warning_msg=_LOGISTIC_SOLVER_CONVERGENCE_MSG)\n"
          ]
        },
        {
          "output_type": "stream",
          "name": "stdout",
          "text": [
            "[CV] ............. , accuracy=(train=0.875, test=0.875), total=   4.1s\n",
            "[CV]  ................................................................\n",
            "[CV] ............. , accuracy=(train=0.875, test=0.875), total=   3.8s\n",
            "[CV]  ................................................................\n",
            "[CV] ............. , accuracy=(train=0.875, test=0.875), total=   3.2s\n",
            "[CV]  ................................................................\n"
          ]
        },
        {
          "output_type": "stream",
          "name": "stderr",
          "text": [
            "/usr/local/lib/python3.7/dist-packages/sklearn/linear_model/_logistic.py:940: ConvergenceWarning: lbfgs failed to converge (status=1):\n",
            "STOP: TOTAL NO. of ITERATIONS REACHED LIMIT.\n",
            "\n",
            "Increase the number of iterations (max_iter) or scale the data as shown in:\n",
            "    https://scikit-learn.org/stable/modules/preprocessing.html\n",
            "Please also refer to the documentation for alternative solver options:\n",
            "    https://scikit-learn.org/stable/modules/linear_model.html#logistic-regression\n",
            "  extra_warning_msg=_LOGISTIC_SOLVER_CONVERGENCE_MSG)\n"
          ]
        },
        {
          "output_type": "stream",
          "name": "stdout",
          "text": [
            "[CV] ............. , accuracy=(train=0.875, test=0.875), total=   4.2s\n",
            "[CV]  ................................................................\n"
          ]
        },
        {
          "output_type": "stream",
          "name": "stderr",
          "text": [
            "/usr/local/lib/python3.7/dist-packages/sklearn/linear_model/_logistic.py:940: ConvergenceWarning: lbfgs failed to converge (status=1):\n",
            "STOP: TOTAL NO. of ITERATIONS REACHED LIMIT.\n",
            "\n",
            "Increase the number of iterations (max_iter) or scale the data as shown in:\n",
            "    https://scikit-learn.org/stable/modules/preprocessing.html\n",
            "Please also refer to the documentation for alternative solver options:\n",
            "    https://scikit-learn.org/stable/modules/linear_model.html#logistic-regression\n",
            "  extra_warning_msg=_LOGISTIC_SOLVER_CONVERGENCE_MSG)\n"
          ]
        },
        {
          "output_type": "stream",
          "name": "stdout",
          "text": [
            "[CV] ............. , accuracy=(train=0.875, test=0.875), total=   4.1s\n",
            "[CV]  ................................................................\n",
            "[CV] ............. , accuracy=(train=0.875, test=0.875), total=   3.6s\n",
            "[CV]  ................................................................\n",
            "[CV] ............. , accuracy=(train=0.875, test=0.875), total=   3.6s\n",
            "[CV]  ................................................................\n",
            "[CV] ............. , accuracy=(train=0.875, test=0.875), total=   4.1s\n",
            "[CV]  ................................................................\n"
          ]
        },
        {
          "output_type": "stream",
          "name": "stderr",
          "text": [
            "/usr/local/lib/python3.7/dist-packages/sklearn/linear_model/_logistic.py:940: ConvergenceWarning: lbfgs failed to converge (status=1):\n",
            "STOP: TOTAL NO. of ITERATIONS REACHED LIMIT.\n",
            "\n",
            "Increase the number of iterations (max_iter) or scale the data as shown in:\n",
            "    https://scikit-learn.org/stable/modules/preprocessing.html\n",
            "Please also refer to the documentation for alternative solver options:\n",
            "    https://scikit-learn.org/stable/modules/linear_model.html#logistic-regression\n",
            "  extra_warning_msg=_LOGISTIC_SOLVER_CONVERGENCE_MSG)\n"
          ]
        },
        {
          "output_type": "stream",
          "name": "stdout",
          "text": [
            "[CV] ............. , accuracy=(train=0.875, test=0.875), total=   4.3s\n",
            "[CV]  ................................................................\n",
            "[CV] ............. , accuracy=(train=0.875, test=0.875), total=   3.2s\n",
            "[CV]  ................................................................\n",
            "[CV] ............. , accuracy=(train=0.875, test=0.875), total=   3.9s\n",
            "[CV]  ................................................................\n",
            "[CV] ............. , accuracy=(train=0.875, test=0.875), total=   3.5s\n",
            "[CV]  ................................................................\n",
            "[CV] ............. , accuracy=(train=0.875, test=0.875), total=   4.1s\n",
            "[CV]  ................................................................\n",
            "[CV] ............. , accuracy=(train=0.875, test=0.875), total=   3.5s\n",
            "[CV]  ................................................................\n"
          ]
        },
        {
          "output_type": "stream",
          "name": "stderr",
          "text": [
            "/usr/local/lib/python3.7/dist-packages/sklearn/linear_model/_logistic.py:940: ConvergenceWarning: lbfgs failed to converge (status=1):\n",
            "STOP: TOTAL NO. of ITERATIONS REACHED LIMIT.\n",
            "\n",
            "Increase the number of iterations (max_iter) or scale the data as shown in:\n",
            "    https://scikit-learn.org/stable/modules/preprocessing.html\n",
            "Please also refer to the documentation for alternative solver options:\n",
            "    https://scikit-learn.org/stable/modules/linear_model.html#logistic-regression\n",
            "  extra_warning_msg=_LOGISTIC_SOLVER_CONVERGENCE_MSG)\n"
          ]
        },
        {
          "output_type": "stream",
          "name": "stdout",
          "text": [
            "[CV] ............. , accuracy=(train=0.875, test=0.875), total=   4.1s\n",
            "[CV]  ................................................................\n",
            "[CV] ............. , accuracy=(train=0.875, test=0.875), total=   4.2s\n"
          ]
        },
        {
          "output_type": "stream",
          "name": "stderr",
          "text": [
            "/usr/local/lib/python3.7/dist-packages/sklearn/linear_model/_logistic.py:940: ConvergenceWarning: lbfgs failed to converge (status=1):\n",
            "STOP: TOTAL NO. of ITERATIONS REACHED LIMIT.\n",
            "\n",
            "Increase the number of iterations (max_iter) or scale the data as shown in:\n",
            "    https://scikit-learn.org/stable/modules/preprocessing.html\n",
            "Please also refer to the documentation for alternative solver options:\n",
            "    https://scikit-learn.org/stable/modules/linear_model.html#logistic-regression\n",
            "  extra_warning_msg=_LOGISTIC_SOLVER_CONVERGENCE_MSG)\n",
            "[Parallel(n_jobs=1)]: Done  50 out of  50 | elapsed:  3.2min finished\n"
          ]
        }
      ]
    },
    {
      "cell_type": "code",
      "metadata": {
        "colab": {
          "base_uri": "https://localhost:8080/"
        },
        "id": "J7hCk-5klsmq",
        "outputId": "79d33ec8-c994-4b8b-d11c-8f4ed2f8c623"
      },
      "source": [
        "scores['train_accuracy']"
      ],
      "execution_count": null,
      "outputs": [
        {
          "output_type": "execute_result",
          "data": {
            "text/plain": [
              "array([0.87515764, 0.87515764, 0.87515764, 0.87515764, 0.87515764,\n",
              "       0.87515764, 0.87515764, 0.87515764, 0.87515764, 0.87515764,\n",
              "       0.87515764, 0.87515764, 0.87515764, 0.87515764, 0.87515764,\n",
              "       0.87515764, 0.87516163, 0.87516163, 0.87516163, 0.87516163,\n",
              "       0.87516163, 0.87516163, 0.87516163, 0.87516163, 0.87516163,\n",
              "       0.87516163, 0.87516163, 0.87516163, 0.87516163, 0.87516163,\n",
              "       0.87516163, 0.87516163, 0.87516163, 0.87516163, 0.87516163,\n",
              "       0.87516163, 0.87515814, 0.87515814, 0.87515814, 0.87515814,\n",
              "       0.87515814, 0.87515814, 0.87515814, 0.87515814, 0.87515814,\n",
              "       0.87515814, 0.87515814, 0.87515814, 0.87515814, 0.87515814])"
            ]
          },
          "metadata": {},
          "execution_count": 53
        }
      ]
    },
    {
      "cell_type": "code",
      "metadata": {
        "id": "ja6eNvF8nB2Q",
        "colab": {
          "base_uri": "https://localhost:8080/"
        },
        "outputId": "8c69be69-5ec1-4911-af18-a6b8525f725a"
      },
      "source": [
        "scores['test_accuracy']"
      ],
      "execution_count": null,
      "outputs": [
        {
          "output_type": "execute_result",
          "data": {
            "text/plain": [
              "array([0.87524443, 0.87524443, 0.87524443, 0.87524443, 0.87524443,\n",
              "       0.87524443, 0.87524443, 0.87524443, 0.87524443, 0.87524443,\n",
              "       0.87524443, 0.87524443, 0.87524443, 0.87524443, 0.87524443,\n",
              "       0.87524443, 0.87504889, 0.87504889, 0.87504889, 0.87504889,\n",
              "       0.87504889, 0.87504889, 0.87504889, 0.87504889, 0.87504889,\n",
              "       0.87504889, 0.87504889, 0.87504889, 0.87504889, 0.87504889,\n",
              "       0.87504889, 0.87504889, 0.87504889, 0.87504889, 0.87504889,\n",
              "       0.87504889, 0.87522003, 0.87522003, 0.87522003, 0.87522003,\n",
              "       0.87522003, 0.87522003, 0.87522003, 0.87522003, 0.87522003,\n",
              "       0.87522003, 0.87522003, 0.87522003, 0.87522003, 0.87522003])"
            ]
          },
          "metadata": {},
          "execution_count": 54
        }
      ]
    },
    {
      "cell_type": "code",
      "metadata": {
        "colab": {
          "base_uri": "https://localhost:8080/",
          "height": 234
        },
        "id": "7rzJp3BaVyqq",
        "outputId": "459ae14a-7e8f-4b34-b5d9-863daebe8e48"
      },
      "source": [
        "working_data.head()"
      ],
      "execution_count": null,
      "outputs": [
        {
          "output_type": "execute_result",
          "data": {
            "text/html": [
              "<div>\n",
              "<style scoped>\n",
              "    .dataframe tbody tr th:only-of-type {\n",
              "        vertical-align: middle;\n",
              "    }\n",
              "\n",
              "    .dataframe tbody tr th {\n",
              "        vertical-align: top;\n",
              "    }\n",
              "\n",
              "    .dataframe thead th {\n",
              "        text-align: right;\n",
              "    }\n",
              "</style>\n",
              "<table border=\"1\" class=\"dataframe\">\n",
              "  <thead>\n",
              "    <tr style=\"text-align: right;\">\n",
              "      <th></th>\n",
              "      <th>Gender</th>\n",
              "      <th>Age</th>\n",
              "      <th>Driving_License</th>\n",
              "      <th>Previously_Insured</th>\n",
              "      <th>Vehicle_Damage</th>\n",
              "      <th>Annual_Premium</th>\n",
              "      <th>Vintage</th>\n",
              "      <th>Response</th>\n",
              "      <th>Vehicle_Age_&gt;2yrs</th>\n",
              "      <th>Vehicle_Age_1-2yrs</th>\n",
              "      <th>Vehicle_Age_&lt;1yr</th>\n",
              "    </tr>\n",
              "    <tr>\n",
              "      <th>id</th>\n",
              "      <th></th>\n",
              "      <th></th>\n",
              "      <th></th>\n",
              "      <th></th>\n",
              "      <th></th>\n",
              "      <th></th>\n",
              "      <th></th>\n",
              "      <th></th>\n",
              "      <th></th>\n",
              "      <th></th>\n",
              "      <th></th>\n",
              "    </tr>\n",
              "  </thead>\n",
              "  <tbody>\n",
              "    <tr>\n",
              "      <th>1</th>\n",
              "      <td>1</td>\n",
              "      <td>44</td>\n",
              "      <td>1</td>\n",
              "      <td>0</td>\n",
              "      <td>1</td>\n",
              "      <td>40454.0</td>\n",
              "      <td>217</td>\n",
              "      <td>1</td>\n",
              "      <td>1</td>\n",
              "      <td>0</td>\n",
              "      <td>0</td>\n",
              "    </tr>\n",
              "    <tr>\n",
              "      <th>2</th>\n",
              "      <td>1</td>\n",
              "      <td>76</td>\n",
              "      <td>1</td>\n",
              "      <td>0</td>\n",
              "      <td>0</td>\n",
              "      <td>33536.0</td>\n",
              "      <td>183</td>\n",
              "      <td>0</td>\n",
              "      <td>0</td>\n",
              "      <td>1</td>\n",
              "      <td>0</td>\n",
              "    </tr>\n",
              "    <tr>\n",
              "      <th>3</th>\n",
              "      <td>1</td>\n",
              "      <td>47</td>\n",
              "      <td>1</td>\n",
              "      <td>0</td>\n",
              "      <td>1</td>\n",
              "      <td>38294.0</td>\n",
              "      <td>27</td>\n",
              "      <td>1</td>\n",
              "      <td>1</td>\n",
              "      <td>0</td>\n",
              "      <td>0</td>\n",
              "    </tr>\n",
              "    <tr>\n",
              "      <th>4</th>\n",
              "      <td>1</td>\n",
              "      <td>21</td>\n",
              "      <td>1</td>\n",
              "      <td>1</td>\n",
              "      <td>0</td>\n",
              "      <td>28619.0</td>\n",
              "      <td>203</td>\n",
              "      <td>0</td>\n",
              "      <td>0</td>\n",
              "      <td>0</td>\n",
              "      <td>1</td>\n",
              "    </tr>\n",
              "    <tr>\n",
              "      <th>5</th>\n",
              "      <td>0</td>\n",
              "      <td>29</td>\n",
              "      <td>1</td>\n",
              "      <td>1</td>\n",
              "      <td>0</td>\n",
              "      <td>27496.0</td>\n",
              "      <td>39</td>\n",
              "      <td>0</td>\n",
              "      <td>0</td>\n",
              "      <td>0</td>\n",
              "      <td>1</td>\n",
              "    </tr>\n",
              "  </tbody>\n",
              "</table>\n",
              "</div>"
            ],
            "text/plain": [
              "    Gender  Age  ...  Vehicle_Age_1-2yrs  Vehicle_Age_<1yr\n",
              "id               ...                                      \n",
              "1        1   44  ...                   0                 0\n",
              "2        1   76  ...                   1                 0\n",
              "3        1   47  ...                   0                 0\n",
              "4        1   21  ...                   0                 1\n",
              "5        0   29  ...                   0                 1\n",
              "\n",
              "[5 rows x 11 columns]"
            ]
          },
          "metadata": {},
          "execution_count": 62
        }
      ]
    },
    {
      "cell_type": "code",
      "metadata": {
        "id": "zu0S61o2VWO3"
      },
      "source": [
        "filepath_new = '/content/drive/MyDrive/Colab Notebooks/Cohort_Himalaya_AlmaBetter/ML_CAPSTONE/HEALTH INSURANCE CROSS SELL PREDICTION /processed_data.csv'\n",
        "work_df = pd.read_csv(filepath_new)"
      ],
      "execution_count": null,
      "outputs": []
    },
    {
      "cell_type": "code",
      "metadata": {
        "colab": {
          "base_uri": "https://localhost:8080/"
        },
        "id": "oA7DsV5oZFJS",
        "outputId": "78a697ed-3db7-4a2a-f86d-bac01234be74"
      },
      "source": [
        "from imblearn.over_sampling import SMOTE\n",
        "\n",
        "smote = SMOTE()\n",
        "\n",
        "# fit predictor and target variable\n",
        "x_smote, y_smote = smote.fit_resample(work_df.iloc[:,0:-1], work_df['Response'])\n",
        "\n",
        "print('Original dataset shape', len(work_df))\n",
        "print('Resampled dataset shape', len(y_smote))"
      ],
      "execution_count": null,
      "outputs": [
        {
          "output_type": "stream",
          "name": "stderr",
          "text": [
            "/usr/local/lib/python3.7/dist-packages/sklearn/utils/deprecation.py:87: FutureWarning: Function safe_indexing is deprecated; safe_indexing is deprecated in version 0.22 and will be removed in version 0.24.\n",
            "  warnings.warn(msg, category=FutureWarning)\n"
          ]
        },
        {
          "output_type": "stream",
          "name": "stdout",
          "text": [
            "Original dataset shape 381109\n",
            "Resampled dataset shape 668798\n"
          ]
        }
      ]
    },
    {
      "cell_type": "code",
      "metadata": {
        "colab": {
          "base_uri": "https://localhost:8080/"
        },
        "id": "orywlOYJh8gs",
        "outputId": "c5ac531d-cab5-49ae-d9c4-76d88dad71e3"
      },
      "source": [
        "x_smote"
      ],
      "execution_count": null,
      "outputs": [
        {
          "output_type": "execute_result",
          "data": {
            "text/plain": [
              "array([[1.00000000e+00, 1.00000000e+00, 4.40000000e+01, ...,\n",
              "        2.17000000e+02, 1.00000000e+00, 1.99385194e-01],\n",
              "       [2.00000000e+00, 1.00000000e+00, 7.60000000e+01, ...,\n",
              "        1.83000000e+02, 0.00000000e+00, 1.99385194e-01],\n",
              "       [3.00000000e+00, 1.00000000e+00, 4.70000000e+01, ...,\n",
              "        2.70000000e+01, 1.00000000e+00, 1.99385194e-01],\n",
              "       ...,\n",
              "       [2.18829774e+05, 0.00000000e+00, 3.88824384e+01, ...,\n",
              "        3.06342545e+01, 1.00000000e+00, 1.99385194e-01],\n",
              "       [3.70570461e+05, 4.32865396e-01, 4.74488851e+01, ...,\n",
              "        1.17220479e+02, 1.00000000e+00, 2.38375813e-01],\n",
              "       [1.01493405e+05, 1.02223325e-01, 3.82044466e+01, ...,\n",
              "        2.90182213e+02, 1.00000000e+00, 1.89147915e-01]])"
            ]
          },
          "metadata": {},
          "execution_count": 71
        }
      ]
    },
    {
      "cell_type": "code",
      "metadata": {
        "id": "e4WuK1QQaAd6"
      },
      "source": [
        "columns = list(df.columns)"
      ],
      "execution_count": null,
      "outputs": []
    },
    {
      "cell_type": "code",
      "metadata": {
        "colab": {
          "base_uri": "https://localhost:8080/",
          "height": 34
        },
        "id": "HRdNoTVGiKcA",
        "outputId": "e39561c3-d52c-4345-f378-989b4545e77e"
      },
      "source": [
        "columns.pop(-3)"
      ],
      "execution_count": null,
      "outputs": [
        {
          "output_type": "execute_result",
          "data": {
            "application/vnd.google.colaboratory.intrinsic+json": {
              "type": "string"
            },
            "text/plain": [
              "'Response'"
            ]
          },
          "metadata": {},
          "execution_count": 77
        }
      ]
    },
    {
      "cell_type": "code",
      "metadata": {
        "id": "kA2Ypg6aiWTq"
      },
      "source": [
        "balance_df = pd.DataFrame(x_smote, columns=columns)"
      ],
      "execution_count": null,
      "outputs": []
    },
    {
      "cell_type": "code",
      "metadata": {
        "id": "eUurkZ7Piq4o"
      },
      "source": [
        "balance_df['Response'] = y_smote\n"
      ],
      "execution_count": null,
      "outputs": []
    },
    {
      "cell_type": "code",
      "metadata": {
        "id": "NHSysZi1ivGI"
      },
      "source": [
        "balance_df.drop(['id'], axis = 1, inplace = True)"
      ],
      "execution_count": null,
      "outputs": []
    },
    {
      "cell_type": "code",
      "metadata": {
        "colab": {
          "base_uri": "https://localhost:8080/",
          "height": 416
        },
        "id": "4DKtVPF9i17p",
        "outputId": "511dc20b-9832-49b9-da60-b8d1d68489bc"
      },
      "source": [
        "balance_df"
      ],
      "execution_count": null,
      "outputs": [
        {
          "output_type": "execute_result",
          "data": {
            "text/html": [
              "<div>\n",
              "<style scoped>\n",
              "    .dataframe tbody tr th:only-of-type {\n",
              "        vertical-align: middle;\n",
              "    }\n",
              "\n",
              "    .dataframe tbody tr th {\n",
              "        vertical-align: top;\n",
              "    }\n",
              "\n",
              "    .dataframe thead th {\n",
              "        text-align: right;\n",
              "    }\n",
              "</style>\n",
              "<table border=\"1\" class=\"dataframe\">\n",
              "  <thead>\n",
              "    <tr style=\"text-align: right;\">\n",
              "      <th></th>\n",
              "      <th>Gender</th>\n",
              "      <th>Age</th>\n",
              "      <th>Driving_License</th>\n",
              "      <th>Region_Code</th>\n",
              "      <th>Previously_Insured</th>\n",
              "      <th>Vehicle_Age</th>\n",
              "      <th>Vehicle_Damage</th>\n",
              "      <th>Annual_Premium</th>\n",
              "      <th>Policy_Sales_Channel</th>\n",
              "      <th>Vintage</th>\n",
              "      <th>Policy_Sales_Channel_Target_encoded</th>\n",
              "      <th>Region_Code_Target_encoded</th>\n",
              "      <th>Response</th>\n",
              "    </tr>\n",
              "  </thead>\n",
              "  <tbody>\n",
              "    <tr>\n",
              "      <th>0</th>\n",
              "      <td>1.000000</td>\n",
              "      <td>44.000000</td>\n",
              "      <td>1.0</td>\n",
              "      <td>28.000000</td>\n",
              "      <td>0.0</td>\n",
              "      <td>2.5</td>\n",
              "      <td>1.0</td>\n",
              "      <td>40454.000000</td>\n",
              "      <td>26.000000</td>\n",
              "      <td>217.000000</td>\n",
              "      <td>1.0</td>\n",
              "      <td>0.199385</td>\n",
              "      <td>1</td>\n",
              "    </tr>\n",
              "    <tr>\n",
              "      <th>1</th>\n",
              "      <td>1.000000</td>\n",
              "      <td>76.000000</td>\n",
              "      <td>1.0</td>\n",
              "      <td>3.000000</td>\n",
              "      <td>0.0</td>\n",
              "      <td>1.5</td>\n",
              "      <td>0.0</td>\n",
              "      <td>33536.000000</td>\n",
              "      <td>26.000000</td>\n",
              "      <td>183.000000</td>\n",
              "      <td>0.0</td>\n",
              "      <td>0.199385</td>\n",
              "      <td>0</td>\n",
              "    </tr>\n",
              "    <tr>\n",
              "      <th>2</th>\n",
              "      <td>1.000000</td>\n",
              "      <td>47.000000</td>\n",
              "      <td>1.0</td>\n",
              "      <td>28.000000</td>\n",
              "      <td>0.0</td>\n",
              "      <td>2.5</td>\n",
              "      <td>1.0</td>\n",
              "      <td>38294.000000</td>\n",
              "      <td>26.000000</td>\n",
              "      <td>27.000000</td>\n",
              "      <td>1.0</td>\n",
              "      <td>0.199385</td>\n",
              "      <td>1</td>\n",
              "    </tr>\n",
              "    <tr>\n",
              "      <th>3</th>\n",
              "      <td>1.000000</td>\n",
              "      <td>21.000000</td>\n",
              "      <td>1.0</td>\n",
              "      <td>11.000000</td>\n",
              "      <td>1.0</td>\n",
              "      <td>0.5</td>\n",
              "      <td>0.0</td>\n",
              "      <td>28619.000000</td>\n",
              "      <td>152.000000</td>\n",
              "      <td>203.000000</td>\n",
              "      <td>0.0</td>\n",
              "      <td>0.028624</td>\n",
              "      <td>0</td>\n",
              "    </tr>\n",
              "    <tr>\n",
              "      <th>4</th>\n",
              "      <td>0.000000</td>\n",
              "      <td>29.000000</td>\n",
              "      <td>1.0</td>\n",
              "      <td>41.000000</td>\n",
              "      <td>1.0</td>\n",
              "      <td>0.5</td>\n",
              "      <td>0.0</td>\n",
              "      <td>27496.000000</td>\n",
              "      <td>152.000000</td>\n",
              "      <td>39.000000</td>\n",
              "      <td>0.0</td>\n",
              "      <td>0.028624</td>\n",
              "      <td>0</td>\n",
              "    </tr>\n",
              "    <tr>\n",
              "      <th>...</th>\n",
              "      <td>...</td>\n",
              "      <td>...</td>\n",
              "      <td>...</td>\n",
              "      <td>...</td>\n",
              "      <td>...</td>\n",
              "      <td>...</td>\n",
              "      <td>...</td>\n",
              "      <td>...</td>\n",
              "      <td>...</td>\n",
              "      <td>...</td>\n",
              "      <td>...</td>\n",
              "      <td>...</td>\n",
              "      <td>...</td>\n",
              "    </tr>\n",
              "    <tr>\n",
              "      <th>668793</th>\n",
              "      <td>1.000000</td>\n",
              "      <td>48.854114</td>\n",
              "      <td>1.0</td>\n",
              "      <td>49.241393</td>\n",
              "      <td>0.0</td>\n",
              "      <td>1.5</td>\n",
              "      <td>1.0</td>\n",
              "      <td>34471.856642</td>\n",
              "      <td>29.472087</td>\n",
              "      <td>261.273294</td>\n",
              "      <td>1.0</td>\n",
              "      <td>0.197424</td>\n",
              "      <td>1</td>\n",
              "    </tr>\n",
              "    <tr>\n",
              "      <th>668794</th>\n",
              "      <td>0.661161</td>\n",
              "      <td>43.016517</td>\n",
              "      <td>1.0</td>\n",
              "      <td>34.140636</td>\n",
              "      <td>0.0</td>\n",
              "      <td>1.5</td>\n",
              "      <td>1.0</td>\n",
              "      <td>23500.444506</td>\n",
              "      <td>112.612094</td>\n",
              "      <td>51.883898</td>\n",
              "      <td>1.0</td>\n",
              "      <td>0.245017</td>\n",
              "      <td>1</td>\n",
              "    </tr>\n",
              "    <tr>\n",
              "      <th>668795</th>\n",
              "      <td>0.000000</td>\n",
              "      <td>38.882438</td>\n",
              "      <td>1.0</td>\n",
              "      <td>25.793904</td>\n",
              "      <td>0.0</td>\n",
              "      <td>1.5</td>\n",
              "      <td>1.0</td>\n",
              "      <td>37459.447023</td>\n",
              "      <td>26.000000</td>\n",
              "      <td>30.634254</td>\n",
              "      <td>1.0</td>\n",
              "      <td>0.199385</td>\n",
              "      <td>1</td>\n",
              "    </tr>\n",
              "    <tr>\n",
              "      <th>668796</th>\n",
              "      <td>0.432865</td>\n",
              "      <td>47.448885</td>\n",
              "      <td>1.0</td>\n",
              "      <td>48.865731</td>\n",
              "      <td>0.0</td>\n",
              "      <td>1.5</td>\n",
              "      <td>1.0</td>\n",
              "      <td>2630.000000</td>\n",
              "      <td>156.432865</td>\n",
              "      <td>117.220479</td>\n",
              "      <td>1.0</td>\n",
              "      <td>0.238376</td>\n",
              "      <td>1</td>\n",
              "    </tr>\n",
              "    <tr>\n",
              "      <th>668797</th>\n",
              "      <td>0.102223</td>\n",
              "      <td>38.204447</td>\n",
              "      <td>1.0</td>\n",
              "      <td>25.546640</td>\n",
              "      <td>0.0</td>\n",
              "      <td>1.5</td>\n",
              "      <td>1.0</td>\n",
              "      <td>23941.253012</td>\n",
              "      <td>124.000000</td>\n",
              "      <td>290.182213</td>\n",
              "      <td>1.0</td>\n",
              "      <td>0.189148</td>\n",
              "      <td>1</td>\n",
              "    </tr>\n",
              "  </tbody>\n",
              "</table>\n",
              "<p>668798 rows × 13 columns</p>\n",
              "</div>"
            ],
            "text/plain": [
              "          Gender        Age  ...  Region_Code_Target_encoded  Response\n",
              "0       1.000000  44.000000  ...                    0.199385         1\n",
              "1       1.000000  76.000000  ...                    0.199385         0\n",
              "2       1.000000  47.000000  ...                    0.199385         1\n",
              "3       1.000000  21.000000  ...                    0.028624         0\n",
              "4       0.000000  29.000000  ...                    0.028624         0\n",
              "...          ...        ...  ...                         ...       ...\n",
              "668793  1.000000  48.854114  ...                    0.197424         1\n",
              "668794  0.661161  43.016517  ...                    0.245017         1\n",
              "668795  0.000000  38.882438  ...                    0.199385         1\n",
              "668796  0.432865  47.448885  ...                    0.238376         1\n",
              "668797  0.102223  38.204447  ...                    0.189148         1\n",
              "\n",
              "[668798 rows x 13 columns]"
            ]
          },
          "metadata": {},
          "execution_count": 89
        }
      ]
    },
    {
      "cell_type": "code",
      "metadata": {
        "colab": {
          "base_uri": "https://localhost:8080/",
          "height": 353
        },
        "id": "o3JRImbqjIgR",
        "outputId": "3761e8e0-368e-4f23-c5ee-fe8a6bf8c27a"
      },
      "source": [
        "sns.countplot('Response', data = balance_df)"
      ],
      "execution_count": null,
      "outputs": [
        {
          "output_type": "stream",
          "name": "stderr",
          "text": [
            "/usr/local/lib/python3.7/dist-packages/seaborn/_decorators.py:43: FutureWarning: Pass the following variable as a keyword arg: x. From version 0.12, the only valid positional argument will be `data`, and passing other arguments without an explicit keyword will result in an error or misinterpretation.\n",
            "  FutureWarning\n"
          ]
        },
        {
          "output_type": "execute_result",
          "data": {
            "text/plain": [
              "<matplotlib.axes._subplots.AxesSubplot at 0x7f9f7f182690>"
            ]
          },
          "metadata": {},
          "execution_count": 90
        },
        {
          "output_type": "display_data",
          "data": {
            "image/png": "[encoded data removed]",
            "text/plain": [
              "<Figure size 432x288 with 1 Axes>"
            ]
          },
          "metadata": {
            "needs_background": "light"
          }
        }
      ]
    },
    {
      "cell_type": "code",
      "metadata": {
        "id": "nlzRzvO8jUVv"
      },
      "source": [
        "df_log_reg = balance_df.copy()"
      ],
      "execution_count": null,
      "outputs": []
    },
    {
      "cell_type": "code",
      "metadata": {
        "id": "JbjBTBTzkNyh"
      },
      "source": [
        "X = df_log_reg.drop(['Response'], axis = 1)\n",
        "y = df_log_reg['Response']"
      ],
      "execution_count": null,
      "outputs": []
    },
    {
      "cell_type": "code",
      "metadata": {
        "id": "I9bA_d4xkfOF"
      },
      "source": [
        "from sklearn.model_selection import train_test_split\n",
        "X_train, X_test, y_train, y_test = train_test_split(X, y, test_size=0.33, random_state=42, stratify=y)"
      ],
      "execution_count": null,
      "outputs": []
    },
    {
      "cell_type": "code",
      "metadata": {
        "colab": {
          "base_uri": "https://localhost:8080/"
        },
        "id": "WnPQGtk6jya-",
        "outputId": "713d2273-38c7-48ba-be6d-f4d224b94ef5"
      },
      "source": [
        "col = ['Age', 'Annual_Premium', 'Vintage']\n",
        "from sklearn.preprocessing import StandardScaler\n",
        "sc = StandardScaler()\n",
        "X_train[col] = sc.fit_transform(X_train[col])\n",
        "X_test[col] = sc.transform(X_test[col])"
      ],
      "execution_count": null,
      "outputs": [
        {
          "output_type": "stream",
          "name": "stderr",
          "text": [
            "/usr/local/lib/python3.7/dist-packages/ipykernel_launcher.py:4: SettingWithCopyWarning: \n",
            "A value is trying to be set on a copy of a slice from a DataFrame.\n",
            "Try using .loc[row_indexer,col_indexer] = value instead\n",
            "\n",
            "See the caveats in the documentation: https://pandas.pydata.org/pandas-docs/stable/user_guide/indexing.html#returning-a-view-versus-a-copy\n",
            "  after removing the cwd from sys.path.\n",
            "/usr/local/lib/python3.7/dist-packages/pandas/core/frame.py:3076: SettingWithCopyWarning: \n",
            "A value is trying to be set on a copy of a slice from a DataFrame\n",
            "\n",
            "See the caveats in the documentation: https://pandas.pydata.org/pandas-docs/stable/user_guide/indexing.html#returning-a-view-versus-a-copy\n",
            "  self.iloc._setitem_with_indexer((slice(None), indexer), value)\n",
            "/usr/local/lib/python3.7/dist-packages/pandas/core/frame.py:3041: SettingWithCopyWarning: \n",
            "A value is trying to be set on a copy of a slice from a DataFrame\n",
            "\n",
            "See the caveats in the documentation: https://pandas.pydata.org/pandas-docs/stable/user_guide/indexing.html#returning-a-view-versus-a-copy\n",
            "  self._setitem_array(key, value)\n",
            "/usr/local/lib/python3.7/dist-packages/ipykernel_launcher.py:5: SettingWithCopyWarning: \n",
            "A value is trying to be set on a copy of a slice from a DataFrame.\n",
            "Try using .loc[row_indexer,col_indexer] = value instead\n",
            "\n",
            "See the caveats in the documentation: https://pandas.pydata.org/pandas-docs/stable/user_guide/indexing.html#returning-a-view-versus-a-copy\n",
            "  \"\"\"\n",
            "/usr/local/lib/python3.7/dist-packages/pandas/core/frame.py:3076: SettingWithCopyWarning: \n",
            "A value is trying to be set on a copy of a slice from a DataFrame\n",
            "\n",
            "See the caveats in the documentation: https://pandas.pydata.org/pandas-docs/stable/user_guide/indexing.html#returning-a-view-versus-a-copy\n",
            "  self.iloc._setitem_with_indexer((slice(None), indexer), value)\n",
            "/usr/local/lib/python3.7/dist-packages/pandas/core/frame.py:3041: SettingWithCopyWarning: \n",
            "A value is trying to be set on a copy of a slice from a DataFrame\n",
            "\n",
            "See the caveats in the documentation: https://pandas.pydata.org/pandas-docs/stable/user_guide/indexing.html#returning-a-view-versus-a-copy\n",
            "  self._setitem_array(key, value)\n"
          ]
        }
      ]
    },
    {
      "cell_type": "code",
      "metadata": {
        "id": "GOH8ViIVkNX8"
      },
      "source": [
        "from sklearn.linear_model import LogisticRegression"
      ],
      "execution_count": null,
      "outputs": []
    },
    {
      "cell_type": "code",
      "metadata": {
        "id": "ud-ncovUk7s1"
      },
      "source": [
        "param_grid = {'penalty':['l1','l2'], 'C' : [0.001, 0.01, 0.1, 1, 10, 100, 1000] }"
      ],
      "execution_count": null,
      "outputs": []
    },
    {
      "cell_type": "code",
      "metadata": {
        "id": "aMkzRValk-4B"
      },
      "source": [
        "from sklearn.model_selection import GridSearchCV"
      ],
      "execution_count": null,
      "outputs": []
    },
    {
      "cell_type": "code",
      "metadata": {
        "colab": {
          "base_uri": "https://localhost:8080/"
        },
        "id": "uyC_zQFclA05",
        "outputId": "29eccda8-8128-4e74-ea7d-142a06c888a5"
      },
      "source": [
        "grid_lr_clf = GridSearchCV(LogisticRegression(), param_grid, scoring = 'accuracy', n_jobs = -1, verbose = 3, cv = 3)\n",
        "grid_lr_clf.fit(X_train, y_train)"
      ],
      "execution_count": null,
      "outputs": [
        {
          "output_type": "stream",
          "name": "stdout",
          "text": [
            "Fitting 3 folds for each of 14 candidates, totalling 42 fits\n"
          ]
        },
        {
          "output_type": "stream",
          "name": "stderr",
          "text": [
            "[Parallel(n_jobs=-1)]: Using backend LokyBackend with 2 concurrent workers.\n",
            "[Parallel(n_jobs=-1)]: Done  28 tasks      | elapsed:   38.8s\n",
            "[Parallel(n_jobs=-1)]: Done  42 out of  42 | elapsed:   58.6s finished\n",
            "/usr/local/lib/python3.7/dist-packages/sklearn/linear_model/_logistic.py:940: ConvergenceWarning: lbfgs failed to converge (status=1):\n",
            "STOP: TOTAL NO. of ITERATIONS REACHED LIMIT.\n",
            "\n",
            "Increase the number of iterations (max_iter) or scale the data as shown in:\n",
            "    https://scikit-learn.org/stable/modules/preprocessing.html\n",
            "Please also refer to the documentation for alternative solver options:\n",
            "    https://scikit-learn.org/stable/modules/linear_model.html#logistic-regression\n",
            "  extra_warning_msg=_LOGISTIC_SOLVER_CONVERGENCE_MSG)\n"
          ]
        },
        {
          "output_type": "execute_result",
          "data": {
            "text/plain": [
              "GridSearchCV(cv=3, error_score=nan,\n",
              "             estimator=LogisticRegression(C=1.0, class_weight=None, dual=False,\n",
              "                                          fit_intercept=True,\n",
              "                                          intercept_scaling=1, l1_ratio=None,\n",
              "                                          max_iter=100, multi_class='auto',\n",
              "                                          n_jobs=None, penalty='l2',\n",
              "                                          random_state=None, solver='lbfgs',\n",
              "                                          tol=0.0001, verbose=0,\n",
              "                                          warm_start=False),\n",
              "             iid='deprecated', n_jobs=-1,\n",
              "             param_grid={'C': [0.001, 0.01, 0.1, 1, 10, 100, 1000],\n",
              "                         'penalty': ['l1', 'l2']},\n",
              "             pre_dispatch='2*n_jobs', refit=True, return_train_score=False,\n",
              "             scoring='accuracy', verbose=3)"
            ]
          },
          "metadata": {},
          "execution_count": 104
        }
      ]
    },
    {
      "cell_type": "code",
      "metadata": {
        "id": "pmcS3RPolCrq"
      },
      "source": [
        "optimized_clf = grid_lr_clf.best_estimator_"
      ],
      "execution_count": null,
      "outputs": []
    },
    {
      "cell_type": "code",
      "metadata": {
        "colab": {
          "base_uri": "https://localhost:8080/"
        },
        "id": "m0MIY4H3lX9s",
        "outputId": "eeb75261-bb8a-42ab-b4b7-37131e4264f0"
      },
      "source": [
        "grid_lr_clf.best_params_"
      ],
      "execution_count": null,
      "outputs": [
        {
          "output_type": "execute_result",
          "data": {
            "text/plain": [
              "{'C': 0.001, 'penalty': 'l2'}"
            ]
          },
          "metadata": {},
          "execution_count": 106
        }
      ]
    },
    {
      "cell_type": "code",
      "metadata": {
        "colab": {
          "base_uri": "https://localhost:8080/"
        },
        "id": "UrP4n43rlZrq",
        "outputId": "9796dae7-bc14-434e-9543-a65d0554e9e2"
      },
      "source": [
        "grid_lr_clf.best_score_"
      ],
      "execution_count": null,
      "outputs": [
        {
          "output_type": "execute_result",
          "data": {
            "text/plain": [
              "1.0"
            ]
          },
          "metadata": {},
          "execution_count": 107
        }
      ]
    },
    {
      "cell_type": "code",
      "metadata": {
        "id": "bZC_X8lUlbIN"
      },
      "source": [
        "train_preds = optimized_clf.predict_proba(X_train)[:,1]\n",
        "test_preds = optimized_clf.predict_proba(X_test)[:,1]"
      ],
      "execution_count": null,
      "outputs": []
    },
    {
      "cell_type": "code",
      "metadata": {
        "id": "fP3dDreuldt7"
      },
      "source": [
        "train_class_preds = optimized_clf.predict(X_train)\n",
        "test_class_preds = optimized_clf.predict(X_test)"
      ],
      "execution_count": null,
      "outputs": []
    },
    {
      "cell_type": "code",
      "metadata": {
        "id": "pVeICgOjliXr"
      },
      "source": [
        "from sklearn.metrics import accuracy_score, recall_score, precision_score, f1_score, roc_auc_score, confusion_matrix, roc_curve, auc"
      ],
      "execution_count": null,
      "outputs": []
    },
    {
      "cell_type": "code",
      "metadata": {
        "colab": {
          "base_uri": "https://localhost:8080/"
        },
        "id": "iStoAdlAlkh0",
        "outputId": "701554d7-8f7a-49db-e623-867b48aae9c7"
      },
      "source": [
        "train_accuracy_lr = accuracy_score(train_class_preds,y_train)\n",
        "test_accuracy_lr = accuracy_score(test_class_preds,y_test)\n",
        "\n",
        "print(\"The accuracy on train data is \", train_accuracy_lr)\n",
        "print(\"The accuracy on test data is \", test_accuracy_lr)"
      ],
      "execution_count": null,
      "outputs": [
        {
          "output_type": "stream",
          "name": "stdout",
          "text": [
            "The accuracy on train data is  1.0\n",
            "The accuracy on test data is  1.0\n"
          ]
        }
      ]
    },
    {
      "cell_type": "code",
      "metadata": {
        "colab": {
          "base_uri": "https://localhost:8080/"
        },
        "id": "aicBw4O2lp5L",
        "outputId": "f82e776a-ffec-4aa4-ecf2-beed8a0bcad0"
      },
      "source": [
        "test_accuracy_lr = accuracy_score(test_class_preds,y_test)\n",
        "test_precision_score_lr = precision_score(test_class_preds,y_test)\n",
        "test_recall_score_lr = recall_score(test_class_preds,y_test)\n",
        "test_f1_score_lr = f1_score(test_class_preds,y_test)\n",
        "test_roc_score_lr = roc_auc_score(test_class_preds,y_test)\n",
        "\n",
        "print(\"The accuracy on test data is \", test_accuracy_lr)\n",
        "print(\"The precision on test data is \", test_precision_score_lr)\n",
        "print(\"The recall on test data is \", test_recall_score_lr)\n",
        "print(\"The f1 on test data is \", test_f1_score_lr)\n",
        "print(\"The roc_score on train data is \", test_roc_score_lr)"
      ],
      "execution_count": null,
      "outputs": [
        {
          "output_type": "stream",
          "name": "stdout",
          "text": [
            "The accuracy on test data is  1.0\n",
            "The precision on test data is  1.0\n",
            "The recall on test data is  1.0\n",
            "The f1 on test data is  1.0\n",
            "The roc_score on train data is  1.0\n"
          ]
        }
      ]
    },
    {
      "cell_type": "code",
      "metadata": {
        "colab": {
          "base_uri": "https://localhost:8080/",
          "height": 345
        },
        "id": "P_YuRFsalwQt",
        "outputId": "ac628457-1224-4617-f383-34baf49542cd"
      },
      "source": [
        "labels = ['Not Defaulter', 'Defaulter']\n",
        "cm = confusion_matrix(y_train, train_class_preds)\n",
        "print(cm)\n",
        "\n",
        "ax= plt.subplot()\n",
        "sns.heatmap(cm, annot=True, ax = ax) #annot=True to annotate cells\n",
        "\n",
        "# labels, title and ticks\n",
        "ax.set_xlabel('Predicted labels')\n",
        "ax.set_ylabel('True labels')\n",
        "ax.set_title('Confusion Matrix')\n",
        "ax.xaxis.set_ticklabels(labels)\n",
        "ax.yaxis.set_ticklabels(labels)"
      ],
      "execution_count": null,
      "outputs": [
        {
          "output_type": "stream",
          "name": "stdout",
          "text": [
            "[[224047      0]\n",
            " [     0 224047]]\n"
          ]
        },
        {
          "output_type": "execute_result",
          "data": {
            "text/plain": [
              "[Text(0, 0.5, 'Not Defaulter'), Text(0, 1.5, 'Defaulter')]"
            ]
          },
          "metadata": {},
          "execution_count": 113
        },
        {
          "output_type": "display_data",
          "data": {
            "image/png": "[encoded data removed]",
            "text/plain": [
              "<Figure size 432x288 with 2 Axes>"
            ]
          },
          "metadata": {
            "needs_background": "light"
          }
        }
      ]
    },
    {
      "cell_type": "markdown",
      "metadata": {
        "id": "ssEBLw-9mB6F"
      },
      "source": [
        "#Random Forest"
      ]
    },
    {
      "cell_type": "code",
      "metadata": {
        "id": "rPlUWcnnm3aq"
      },
      "source": [
        "df_fr = balance_df.copy()"
      ],
      "execution_count": null,
      "outputs": []
    },
    {
      "cell_type": "code",
      "metadata": {
        "id": "n9PNyYCDm1bP"
      },
      "source": [
        "X = df_fr.drop(['Response'],axis=1)\n",
        "y = df_fr['Response']"
      ],
      "execution_count": null,
      "outputs": []
    },
    {
      "cell_type": "code",
      "metadata": {
        "id": "8tv7M2HtnD_B"
      },
      "source": [
        "X_train, X_test, y_train, y_test = train_test_split(X, y, test_size=0.33, random_state=42, stratify = y)"
      ],
      "execution_count": null,
      "outputs": []
    },
    {
      "cell_type": "code",
      "metadata": {
        "id": "b0guEJ1ul4hP"
      },
      "source": [
        "from sklearn.ensemble import RandomForestClassifier"
      ],
      "execution_count": null,
      "outputs": []
    },
    {
      "cell_type": "code",
      "metadata": {
        "colab": {
          "base_uri": "https://localhost:8080/"
        },
        "id": "i8WrLdRWmFFX",
        "outputId": "5706a6ad-a98b-4d92-f5cc-8ac6656fc899"
      },
      "source": [
        "rf_clf = RandomForestClassifier()\n",
        "rf_clf.fit(X_train,y_train)"
      ],
      "execution_count": null,
      "outputs": [
        {
          "output_type": "execute_result",
          "data": {
            "text/plain": [
              "RandomForestClassifier(bootstrap=True, ccp_alpha=0.0, class_weight=None,\n",
              "                       criterion='gini', max_depth=None, max_features='auto',\n",
              "                       max_leaf_nodes=None, max_samples=None,\n",
              "                       min_impurity_decrease=0.0, min_impurity_split=None,\n",
              "                       min_samples_leaf=1, min_samples_split=2,\n",
              "                       min_weight_fraction_leaf=0.0, n_estimators=100,\n",
              "                       n_jobs=None, oob_score=False, random_state=None,\n",
              "                       verbose=0, warm_start=False)"
            ]
          },
          "metadata": {},
          "execution_count": 122
        }
      ]
    },
    {
      "cell_type": "code",
      "metadata": {
        "id": "TRLRFsfMmI7c"
      },
      "source": [
        "train_class_preds = rf_clf.predict(X_train)\n",
        "test_class_preds = rf_clf.predict(X_test)"
      ],
      "execution_count": null,
      "outputs": []
    },
    {
      "cell_type": "code",
      "metadata": {
        "id": "I_90pUEbnbZx"
      },
      "source": [
        ""
      ],
      "execution_count": null,
      "outputs": []
    }
  ]
}