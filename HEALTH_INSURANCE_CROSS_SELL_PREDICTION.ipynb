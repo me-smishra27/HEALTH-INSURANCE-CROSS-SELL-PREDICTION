{
  "nbformat": 4,
  "nbformat_minor": 0,
  "metadata": {
    "colab": {
      "name": "HEALTH INSURANCE CROSS SELL PREDICTION.ipynb",
      "provenance": [],
      "collapsed_sections": [],
      "include_colab_link": true
    },
    "kernelspec": {
      "name": "python3",
      "display_name": "Python 3"
    },
    "language_info": {
      "name": "python"
    }
  },
  "cells": [
    {
      "cell_type": "markdown",
      "metadata": {
        "id": "view-in-github",
        "colab_type": "text"
      },
      "source": [
        "<a href=\"https://colab.research.google.com/github/me-smishra27/HEALTH-INSURANCE-CROSS-SELL-PREDICTION/blob/main/HEALTH_INSURANCE_CROSS_SELL_PREDICTION.ipynb\" target=\"_parent\"><img src=\"https://colab.research.google.com/assets/colab-badge.svg\" alt=\"Open In Colab\"/></a>"
      ]
    },
    {
      "cell_type": "markdown",
      "metadata": {
        "id": "LGcl5Bv9ed6u"
      },
      "source": [
        "# **Problem Statement**"
      ]
    },
    {
      "cell_type": "markdown",
      "metadata": {
        "id": "jJAmGx75jJk1"
      },
      "source": [
        "Our client is an Insurance company that has provided Health Insurance to its customers now they need your help in building a model to predict whether the policyholders (customers) from past year will also be interested in Vehicle Insurance provided by the company.\n",
        "\n",
        "An insurance policy is an arrangement by which a company undertakes to provide a guarantee of compensation for specified loss, damage, illness, or death in return for the payment of a specified premium. A premium is a sum of money that the customer needs to pay regularly to an insurance company for this guarantee.\n",
        "\n",
        "For example, you may pay a premium of Rs. 5000 each year for a health insurance cover of Rs. 200,000/- so that if, God forbid, you fall ill and need to be hospitalised in that year, the insurance provider company will bear the cost of hospitalisation etc. for upto Rs. 200,000. Now if you are wondering how can company bear such high hospitalisation cost when it charges a premium of only Rs. 5000/-, that is where the concept of probabilities comes in picture. For example, like you, there may be 100 customers who would be paying a premium of Rs. 5000 every year, but only a few of them (say 2-3) would get hospitalised that year and not everyone. This way everyone shares the risk of everyone else.\n",
        "\n",
        "Just like medical insurance, there is vehicle insurance where every year customer needs to pay a premium of certain amount to insurance provider company so that in case of unfortunate accident by the vehicle, the insurance provider company will provide a compensation (called ‘sum assured’) to the customer.\n",
        "\n",
        "Building a model to predict whether a customer would be interested in Vehicle Insurance is extremely helpful for the company because it can then accordingly plan its communication strategy to reach out to those customers and optimise its business model and revenue.\n",
        "\n",
        "Now, in order to predict, whether the customer would be interested in Vehicle insurance, you have information about demographics (gender, age, region code type), Vehicles (Vehicle Age, Damage), Policy (Premium, sourcing channel) etc."
      ]
    },
    {
      "cell_type": "markdown",
      "metadata": {
        "id": "AzGDqdC4fZ-b"
      },
      "source": [
        "# **Attribute Information**"
      ]
    },
    {
      "cell_type": "markdown",
      "metadata": {
        "id": "oEJxl68MjYbs"
      },
      "source": [
        "1. id :\tUnique ID for the customer\n",
        "\n",
        "2. Gender\t: Gender of the customer\n",
        "\n",
        "3. Age :\tAge of the customer\n",
        "\n",
        "4. Driving_License\t0 : Customer does not have DL, 1 : Customer already has DL\n",
        "\n",
        "5. Region_Code :\tUnique code for the region of the customer\n",
        "\n",
        "6. Previously_Insured\t: 1 : Customer already has Vehicle Insurance, 0 : Customer doesn't have Vehicle Insurance\n",
        "\n",
        "7. Vehicle_Age :\tAge of the Vehicle\n",
        "\n",
        "8. Vehicle_Damage\t :1 : Customer got his/her vehicle damaged in the past. 0 : Customer didn't get his/her vehicle damaged in the past.\n",
        "\n",
        "9. Annual_Premium\t: The amount customer needs to pay as premium in the year\n",
        "\n",
        "10. PolicySalesChannel :\tAnonymized Code for the channel of outreaching to the customer ie. Different Agents, Over Mail, Over Phone, In Person, etc.\n",
        "\n",
        "11. Vintage :\tNumber of Days, Customer has been associated with the company\n",
        "\n",
        "12. Response :\t1 : Customer is interested, 0 : Customer is not interested"
      ]
    },
    {
      "cell_type": "code",
      "metadata": {
        "colab": {
          "base_uri": "https://localhost:8080/"
        },
        "id": "v1PxP-8Zz0rp",
        "outputId": "c88bac8f-16d3-4132-da1e-7c7e29dbacc3"
      },
      "source": [
        "from google.colab import drive\n",
        "drive.mount('/content/drive')"
      ],
      "execution_count": null,
      "outputs": [
        {
          "output_type": "stream",
          "text": [
            "Mounted at /content/drive\n"
          ],
          "name": "stdout"
        }
      ]
    },
    {
      "cell_type": "code",
      "metadata": {
        "id": "ZnXSPjQk3fHZ"
      },
      "source": [
        "import pandas as pd\n",
        "import numpy as np\n",
        "import matplotlib.pyplot as plt\n",
        "import seaborn as sns\n",
        "%matplotlib inline"
      ],
      "execution_count": null,
      "outputs": []
    },
    {
      "cell_type": "code",
      "metadata": {
        "id": "3TMCMw9lz3rF"
      },
      "source": [
        "filepath = '/content/drive/MyDrive/Colab Notebooks/Cohort_Himalaya_AlmaBetter/ML_CAPSTONE/HEALTH INSURANCE CROSS SELL PREDICTION /TRAIN-HEALTH INSURANCE CROSS SELL PREDICTION.csv'\n",
        "dataset = pd.read_csv(filepath)"
      ],
      "execution_count": null,
      "outputs": []
    },
    {
      "cell_type": "code",
      "metadata": {
        "id": "lcvRBDTO3yFt"
      },
      "source": [
        "dataset.set_index('id', inplace= True)"
      ],
      "execution_count": null,
      "outputs": []
    },
    {
      "cell_type": "code",
      "metadata": {
        "colab": {
          "base_uri": "https://localhost:8080/"
        },
        "id": "rGpXQORinFgg",
        "outputId": "95134e94-389d-447f-fd34-05088efc1121"
      },
      "source": [
        "dataset['Region_Code'].value_counts()"
      ],
      "execution_count": null,
      "outputs": [
        {
          "output_type": "execute_result",
          "data": {
            "text/plain": [
              "28.0    106415\n",
              "8.0      33877\n",
              "46.0     19749\n",
              "41.0     18263\n",
              "15.0     13308\n",
              "30.0     12191\n",
              "29.0     11065\n",
              "50.0     10243\n",
              "3.0       9251\n",
              "11.0      9232\n",
              "36.0      8797\n",
              "33.0      7654\n",
              "47.0      7436\n",
              "35.0      6942\n",
              "6.0       6280\n",
              "45.0      5605\n",
              "37.0      5501\n",
              "18.0      5153\n",
              "48.0      4681\n",
              "14.0      4678\n",
              "39.0      4644\n",
              "10.0      4374\n",
              "21.0      4266\n",
              "2.0       4038\n",
              "13.0      4036\n",
              "7.0       3279\n",
              "12.0      3198\n",
              "9.0       3101\n",
              "27.0      2823\n",
              "32.0      2787\n",
              "43.0      2639\n",
              "17.0      2617\n",
              "26.0      2587\n",
              "25.0      2503\n",
              "24.0      2415\n",
              "38.0      2026\n",
              "0.0       2021\n",
              "16.0      2007\n",
              "31.0      1960\n",
              "23.0      1960\n",
              "20.0      1935\n",
              "49.0      1832\n",
              "4.0       1801\n",
              "34.0      1664\n",
              "19.0      1535\n",
              "22.0      1309\n",
              "40.0      1295\n",
              "5.0       1279\n",
              "1.0       1008\n",
              "44.0       808\n",
              "42.0       591\n",
              "52.0       267\n",
              "51.0       183\n",
              "Name: Region_Code, dtype: int64"
            ]
          },
          "metadata": {},
          "execution_count": 6
        }
      ]
    },
    {
      "cell_type": "code",
      "metadata": {
        "colab": {
          "base_uri": "https://localhost:8080/"
        },
        "id": "XX-oa3NvsphM",
        "outputId": "e5361de3-0ab5-46aa-aae7-f253349c5206"
      },
      "source": [
        "dataset['Region_Code'].value_counts()"
      ],
      "execution_count": null,
      "outputs": [
        {
          "output_type": "execute_result",
          "data": {
            "text/plain": [
              "28.0    106415\n",
              "8.0      33877\n",
              "46.0     19749\n",
              "41.0     18263\n",
              "15.0     13308\n",
              "30.0     12191\n",
              "29.0     11065\n",
              "50.0     10243\n",
              "3.0       9251\n",
              "11.0      9232\n",
              "36.0      8797\n",
              "33.0      7654\n",
              "47.0      7436\n",
              "35.0      6942\n",
              "6.0       6280\n",
              "45.0      5605\n",
              "37.0      5501\n",
              "18.0      5153\n",
              "48.0      4681\n",
              "14.0      4678\n",
              "39.0      4644\n",
              "10.0      4374\n",
              "21.0      4266\n",
              "2.0       4038\n",
              "13.0      4036\n",
              "7.0       3279\n",
              "12.0      3198\n",
              "9.0       3101\n",
              "27.0      2823\n",
              "32.0      2787\n",
              "43.0      2639\n",
              "17.0      2617\n",
              "26.0      2587\n",
              "25.0      2503\n",
              "24.0      2415\n",
              "38.0      2026\n",
              "0.0       2021\n",
              "16.0      2007\n",
              "31.0      1960\n",
              "23.0      1960\n",
              "20.0      1935\n",
              "49.0      1832\n",
              "4.0       1801\n",
              "34.0      1664\n",
              "19.0      1535\n",
              "22.0      1309\n",
              "40.0      1295\n",
              "5.0       1279\n",
              "1.0       1008\n",
              "44.0       808\n",
              "42.0       591\n",
              "52.0       267\n",
              "51.0       183\n",
              "Name: Region_Code, dtype: int64"
            ]
          },
          "metadata": {},
          "execution_count": 17
        }
      ]
    },
    {
      "cell_type": "code",
      "metadata": {
        "colab": {
          "base_uri": "https://localhost:8080/",
          "height": 235
        },
        "id": "EfUOSddv3dUP",
        "outputId": "8ef7ec06-d6aa-484c-f3ac-911b79aea07f"
      },
      "source": [
        "dataset.head()"
      ],
      "execution_count": null,
      "outputs": [
        {
          "output_type": "execute_result",
          "data": {
            "text/html": [
              "<div>\n",
              "<style scoped>\n",
              "    .dataframe tbody tr th:only-of-type {\n",
              "        vertical-align: middle;\n",
              "    }\n",
              "\n",
              "    .dataframe tbody tr th {\n",
              "        vertical-align: top;\n",
              "    }\n",
              "\n",
              "    .dataframe thead th {\n",
              "        text-align: right;\n",
              "    }\n",
              "</style>\n",
              "<table border=\"1\" class=\"dataframe\">\n",
              "  <thead>\n",
              "    <tr style=\"text-align: right;\">\n",
              "      <th></th>\n",
              "      <th>Gender</th>\n",
              "      <th>Age</th>\n",
              "      <th>Driving_License</th>\n",
              "      <th>Region_Code</th>\n",
              "      <th>Previously_Insured</th>\n",
              "      <th>Vehicle_Age</th>\n",
              "      <th>Vehicle_Damage</th>\n",
              "      <th>Annual_Premium</th>\n",
              "      <th>Policy_Sales_Channel</th>\n",
              "      <th>Vintage</th>\n",
              "      <th>Response</th>\n",
              "    </tr>\n",
              "    <tr>\n",
              "      <th>id</th>\n",
              "      <th></th>\n",
              "      <th></th>\n",
              "      <th></th>\n",
              "      <th></th>\n",
              "      <th></th>\n",
              "      <th></th>\n",
              "      <th></th>\n",
              "      <th></th>\n",
              "      <th></th>\n",
              "      <th></th>\n",
              "      <th></th>\n",
              "    </tr>\n",
              "  </thead>\n",
              "  <tbody>\n",
              "    <tr>\n",
              "      <th>1</th>\n",
              "      <td>Male</td>\n",
              "      <td>44</td>\n",
              "      <td>1</td>\n",
              "      <td>28.0</td>\n",
              "      <td>0</td>\n",
              "      <td>&gt; 2 Years</td>\n",
              "      <td>Yes</td>\n",
              "      <td>40454.0</td>\n",
              "      <td>26.0</td>\n",
              "      <td>217</td>\n",
              "      <td>1</td>\n",
              "    </tr>\n",
              "    <tr>\n",
              "      <th>2</th>\n",
              "      <td>Male</td>\n",
              "      <td>76</td>\n",
              "      <td>1</td>\n",
              "      <td>3.0</td>\n",
              "      <td>0</td>\n",
              "      <td>1-2 Year</td>\n",
              "      <td>No</td>\n",
              "      <td>33536.0</td>\n",
              "      <td>26.0</td>\n",
              "      <td>183</td>\n",
              "      <td>0</td>\n",
              "    </tr>\n",
              "    <tr>\n",
              "      <th>3</th>\n",
              "      <td>Male</td>\n",
              "      <td>47</td>\n",
              "      <td>1</td>\n",
              "      <td>28.0</td>\n",
              "      <td>0</td>\n",
              "      <td>&gt; 2 Years</td>\n",
              "      <td>Yes</td>\n",
              "      <td>38294.0</td>\n",
              "      <td>26.0</td>\n",
              "      <td>27</td>\n",
              "      <td>1</td>\n",
              "    </tr>\n",
              "    <tr>\n",
              "      <th>4</th>\n",
              "      <td>Male</td>\n",
              "      <td>21</td>\n",
              "      <td>1</td>\n",
              "      <td>11.0</td>\n",
              "      <td>1</td>\n",
              "      <td>&lt; 1 Year</td>\n",
              "      <td>No</td>\n",
              "      <td>28619.0</td>\n",
              "      <td>152.0</td>\n",
              "      <td>203</td>\n",
              "      <td>0</td>\n",
              "    </tr>\n",
              "    <tr>\n",
              "      <th>5</th>\n",
              "      <td>Female</td>\n",
              "      <td>29</td>\n",
              "      <td>1</td>\n",
              "      <td>41.0</td>\n",
              "      <td>1</td>\n",
              "      <td>&lt; 1 Year</td>\n",
              "      <td>No</td>\n",
              "      <td>27496.0</td>\n",
              "      <td>152.0</td>\n",
              "      <td>39</td>\n",
              "      <td>0</td>\n",
              "    </tr>\n",
              "  </tbody>\n",
              "</table>\n",
              "</div>"
            ],
            "text/plain": [
              "    Gender  Age  Driving_License  ...  Policy_Sales_Channel  Vintage Response\n",
              "id                                ...                                        \n",
              "1     Male   44                1  ...                  26.0      217        1\n",
              "2     Male   76                1  ...                  26.0      183        0\n",
              "3     Male   47                1  ...                  26.0       27        1\n",
              "4     Male   21                1  ...                 152.0      203        0\n",
              "5   Female   29                1  ...                 152.0       39        0\n",
              "\n",
              "[5 rows x 11 columns]"
            ]
          },
          "metadata": {},
          "execution_count": 13
        }
      ]
    },
    {
      "cell_type": "code",
      "metadata": {
        "colab": {
          "base_uri": "https://localhost:8080/"
        },
        "id": "1fQnBrj9b3RX",
        "outputId": "f8d62ad8-2ecd-4fcf-da4e-2000229bce21"
      },
      "source": [
        "dataset.shape"
      ],
      "execution_count": null,
      "outputs": [
        {
          "output_type": "execute_result",
          "data": {
            "text/plain": [
              "(381109, 11)"
            ]
          },
          "metadata": {},
          "execution_count": 14
        }
      ]
    },
    {
      "cell_type": "code",
      "metadata": {
        "colab": {
          "base_uri": "https://localhost:8080/"
        },
        "id": "ubkb1GVSYdgB",
        "outputId": "c9a6e06c-54b3-4171-dbe6-d1c1b14d5976"
      },
      "source": [
        "dataset['Response'].value_counts()"
      ],
      "execution_count": null,
      "outputs": [
        {
          "output_type": "execute_result",
          "data": {
            "text/plain": [
              "0    334399\n",
              "1     46710\n",
              "Name: Response, dtype: int64"
            ]
          },
          "metadata": {},
          "execution_count": 15
        }
      ]
    },
    {
      "cell_type": "code",
      "metadata": {
        "colab": {
          "base_uri": "https://localhost:8080/",
          "height": 409
        },
        "id": "-KsXbe51byiG",
        "outputId": "d2b512cf-6063-4a9d-eb42-a4c496c6a40b"
      },
      "source": [
        "colors = ['steelblue','darkorange']\n",
        "response_per = (dataset['Response'].value_counts()*100.0 /len(dataset)).plot(kind='bar',\n",
        "                                                                           stacked = True,\n",
        "                                                                          rot = 0,\n",
        "                                                                          color = colors,\n",
        "                                                                         figsize = (12,6))\n",
        "\n",
        "response_per.set_ylabel('% Customers',size = 14)\n",
        "response_per.set_xlabel('Response',size = 14)\n",
        "response_per.set_title('Response Rate', size = 14)\n",
        "\n",
        "# create a list to collect the plt.patches data\n",
        "totals = []\n",
        "\n",
        "# find the values and append to list\n",
        "for i in response_per.patches:\n",
        "    totals.append(i.get_width())\n",
        "\n",
        "# set individual bar lables using above list\n",
        "total = sum(totals)\n",
        "\n",
        "for i in response_per.patches:\n",
        "# get_width pulls left or right; get_y pushes up or down\n",
        "    response_per.text(i.get_x()+.15, i.get_height()-4.0, \\\n",
        "                str(round((i.get_height()/total), 1))+'%',\n",
        "                fontsize=12,\n",
        "                color='white',\n",
        "              weight = 'bold',\n",
        "              size = 14)\n"
      ],
      "execution_count": null,
      "outputs": [
        {
          "output_type": "display_data",
          "data": {
            "image/png": "[encoded data removed]",
            "text/plain": [
              "<Figure size 864x432 with 1 Axes>"
            ]
          },
          "metadata": {
            "needs_background": "light"
          }
        }
      ]
    },
    {
      "cell_type": "code",
      "metadata": {
        "id": "wB0THRrkM6Ft"
      },
      "source": [
        "dataset.drop_duplicates(inplace = True)"
      ],
      "execution_count": null,
      "outputs": []
    },
    {
      "cell_type": "code",
      "metadata": {
        "colab": {
          "base_uri": "https://localhost:8080/"
        },
        "id": "nA3r0iFo910O",
        "outputId": "47550980-1cd7-488c-a3a1-84569058af1e"
      },
      "source": [
        "dataset.shape"
      ],
      "execution_count": null,
      "outputs": [
        {
          "output_type": "execute_result",
          "data": {
            "text/plain": [
              "(380840, 11)"
            ]
          },
          "metadata": {},
          "execution_count": 18
        }
      ]
    },
    {
      "cell_type": "code",
      "metadata": {
        "colab": {
          "base_uri": "https://localhost:8080/"
        },
        "id": "x4G8UsVP3w6s",
        "outputId": "66ece788-8f8f-47ed-c370-a6a8113ad67a"
      },
      "source": [
        "dataset.info()"
      ],
      "execution_count": null,
      "outputs": [
        {
          "output_type": "stream",
          "text": [
            "<class 'pandas.core.frame.DataFrame'>\n",
            "Int64Index: 380840 entries, 1 to 381109\n",
            "Data columns (total 11 columns):\n",
            " #   Column                Non-Null Count   Dtype  \n",
            "---  ------                --------------   -----  \n",
            " 0   Gender                380840 non-null  object \n",
            " 1   Age                   380840 non-null  int64  \n",
            " 2   Driving_License       380840 non-null  int64  \n",
            " 3   Region_Code           380840 non-null  float64\n",
            " 4   Previously_Insured    380840 non-null  int64  \n",
            " 5   Vehicle_Age           380840 non-null  object \n",
            " 6   Vehicle_Damage        380840 non-null  object \n",
            " 7   Annual_Premium        380840 non-null  float64\n",
            " 8   Policy_Sales_Channel  380840 non-null  float64\n",
            " 9   Vintage               380840 non-null  int64  \n",
            " 10  Response              380840 non-null  int64  \n",
            "dtypes: float64(3), int64(5), object(3)\n",
            "memory usage: 34.9+ MB\n"
          ],
          "name": "stdout"
        }
      ]
    },
    {
      "cell_type": "code",
      "metadata": {
        "id": "r96oET-_4o54",
        "colab": {
          "base_uri": "https://localhost:8080/"
        },
        "outputId": "a3ddcca7-a759-48fc-cf86-355763726400"
      },
      "source": [
        "dataset.isnull().sum()"
      ],
      "execution_count": null,
      "outputs": [
        {
          "output_type": "execute_result",
          "data": {
            "text/plain": [
              "Gender                  0\n",
              "Age                     0\n",
              "Driving_License         0\n",
              "Region_Code             0\n",
              "Previously_Insured      0\n",
              "Vehicle_Age             0\n",
              "Vehicle_Damage          0\n",
              "Annual_Premium          0\n",
              "Policy_Sales_Channel    0\n",
              "Vintage                 0\n",
              "Response                0\n",
              "dtype: int64"
            ]
          },
          "metadata": {},
          "execution_count": 20
        }
      ]
    },
    {
      "cell_type": "code",
      "metadata": {
        "id": "V34PG1MK-cTZ"
      },
      "source": [
        "num_var = dataset.select_dtypes(include = 'number')\n",
        "cat_var = dataset.select_dtypes(include = 'object')"
      ],
      "execution_count": null,
      "outputs": []
    },
    {
      "cell_type": "code",
      "metadata": {
        "colab": {
          "base_uri": "https://localhost:8080/",
          "height": 172
        },
        "id": "_MMqdbf08fQJ",
        "outputId": "3eb4adf9-b0bb-4231-9ce0-f12cfd0c4768"
      },
      "source": [
        "num_var.head(3)"
      ],
      "execution_count": null,
      "outputs": [
        {
          "output_type": "execute_result",
          "data": {
            "text/html": [
              "<div>\n",
              "<style scoped>\n",
              "    .dataframe tbody tr th:only-of-type {\n",
              "        vertical-align: middle;\n",
              "    }\n",
              "\n",
              "    .dataframe tbody tr th {\n",
              "        vertical-align: top;\n",
              "    }\n",
              "\n",
              "    .dataframe thead th {\n",
              "        text-align: right;\n",
              "    }\n",
              "</style>\n",
              "<table border=\"1\" class=\"dataframe\">\n",
              "  <thead>\n",
              "    <tr style=\"text-align: right;\">\n",
              "      <th></th>\n",
              "      <th>Age</th>\n",
              "      <th>Driving_License</th>\n",
              "      <th>Region_Code</th>\n",
              "      <th>Previously_Insured</th>\n",
              "      <th>Annual_Premium</th>\n",
              "      <th>Policy_Sales_Channel</th>\n",
              "      <th>Vintage</th>\n",
              "      <th>Response</th>\n",
              "    </tr>\n",
              "    <tr>\n",
              "      <th>id</th>\n",
              "      <th></th>\n",
              "      <th></th>\n",
              "      <th></th>\n",
              "      <th></th>\n",
              "      <th></th>\n",
              "      <th></th>\n",
              "      <th></th>\n",
              "      <th></th>\n",
              "    </tr>\n",
              "  </thead>\n",
              "  <tbody>\n",
              "    <tr>\n",
              "      <th>1</th>\n",
              "      <td>44</td>\n",
              "      <td>1</td>\n",
              "      <td>28.0</td>\n",
              "      <td>0</td>\n",
              "      <td>40454.0</td>\n",
              "      <td>26.0</td>\n",
              "      <td>217</td>\n",
              "      <td>1</td>\n",
              "    </tr>\n",
              "    <tr>\n",
              "      <th>2</th>\n",
              "      <td>76</td>\n",
              "      <td>1</td>\n",
              "      <td>3.0</td>\n",
              "      <td>0</td>\n",
              "      <td>33536.0</td>\n",
              "      <td>26.0</td>\n",
              "      <td>183</td>\n",
              "      <td>0</td>\n",
              "    </tr>\n",
              "    <tr>\n",
              "      <th>3</th>\n",
              "      <td>47</td>\n",
              "      <td>1</td>\n",
              "      <td>28.0</td>\n",
              "      <td>0</td>\n",
              "      <td>38294.0</td>\n",
              "      <td>26.0</td>\n",
              "      <td>27</td>\n",
              "      <td>1</td>\n",
              "    </tr>\n",
              "  </tbody>\n",
              "</table>\n",
              "</div>"
            ],
            "text/plain": [
              "    Age  Driving_License  Region_Code  ...  Policy_Sales_Channel  Vintage  Response\n",
              "id                                     ...                                         \n",
              "1    44                1         28.0  ...                  26.0      217         1\n",
              "2    76                1          3.0  ...                  26.0      183         0\n",
              "3    47                1         28.0  ...                  26.0       27         1\n",
              "\n",
              "[3 rows x 8 columns]"
            ]
          },
          "metadata": {},
          "execution_count": 22
        }
      ]
    },
    {
      "cell_type": "code",
      "metadata": {
        "colab": {
          "base_uri": "https://localhost:8080/",
          "height": 141
        },
        "id": "zsIA3__A9TUL",
        "outputId": "6c5a65df-c496-4b82-9a23-a0977f96027f"
      },
      "source": [
        "cat_var.head(2)"
      ],
      "execution_count": null,
      "outputs": [
        {
          "output_type": "execute_result",
          "data": {
            "text/html": [
              "<div>\n",
              "<style scoped>\n",
              "    .dataframe tbody tr th:only-of-type {\n",
              "        vertical-align: middle;\n",
              "    }\n",
              "\n",
              "    .dataframe tbody tr th {\n",
              "        vertical-align: top;\n",
              "    }\n",
              "\n",
              "    .dataframe thead th {\n",
              "        text-align: right;\n",
              "    }\n",
              "</style>\n",
              "<table border=\"1\" class=\"dataframe\">\n",
              "  <thead>\n",
              "    <tr style=\"text-align: right;\">\n",
              "      <th></th>\n",
              "      <th>Gender</th>\n",
              "      <th>Vehicle_Age</th>\n",
              "      <th>Vehicle_Damage</th>\n",
              "    </tr>\n",
              "    <tr>\n",
              "      <th>id</th>\n",
              "      <th></th>\n",
              "      <th></th>\n",
              "      <th></th>\n",
              "    </tr>\n",
              "  </thead>\n",
              "  <tbody>\n",
              "    <tr>\n",
              "      <th>1</th>\n",
              "      <td>Male</td>\n",
              "      <td>&gt; 2 Years</td>\n",
              "      <td>Yes</td>\n",
              "    </tr>\n",
              "    <tr>\n",
              "      <th>2</th>\n",
              "      <td>Male</td>\n",
              "      <td>1-2 Year</td>\n",
              "      <td>No</td>\n",
              "    </tr>\n",
              "  </tbody>\n",
              "</table>\n",
              "</div>"
            ],
            "text/plain": [
              "   Gender Vehicle_Age Vehicle_Damage\n",
              "id                                  \n",
              "1    Male   > 2 Years            Yes\n",
              "2    Male    1-2 Year             No"
            ]
          },
          "metadata": {},
          "execution_count": 23
        }
      ]
    },
    {
      "cell_type": "code",
      "metadata": {
        "colab": {
          "base_uri": "https://localhost:8080/",
          "height": 614
        },
        "id": "F3GK0wA99fbQ",
        "outputId": "a55113f6-b633-47e7-f480-b51b896390ae"
      },
      "source": [
        "plt.figure(figsize=(20, 10))\n",
        "sns.heatmap(num_var.corr().abs(), cmap = 'Blues', annot=True)"
      ],
      "execution_count": null,
      "outputs": [
        {
          "output_type": "execute_result",
          "data": {
            "text/plain": [
              "<matplotlib.axes._subplots.AxesSubplot at 0x7efdc80d7850>"
            ]
          },
          "metadata": {},
          "execution_count": 26
        },
        {
          "output_type": "display_data",
          "data": {
            "image/png": "[encoded data removed]",
            "text/plain": [
              "<Figure size 1440x720 with 2 Axes>"
            ]
          },
          "metadata": {
            "needs_background": "light"
          }
        }
      ]
    },
    {
      "cell_type": "code",
      "metadata": {
        "id": "Ce_tA2NcHadW"
      },
      "source": [
        "dataset['Gender'].replace('Male', 1, inplace = True)\n",
        "dataset['Gender'].replace('Female', 0, inplace = True)"
      ],
      "execution_count": null,
      "outputs": []
    },
    {
      "cell_type": "code",
      "metadata": {
        "colab": {
          "base_uri": "https://localhost:8080/"
        },
        "id": "sYD5btxJIB7U",
        "outputId": "93f3eae6-fefd-413f-9468-cefe8a6cbb17"
      },
      "source": [
        "dataset.Vehicle_Damage.unique()"
      ],
      "execution_count": null,
      "outputs": [
        {
          "output_type": "execute_result",
          "data": {
            "text/plain": [
              "array(['Yes', 'No'], dtype=object)"
            ]
          },
          "metadata": {},
          "execution_count": 28
        }
      ]
    },
    {
      "cell_type": "code",
      "metadata": {
        "id": "bkMjsnSoIOMF"
      },
      "source": [
        "dataset['Vehicle_Damage'].replace('Yes', 1, inplace = True)\n",
        "dataset['Vehicle_Damage'].replace('No', 0, inplace = True)"
      ],
      "execution_count": null,
      "outputs": []
    },
    {
      "cell_type": "code",
      "metadata": {
        "colab": {
          "base_uri": "https://localhost:8080/",
          "height": 235
        },
        "id": "wKi5yRUZIYLA",
        "outputId": "9e240546-6d64-4e2c-bf8e-09b378c4a40c"
      },
      "source": [
        "dataset.head()"
      ],
      "execution_count": null,
      "outputs": [
        {
          "output_type": "execute_result",
          "data": {
            "text/html": [
              "<div>\n",
              "<style scoped>\n",
              "    .dataframe tbody tr th:only-of-type {\n",
              "        vertical-align: middle;\n",
              "    }\n",
              "\n",
              "    .dataframe tbody tr th {\n",
              "        vertical-align: top;\n",
              "    }\n",
              "\n",
              "    .dataframe thead th {\n",
              "        text-align: right;\n",
              "    }\n",
              "</style>\n",
              "<table border=\"1\" class=\"dataframe\">\n",
              "  <thead>\n",
              "    <tr style=\"text-align: right;\">\n",
              "      <th></th>\n",
              "      <th>Gender</th>\n",
              "      <th>Age</th>\n",
              "      <th>Driving_License</th>\n",
              "      <th>Region_Code</th>\n",
              "      <th>Previously_Insured</th>\n",
              "      <th>Vehicle_Age</th>\n",
              "      <th>Vehicle_Damage</th>\n",
              "      <th>Annual_Premium</th>\n",
              "      <th>Policy_Sales_Channel</th>\n",
              "      <th>Vintage</th>\n",
              "      <th>Response</th>\n",
              "    </tr>\n",
              "    <tr>\n",
              "      <th>id</th>\n",
              "      <th></th>\n",
              "      <th></th>\n",
              "      <th></th>\n",
              "      <th></th>\n",
              "      <th></th>\n",
              "      <th></th>\n",
              "      <th></th>\n",
              "      <th></th>\n",
              "      <th></th>\n",
              "      <th></th>\n",
              "      <th></th>\n",
              "    </tr>\n",
              "  </thead>\n",
              "  <tbody>\n",
              "    <tr>\n",
              "      <th>1</th>\n",
              "      <td>1</td>\n",
              "      <td>44</td>\n",
              "      <td>1</td>\n",
              "      <td>28.0</td>\n",
              "      <td>0</td>\n",
              "      <td>&gt; 2 Years</td>\n",
              "      <td>1</td>\n",
              "      <td>40454.0</td>\n",
              "      <td>26.0</td>\n",
              "      <td>217</td>\n",
              "      <td>1</td>\n",
              "    </tr>\n",
              "    <tr>\n",
              "      <th>2</th>\n",
              "      <td>1</td>\n",
              "      <td>76</td>\n",
              "      <td>1</td>\n",
              "      <td>3.0</td>\n",
              "      <td>0</td>\n",
              "      <td>1-2 Year</td>\n",
              "      <td>0</td>\n",
              "      <td>33536.0</td>\n",
              "      <td>26.0</td>\n",
              "      <td>183</td>\n",
              "      <td>0</td>\n",
              "    </tr>\n",
              "    <tr>\n",
              "      <th>3</th>\n",
              "      <td>1</td>\n",
              "      <td>47</td>\n",
              "      <td>1</td>\n",
              "      <td>28.0</td>\n",
              "      <td>0</td>\n",
              "      <td>&gt; 2 Years</td>\n",
              "      <td>1</td>\n",
              "      <td>38294.0</td>\n",
              "      <td>26.0</td>\n",
              "      <td>27</td>\n",
              "      <td>1</td>\n",
              "    </tr>\n",
              "    <tr>\n",
              "      <th>4</th>\n",
              "      <td>1</td>\n",
              "      <td>21</td>\n",
              "      <td>1</td>\n",
              "      <td>11.0</td>\n",
              "      <td>1</td>\n",
              "      <td>&lt; 1 Year</td>\n",
              "      <td>0</td>\n",
              "      <td>28619.0</td>\n",
              "      <td>152.0</td>\n",
              "      <td>203</td>\n",
              "      <td>0</td>\n",
              "    </tr>\n",
              "    <tr>\n",
              "      <th>5</th>\n",
              "      <td>0</td>\n",
              "      <td>29</td>\n",
              "      <td>1</td>\n",
              "      <td>41.0</td>\n",
              "      <td>1</td>\n",
              "      <td>&lt; 1 Year</td>\n",
              "      <td>0</td>\n",
              "      <td>27496.0</td>\n",
              "      <td>152.0</td>\n",
              "      <td>39</td>\n",
              "      <td>0</td>\n",
              "    </tr>\n",
              "  </tbody>\n",
              "</table>\n",
              "</div>"
            ],
            "text/plain": [
              "    Gender  Age  Driving_License  ...  Policy_Sales_Channel  Vintage Response\n",
              "id                                ...                                        \n",
              "1        1   44                1  ...                  26.0      217        1\n",
              "2        1   76                1  ...                  26.0      183        0\n",
              "3        1   47                1  ...                  26.0       27        1\n",
              "4        1   21                1  ...                 152.0      203        0\n",
              "5        0   29                1  ...                 152.0       39        0\n",
              "\n",
              "[5 rows x 11 columns]"
            ]
          },
          "metadata": {},
          "execution_count": 30
        }
      ]
    },
    {
      "cell_type": "code",
      "metadata": {
        "id": "3cBzxk0VL64O"
      },
      "source": [
        "X = dataset.iloc[:, :-1]\n",
        "Y = dataset.iloc[:, -1]"
      ],
      "execution_count": null,
      "outputs": []
    },
    {
      "cell_type": "code",
      "metadata": {
        "id": "rpPMlAAIIbgw"
      },
      "source": [
        "X['Vehicle_Age_>2yrs'] = np.where(X['Vehicle_Age']== '> 2 Years', 1, 0)\n",
        "X['Vehicle_Age_1-2yrs'] = np.where(X['Vehicle_Age']== '1-2 Year', 1, 0)\n",
        "X['Vehicle_Age_<1yr'] = np.where(X['Vehicle_Age']=='< 1 Year', 1, 0)"
      ],
      "execution_count": null,
      "outputs": []
    },
    {
      "cell_type": "code",
      "metadata": {
        "id": "3vnLUrOwJ6yB"
      },
      "source": [
        "X.drop(['Vehicle_Age'], axis = 1, inplace = True)"
      ],
      "execution_count": null,
      "outputs": []
    },
    {
      "cell_type": "code",
      "metadata": {
        "colab": {
          "base_uri": "https://localhost:8080/",
          "height": 235
        },
        "id": "m3xmHU6yLAMC",
        "outputId": "f31d8306-4d6c-44db-d370-e0eda74149b7"
      },
      "source": [
        "X.head()"
      ],
      "execution_count": null,
      "outputs": [
        {
          "output_type": "execute_result",
          "data": {
            "text/html": [
              "<div>\n",
              "<style scoped>\n",
              "    .dataframe tbody tr th:only-of-type {\n",
              "        vertical-align: middle;\n",
              "    }\n",
              "\n",
              "    .dataframe tbody tr th {\n",
              "        vertical-align: top;\n",
              "    }\n",
              "\n",
              "    .dataframe thead th {\n",
              "        text-align: right;\n",
              "    }\n",
              "</style>\n",
              "<table border=\"1\" class=\"dataframe\">\n",
              "  <thead>\n",
              "    <tr style=\"text-align: right;\">\n",
              "      <th></th>\n",
              "      <th>Gender</th>\n",
              "      <th>Age</th>\n",
              "      <th>Driving_License</th>\n",
              "      <th>Region_Code</th>\n",
              "      <th>Previously_Insured</th>\n",
              "      <th>Vehicle_Damage</th>\n",
              "      <th>Annual_Premium</th>\n",
              "      <th>Policy_Sales_Channel</th>\n",
              "      <th>Vintage</th>\n",
              "      <th>Vehicle_Age_&gt;2yrs</th>\n",
              "      <th>Vehicle_Age_1-2yrs</th>\n",
              "      <th>Vehicle_Age_&lt;1yr</th>\n",
              "    </tr>\n",
              "    <tr>\n",
              "      <th>id</th>\n",
              "      <th></th>\n",
              "      <th></th>\n",
              "      <th></th>\n",
              "      <th></th>\n",
              "      <th></th>\n",
              "      <th></th>\n",
              "      <th></th>\n",
              "      <th></th>\n",
              "      <th></th>\n",
              "      <th></th>\n",
              "      <th></th>\n",
              "      <th></th>\n",
              "    </tr>\n",
              "  </thead>\n",
              "  <tbody>\n",
              "    <tr>\n",
              "      <th>1</th>\n",
              "      <td>1</td>\n",
              "      <td>44</td>\n",
              "      <td>1</td>\n",
              "      <td>28.0</td>\n",
              "      <td>0</td>\n",
              "      <td>1</td>\n",
              "      <td>40454.0</td>\n",
              "      <td>26.0</td>\n",
              "      <td>217</td>\n",
              "      <td>1</td>\n",
              "      <td>0</td>\n",
              "      <td>0</td>\n",
              "    </tr>\n",
              "    <tr>\n",
              "      <th>2</th>\n",
              "      <td>1</td>\n",
              "      <td>76</td>\n",
              "      <td>1</td>\n",
              "      <td>3.0</td>\n",
              "      <td>0</td>\n",
              "      <td>0</td>\n",
              "      <td>33536.0</td>\n",
              "      <td>26.0</td>\n",
              "      <td>183</td>\n",
              "      <td>0</td>\n",
              "      <td>1</td>\n",
              "      <td>0</td>\n",
              "    </tr>\n",
              "    <tr>\n",
              "      <th>3</th>\n",
              "      <td>1</td>\n",
              "      <td>47</td>\n",
              "      <td>1</td>\n",
              "      <td>28.0</td>\n",
              "      <td>0</td>\n",
              "      <td>1</td>\n",
              "      <td>38294.0</td>\n",
              "      <td>26.0</td>\n",
              "      <td>27</td>\n",
              "      <td>1</td>\n",
              "      <td>0</td>\n",
              "      <td>0</td>\n",
              "    </tr>\n",
              "    <tr>\n",
              "      <th>4</th>\n",
              "      <td>1</td>\n",
              "      <td>21</td>\n",
              "      <td>1</td>\n",
              "      <td>11.0</td>\n",
              "      <td>1</td>\n",
              "      <td>0</td>\n",
              "      <td>28619.0</td>\n",
              "      <td>152.0</td>\n",
              "      <td>203</td>\n",
              "      <td>0</td>\n",
              "      <td>0</td>\n",
              "      <td>1</td>\n",
              "    </tr>\n",
              "    <tr>\n",
              "      <th>5</th>\n",
              "      <td>0</td>\n",
              "      <td>29</td>\n",
              "      <td>1</td>\n",
              "      <td>41.0</td>\n",
              "      <td>1</td>\n",
              "      <td>0</td>\n",
              "      <td>27496.0</td>\n",
              "      <td>152.0</td>\n",
              "      <td>39</td>\n",
              "      <td>0</td>\n",
              "      <td>0</td>\n",
              "      <td>1</td>\n",
              "    </tr>\n",
              "  </tbody>\n",
              "</table>\n",
              "</div>"
            ],
            "text/plain": [
              "    Gender  Age  ...  Vehicle_Age_1-2yrs  Vehicle_Age_<1yr\n",
              "id               ...                                      \n",
              "1        1   44  ...                   0                 0\n",
              "2        1   76  ...                   1                 0\n",
              "3        1   47  ...                   0                 0\n",
              "4        1   21  ...                   0                 1\n",
              "5        0   29  ...                   0                 1\n",
              "\n",
              "[5 rows x 12 columns]"
            ]
          },
          "metadata": {},
          "execution_count": 34
        }
      ]
    },
    {
      "cell_type": "code",
      "metadata": {
        "colab": {
          "base_uri": "https://localhost:8080/"
        },
        "id": "WQAtdg5uMkXA",
        "outputId": "cc655541-b354-4657-cf17-7800d214e780"
      },
      "source": [
        "Y.head()"
      ],
      "execution_count": null,
      "outputs": [
        {
          "output_type": "execute_result",
          "data": {
            "text/plain": [
              "id\n",
              "1    1\n",
              "2    0\n",
              "3    1\n",
              "4    0\n",
              "5    0\n",
              "Name: Response, dtype: int64"
            ]
          },
          "metadata": {},
          "execution_count": 37
        }
      ]
    },
    {
      "cell_type": "code",
      "metadata": {
        "colab": {
          "base_uri": "https://localhost:8080/",
          "height": 353
        },
        "id": "qLZfx82ySDaP",
        "outputId": "e2019fab-a3aa-484c-9e6a-3321ad7397cf"
      },
      "source": [
        "sns.boxplot(X['Annual_Premium'])"
      ],
      "execution_count": null,
      "outputs": [
        {
          "output_type": "stream",
          "text": [
            "/usr/local/lib/python3.7/dist-packages/seaborn/_decorators.py:43: FutureWarning: Pass the following variable as a keyword arg: x. From version 0.12, the only valid positional argument will be `data`, and passing other arguments without an explicit keyword will result in an error or misinterpretation.\n",
            "  FutureWarning\n"
          ],
          "name": "stderr"
        },
        {
          "output_type": "execute_result",
          "data": {
            "text/plain": [
              "<matplotlib.axes._subplots.AxesSubplot at 0x7efdc7b00f50>"
            ]
          },
          "metadata": {},
          "execution_count": 38
        },
        {
          "output_type": "display_data",
          "data": {
            "image/png": "[encoded data removed]",
            "text/plain": [
              "<Figure size 432x288 with 1 Axes>"
            ]
          },
          "metadata": {
            "needs_background": "light"
          }
        }
      ]
    },
    {
      "cell_type": "code",
      "metadata": {
        "id": "74X4JNqZP-0i"
      },
      "source": [
        "def remove_outlier_annual_prem(df):\n",
        "    IQR = df['Annual_Premium'].quantile(0.75) - df['Annual_Premium'].quantile(0.25)\n",
        "    \n",
        "    lower_range = df['Annual_Premium'].quantile(0.25) - (1.5 * IQR)\n",
        "    upper_range = df['Annual_Premium'].quantile(0.75) + (1.5 * IQR)\n",
        "    \n",
        "    df.loc[df['Annual_Premium'] <= lower_range, 'Annual_Premium'] = lower_range\n",
        "    df.loc[df['Annual_Premium'] >= upper_range, 'Annual_Premium'] = upper_range"
      ],
      "execution_count": null,
      "outputs": []
    },
    {
      "cell_type": "code",
      "metadata": {
        "id": "ku0frA9QRZtL"
      },
      "source": [
        "remove_outlier_annual_prem(X)"
      ],
      "execution_count": null,
      "outputs": []
    },
    {
      "cell_type": "code",
      "metadata": {
        "colab": {
          "base_uri": "https://localhost:8080/",
          "height": 353
        },
        "id": "zfe76dLLRuAI",
        "outputId": "3d02b0ca-907a-4628-defc-8430ad4012df"
      },
      "source": [
        "sns.boxplot(X['Annual_Premium'])"
      ],
      "execution_count": null,
      "outputs": [
        {
          "output_type": "stream",
          "text": [
            "/usr/local/lib/python3.7/dist-packages/seaborn/_decorators.py:43: FutureWarning: Pass the following variable as a keyword arg: x. From version 0.12, the only valid positional argument will be `data`, and passing other arguments without an explicit keyword will result in an error or misinterpretation.\n",
            "  FutureWarning\n"
          ],
          "name": "stderr"
        },
        {
          "output_type": "execute_result",
          "data": {
            "text/plain": [
              "<matplotlib.axes._subplots.AxesSubplot at 0x7efdc85e5110>"
            ]
          },
          "metadata": {},
          "execution_count": 41
        },
        {
          "output_type": "display_data",
          "data": {
            "image/png": "[encoded data removed]",
            "text/plain": [
              "<Figure size 432x288 with 1 Axes>"
            ]
          },
          "metadata": {
            "needs_background": "light"
          }
        }
      ]
    },
    {
      "cell_type": "code",
      "metadata": {
        "colab": {
          "base_uri": "https://localhost:8080/"
        },
        "id": "Q-kTPlWZbM95",
        "outputId": "354486ec-8b0c-4cdf-b4fa-1181706d7dbd"
      },
      "source": [
        "X.columns"
      ],
      "execution_count": null,
      "outputs": [
        {
          "output_type": "execute_result",
          "data": {
            "text/plain": [
              "Index(['Gender', 'Age', 'Driving_License', 'Region_Code', 'Previously_Insured',\n",
              "       'Vehicle_Damage', 'Annual_Premium', 'Policy_Sales_Channel', 'Vintage',\n",
              "       'Vehicle_Age_>2yrs', 'Vehicle_Age_1-2yrs', 'Vehicle_Age_<1yr'],\n",
              "      dtype='object')"
            ]
          },
          "metadata": {},
          "execution_count": 44
        }
      ]
    },
    {
      "cell_type": "code",
      "metadata": {
        "colab": {
          "base_uri": "https://localhost:8080/"
        },
        "id": "UQhLgKRmXrxI",
        "outputId": "8a37872c-2410-4079-f094-d2faf6b9482c"
      },
      "source": [
        "X['Driving_License'].value_counts()"
      ],
      "execution_count": null,
      "outputs": [
        {
          "output_type": "execute_result",
          "data": {
            "text/plain": [
              "1    380028\n",
              "0       812\n",
              "Name: Driving_License, dtype: int64"
            ]
          },
          "metadata": {},
          "execution_count": 45
        }
      ]
    },
    {
      "cell_type": "code",
      "metadata": {
        "colab": {
          "base_uri": "https://localhost:8080/"
        },
        "id": "f2l1dR10Z7Wc",
        "outputId": "1d4704ad-022f-4e9d-94e6-7992c31bc2bb"
      },
      "source": [
        "X['Vehicle_Age_>2yrs'].value_counts()"
      ],
      "execution_count": null,
      "outputs": [
        {
          "output_type": "execute_result",
          "data": {
            "text/plain": [
              "0    364838\n",
              "1     16002\n",
              "Name: Vehicle_Age_>2yrs, dtype: int64"
            ]
          },
          "metadata": {},
          "execution_count": 46
        }
      ]
    },
    {
      "cell_type": "code",
      "metadata": {
        "colab": {
          "base_uri": "https://localhost:8080/",
          "height": 235
        },
        "id": "Vys_jBpJbRxA",
        "outputId": "996b7247-b141-4a89-aacf-cdfe38d101a5"
      },
      "source": [
        "X.head()"
      ],
      "execution_count": null,
      "outputs": [
        {
          "output_type": "execute_result",
          "data": {
            "text/html": [
              "<div>\n",
              "<style scoped>\n",
              "    .dataframe tbody tr th:only-of-type {\n",
              "        vertical-align: middle;\n",
              "    }\n",
              "\n",
              "    .dataframe tbody tr th {\n",
              "        vertical-align: top;\n",
              "    }\n",
              "\n",
              "    .dataframe thead th {\n",
              "        text-align: right;\n",
              "    }\n",
              "</style>\n",
              "<table border=\"1\" class=\"dataframe\">\n",
              "  <thead>\n",
              "    <tr style=\"text-align: right;\">\n",
              "      <th></th>\n",
              "      <th>Gender</th>\n",
              "      <th>Age</th>\n",
              "      <th>Driving_License</th>\n",
              "      <th>Region_Code</th>\n",
              "      <th>Previously_Insured</th>\n",
              "      <th>Vehicle_Damage</th>\n",
              "      <th>Annual_Premium</th>\n",
              "      <th>Policy_Sales_Channel</th>\n",
              "      <th>Vintage</th>\n",
              "      <th>Vehicle_Age_&gt;2yrs</th>\n",
              "      <th>Vehicle_Age_1-2yrs</th>\n",
              "      <th>Vehicle_Age_&lt;1yr</th>\n",
              "    </tr>\n",
              "    <tr>\n",
              "      <th>id</th>\n",
              "      <th></th>\n",
              "      <th></th>\n",
              "      <th></th>\n",
              "      <th></th>\n",
              "      <th></th>\n",
              "      <th></th>\n",
              "      <th></th>\n",
              "      <th></th>\n",
              "      <th></th>\n",
              "      <th></th>\n",
              "      <th></th>\n",
              "      <th></th>\n",
              "    </tr>\n",
              "  </thead>\n",
              "  <tbody>\n",
              "    <tr>\n",
              "      <th>1</th>\n",
              "      <td>1</td>\n",
              "      <td>44</td>\n",
              "      <td>1</td>\n",
              "      <td>28.0</td>\n",
              "      <td>0</td>\n",
              "      <td>1</td>\n",
              "      <td>40454.0</td>\n",
              "      <td>26.0</td>\n",
              "      <td>217</td>\n",
              "      <td>1</td>\n",
              "      <td>0</td>\n",
              "      <td>0</td>\n",
              "    </tr>\n",
              "    <tr>\n",
              "      <th>2</th>\n",
              "      <td>1</td>\n",
              "      <td>76</td>\n",
              "      <td>1</td>\n",
              "      <td>3.0</td>\n",
              "      <td>0</td>\n",
              "      <td>0</td>\n",
              "      <td>33536.0</td>\n",
              "      <td>26.0</td>\n",
              "      <td>183</td>\n",
              "      <td>0</td>\n",
              "      <td>1</td>\n",
              "      <td>0</td>\n",
              "    </tr>\n",
              "    <tr>\n",
              "      <th>3</th>\n",
              "      <td>1</td>\n",
              "      <td>47</td>\n",
              "      <td>1</td>\n",
              "      <td>28.0</td>\n",
              "      <td>0</td>\n",
              "      <td>1</td>\n",
              "      <td>38294.0</td>\n",
              "      <td>26.0</td>\n",
              "      <td>27</td>\n",
              "      <td>1</td>\n",
              "      <td>0</td>\n",
              "      <td>0</td>\n",
              "    </tr>\n",
              "    <tr>\n",
              "      <th>4</th>\n",
              "      <td>1</td>\n",
              "      <td>21</td>\n",
              "      <td>1</td>\n",
              "      <td>11.0</td>\n",
              "      <td>1</td>\n",
              "      <td>0</td>\n",
              "      <td>28619.0</td>\n",
              "      <td>152.0</td>\n",
              "      <td>203</td>\n",
              "      <td>0</td>\n",
              "      <td>0</td>\n",
              "      <td>1</td>\n",
              "    </tr>\n",
              "    <tr>\n",
              "      <th>5</th>\n",
              "      <td>0</td>\n",
              "      <td>29</td>\n",
              "      <td>1</td>\n",
              "      <td>41.0</td>\n",
              "      <td>1</td>\n",
              "      <td>0</td>\n",
              "      <td>27496.0</td>\n",
              "      <td>152.0</td>\n",
              "      <td>39</td>\n",
              "      <td>0</td>\n",
              "      <td>0</td>\n",
              "      <td>1</td>\n",
              "    </tr>\n",
              "  </tbody>\n",
              "</table>\n",
              "</div>"
            ],
            "text/plain": [
              "    Gender  Age  ...  Vehicle_Age_1-2yrs  Vehicle_Age_<1yr\n",
              "id               ...                                      \n",
              "1        1   44  ...                   0                 0\n",
              "2        1   76  ...                   1                 0\n",
              "3        1   47  ...                   0                 0\n",
              "4        1   21  ...                   0                 1\n",
              "5        0   29  ...                   0                 1\n",
              "\n",
              "[5 rows x 12 columns]"
            ]
          },
          "metadata": {},
          "execution_count": 47
        }
      ]
    },
    {
      "cell_type": "code",
      "metadata": {
        "id": "4R8u8_5MYJQJ"
      },
      "source": [
        "# working_dir_path = '/content/drive/MyDrive/Colab Notebooks/Cohort_Himalaya_AlmaBetter/ML_CAPSTONE/'"
      ],
      "execution_count": null,
      "outputs": []
    },
    {
      "cell_type": "code",
      "metadata": {
        "id": "Lgjpztz_VyVt"
      },
      "source": [
        "# X.to_csv(working_dir_path+'cleaned_data.csv', index = False)"
      ],
      "execution_count": null,
      "outputs": []
    },
    {
      "cell_type": "code",
      "metadata": {
        "colab": {
          "base_uri": "https://localhost:8080/"
        },
        "id": "YXVpKCfndci_",
        "outputId": "426d3d6e-cca0-4da7-9865-35692576d558"
      },
      "source": [
        "from sklearn.model_selection import train_test_split \n",
        "X_train, X_test, y_train, y_test = train_test_split( X,Y , test_size = 0.3, random_state = 0) \n",
        "print(X_train.shape)\n",
        "print(X_test.shape)"
      ],
      "execution_count": null,
      "outputs": [
        {
          "output_type": "stream",
          "text": [
            "(266588, 12)\n",
            "(114252, 12)\n"
          ],
          "name": "stdout"
        }
      ]
    },
    {
      "cell_type": "code",
      "metadata": {
        "colab": {
          "base_uri": "https://localhost:8080/"
        },
        "id": "YuEs50C1h-jP",
        "outputId": "405ee932-0679-4515-9d8a-a2635b959878"
      },
      "source": [
        "X.columns"
      ],
      "execution_count": null,
      "outputs": [
        {
          "output_type": "execute_result",
          "data": {
            "text/plain": [
              "Index(['Gender', 'Age', 'Driving_License', 'Region_Code', 'Previously_Insured',\n",
              "       'Vehicle_Damage', 'Annual_Premium', 'Policy_Sales_Channel', 'Vintage',\n",
              "       'Vehicle_Age_>2yrs', 'Vehicle_Age_1-2yrs', 'Vehicle_Age_<1yr'],\n",
              "      dtype='object')"
            ]
          },
          "metadata": {},
          "execution_count": 51
        }
      ]
    },
    {
      "cell_type": "code",
      "metadata": {
        "id": "31fH8GHFeSz-"
      },
      "source": [
        "from sklearn.preprocessing import StandardScaler\n",
        "sc = StandardScaler()\n",
        "X_train = sc.fit_transform(X_train)\n",
        "X_test = sc.transform(X_test)"
      ],
      "execution_count": null,
      "outputs": []
    },
    {
      "cell_type": "code",
      "metadata": {
        "colab": {
          "base_uri": "https://localhost:8080/"
        },
        "id": "7bQttKlHhSWZ",
        "outputId": "2a90c0e2-9be2-4ff5-efd0-141b29faa280"
      },
      "source": [
        "X_train"
      ],
      "execution_count": null,
      "outputs": [
        {
          "output_type": "execute_result",
          "data": {
            "text/plain": [
              "array([[ 0.92156894,  0.91335408,  0.04526081, ...,  4.77252812,\n",
              "        -1.05422362, -0.87132974],\n",
              "       [-1.08510601,  1.62267989,  0.04526081, ..., -0.20953255,\n",
              "         0.94856536, -0.87132974],\n",
              "       [-1.08510601,  0.26851244,  0.04526081, ..., -0.20953255,\n",
              "         0.94856536, -0.87132974],\n",
              "       ...,\n",
              "       [-1.08510601,  0.20402828,  0.04526081, ..., -0.20953255,\n",
              "         0.94856536, -0.87132974],\n",
              "       [ 0.92156894, -0.50529753,  0.04526081, ..., -0.20953255,\n",
              "        -1.05422362,  1.14767115],\n",
              "       [-1.08510601,  0.13954411,  0.04526081, ..., -0.20953255,\n",
              "         0.94856536, -0.87132974]])"
            ]
          },
          "metadata": {},
          "execution_count": 53
        }
      ]
    },
    {
      "cell_type": "code",
      "metadata": {
        "colab": {
          "base_uri": "https://localhost:8080/"
        },
        "id": "sAOBEv2CeWqR",
        "outputId": "e4cc6f13-f139-4eb2-8443-3d0858d7f542"
      },
      "source": [
        "from sklearn.linear_model import LogisticRegression\n",
        "\n",
        "clf = LogisticRegression(fit_intercept=True, max_iter=10000)\n",
        "clf.fit(X_train, y_train)"
      ],
      "execution_count": null,
      "outputs": [
        {
          "output_type": "execute_result",
          "data": {
            "text/plain": [
              "LogisticRegression(C=1.0, class_weight=None, dual=False, fit_intercept=True,\n",
              "                   intercept_scaling=1, l1_ratio=None, max_iter=10000,\n",
              "                   multi_class='auto', n_jobs=None, penalty='l2',\n",
              "                   random_state=None, solver='lbfgs', tol=0.0001, verbose=0,\n",
              "                   warm_start=False)"
            ]
          },
          "metadata": {},
          "execution_count": 54
        }
      ]
    },
    {
      "cell_type": "code",
      "metadata": {
        "colab": {
          "base_uri": "https://localhost:8080/"
        },
        "id": "QBCAxJRZeY4u",
        "outputId": "4d542078-606b-495d-8b55-f456c417779c"
      },
      "source": [
        "clf.coef_"
      ],
      "execution_count": null,
      "outputs": [
        {
          "output_type": "execute_result",
          "data": {
            "text/plain": [
              "array([[ 4.50674123e-02, -3.87803746e-01,  5.84891100e-02,\n",
              "        -9.73275716e-03, -1.96891879e+00,  1.02109180e+00,\n",
              "         4.30935409e-02, -1.33388680e-01, -1.63962919e-03,\n",
              "         1.41075118e-01,  2.56208582e-01, -3.15453786e-01]])"
            ]
          },
          "metadata": {},
          "execution_count": 55
        }
      ]
    },
    {
      "cell_type": "code",
      "metadata": {
        "colab": {
          "base_uri": "https://localhost:8080/"
        },
        "id": "kGlIvXS8ed0m",
        "outputId": "e26c7bce-cbf5-4ada-cd87-b5e1319e3c41"
      },
      "source": [
        "clf.intercept_"
      ],
      "execution_count": null,
      "outputs": [
        {
          "output_type": "execute_result",
          "data": {
            "text/plain": [
              "array([-4.11026335])"
            ]
          },
          "metadata": {},
          "execution_count": 56
        }
      ]
    },
    {
      "cell_type": "code",
      "metadata": {
        "id": "5p9MekLcefp2"
      },
      "source": [
        "train_preds = clf.predict_proba(X_train)\n",
        "test_preds = clf.predict_proba(X_test)"
      ],
      "execution_count": null,
      "outputs": []
    },
    {
      "cell_type": "code",
      "metadata": {
        "colab": {
          "base_uri": "https://localhost:8080/"
        },
        "id": "o51XcGDheh4u",
        "outputId": "6c2e30de-b16e-4c19-de43-17a39bcdd19f"
      },
      "source": [
        "test_preds"
      ],
      "execution_count": null,
      "outputs": [
        {
          "output_type": "execute_result",
          "data": {
            "text/plain": [
              "array([[9.99218796e-01, 7.81203825e-04],\n",
              "       [9.99595954e-01, 4.04045980e-04],\n",
              "       [8.46448428e-01, 1.53551572e-01],\n",
              "       ...,\n",
              "       [9.99082846e-01, 9.17153896e-04],\n",
              "       [7.77748429e-01, 2.22251571e-01],\n",
              "       [6.51734730e-01, 3.48265270e-01]])"
            ]
          },
          "metadata": {},
          "execution_count": 58
        }
      ]
    },
    {
      "cell_type": "code",
      "metadata": {
        "id": "b-gaV_YGelaY"
      },
      "source": [
        "train_preds = clf.predict_proba(X_train)[:,1]\n",
        "test_preds = clf.predict_proba(X_test)[:,1]"
      ],
      "execution_count": null,
      "outputs": []
    },
    {
      "cell_type": "code",
      "metadata": {
        "colab": {
          "base_uri": "https://localhost:8080/"
        },
        "id": "BNVt-VHhenkB",
        "outputId": "f8ac96fd-34c2-44e0-929e-c4f255d40d58"
      },
      "source": [
        "test_preds"
      ],
      "execution_count": null,
      "outputs": [
        {
          "output_type": "execute_result",
          "data": {
            "text/plain": [
              "array([0.0007812 , 0.00040405, 0.15355157, ..., 0.00091715, 0.22225157,\n",
              "       0.34826527])"
            ]
          },
          "metadata": {},
          "execution_count": 60
        }
      ]
    },
    {
      "cell_type": "code",
      "metadata": {
        "id": "2yKs-_ImerwU"
      },
      "source": [
        "train_class_preds = clf.predict(X_train)\n",
        "test_class_preds = clf.predict(X_test)"
      ],
      "execution_count": null,
      "outputs": []
    },
    {
      "cell_type": "code",
      "metadata": {
        "colab": {
          "base_uri": "https://localhost:8080/"
        },
        "id": "xwQeFPR-et92",
        "outputId": "a9f6ed23-95d3-4b26-f316-9376302e931b"
      },
      "source": [
        "train_class_preds"
      ],
      "execution_count": null,
      "outputs": [
        {
          "output_type": "execute_result",
          "data": {
            "text/plain": [
              "array([0, 0, 0, ..., 0, 0, 0])"
            ]
          },
          "metadata": {},
          "execution_count": 62
        }
      ]
    },
    {
      "cell_type": "code",
      "metadata": {
        "colab": {
          "base_uri": "https://localhost:8080/"
        },
        "id": "oJJp1B2revhg",
        "outputId": "5442414a-3e0e-48e3-8c86-74836f5d0741"
      },
      "source": [
        "test_class_preds "
      ],
      "execution_count": null,
      "outputs": [
        {
          "output_type": "execute_result",
          "data": {
            "text/plain": [
              "array([0, 0, 0, ..., 0, 0, 0])"
            ]
          },
          "metadata": {},
          "execution_count": 63
        }
      ]
    },
    {
      "cell_type": "code",
      "metadata": {
        "id": "Ofy4083mexHz"
      },
      "source": [
        "from sklearn.metrics import accuracy_score, confusion_matrix"
      ],
      "execution_count": null,
      "outputs": []
    },
    {
      "cell_type": "code",
      "metadata": {
        "colab": {
          "base_uri": "https://localhost:8080/"
        },
        "id": "fTFV8AFeezNM",
        "outputId": "1ad1473e-f8c3-4ae2-f7c0-067702c58a9c"
      },
      "source": [
        "train_accuracy = accuracy_score(train_class_preds,y_train)\n",
        "test_accuracy = accuracy_score(test_class_preds,y_test)\n",
        "\n",
        "print(\"The accuracy on train data is \", train_accuracy)\n",
        "print(\"The accuracy on test data is \", test_accuracy)"
      ],
      "execution_count": null,
      "outputs": [
        {
          "output_type": "stream",
          "text": [
            "The accuracy on train data is  0.8770012153585308\n",
            "The accuracy on test data is  0.878339110037461\n"
          ],
          "name": "stdout"
        }
      ]
    },
    {
      "cell_type": "code",
      "metadata": {
        "colab": {
          "base_uri": "https://localhost:8080/",
          "height": 348
        },
        "id": "P0aZsEsee11G",
        "outputId": "994a9f80-70ac-4b84-aa3a-5c6911f10099"
      },
      "source": [
        "labels = ['Interested', 'Not-Interested']\n",
        "cm = confusion_matrix(y_train, train_class_preds)\n",
        "print(cm)\n",
        "\n",
        "ax= plt.subplot()\n",
        "sns.heatmap(cm, annot=True, ax = ax) #annot=True to annotate cells\n",
        "\n",
        "# labels, title and ticks\n",
        "ax.set_xlabel('Predicted labels')\n",
        "ax.set_ylabel('True labels')\n",
        "ax.set_title('Confusion Matrix')\n",
        "ax.xaxis.set_ticklabels(labels)\n",
        "ax.yaxis.set_ticklabels(labels)"
      ],
      "execution_count": null,
      "outputs": [
        {
          "output_type": "stream",
          "text": [
            "[[233798      3]\n",
            " [ 32787      0]]\n"
          ],
          "name": "stdout"
        },
        {
          "output_type": "execute_result",
          "data": {
            "text/plain": [
              "[Text(0, 0.5, 'Interested'), Text(0, 1.5, 'Not-Interested')]"
            ]
          },
          "metadata": {},
          "execution_count": 66
        },
        {
          "output_type": "display_data",
          "data": {
            "image/png": "[encoded data removed]",
            "text/plain": [
              "<Figure size 432x288 with 2 Axes>"
            ]
          },
          "metadata": {
            "needs_background": "light"
          }
        }
      ]
    },
    {
      "cell_type": "code",
      "metadata": {
        "colab": {
          "base_uri": "https://localhost:8080/",
          "height": 348
        },
        "id": "lrNLGO6qfCJQ",
        "outputId": "8e08c2ce-0bfa-42d5-e16f-4ddc8b00929f"
      },
      "source": [
        "labels = ['Interested', 'Not-Interested']\n",
        "cm = confusion_matrix(y_test, test_class_preds)\n",
        "print(cm)\n",
        "\n",
        "ax= plt.subplot()\n",
        "sns.heatmap(cm, annot=True, ax = ax); #annot=True to annotate cells\n",
        "\n",
        "# labels, title and ticks\n",
        "ax.set_xlabel('Predicted labels')\n",
        "ax.set_ylabel('True labels')\n",
        "ax.set_title('Confusion Matrix')\n",
        "ax.xaxis.set_ticklabels(labels)\n",
        "ax.yaxis.set_ticklabels(labels)"
      ],
      "execution_count": null,
      "outputs": [
        {
          "output_type": "stream",
          "text": [
            "[[100352      2]\n",
            " [ 13898      0]]\n"
          ],
          "name": "stdout"
        },
        {
          "output_type": "execute_result",
          "data": {
            "text/plain": [
              "[Text(0, 0.5, 'Interested'), Text(0, 1.5, 'Not-Interested')]"
            ]
          },
          "metadata": {},
          "execution_count": 67
        },
        {
          "output_type": "display_data",
          "data": {
            "image/png": "[encoded data removed]",
            "text/plain": [
              "<Figure size 432x288 with 2 Axes>"
            ]
          },
          "metadata": {
            "needs_background": "light"
          }
        }
      ]
    },
    {
      "cell_type": "code",
      "metadata": {
        "id": "DC3LE1uIfIHF"
      },
      "source": [
        "from sklearn.linear_model import LogisticRegressionCV\n",
        "from sklearn.model_selection import cross_validate"
      ],
      "execution_count": null,
      "outputs": []
    },
    {
      "cell_type": "code",
      "metadata": {
        "id": "iaLUkloSfoIy"
      },
      "source": [
        "logistic = LogisticRegression()"
      ],
      "execution_count": null,
      "outputs": []
    },
    {
      "cell_type": "code",
      "metadata": {
        "colab": {
          "base_uri": "https://localhost:8080/"
        },
        "id": "kGWSrBahfpth",
        "outputId": "c029c0ed-c030-471b-e77b-f0661d72e5ba"
      },
      "source": [
        "scoring = ['accuracy']\n",
        "scores = cross_validate(logistic,X_train, y_train, scoring = scoring, cv = 5, return_train_score=True,return_estimator=True,verbose = 10)"
      ],
      "execution_count": null,
      "outputs": [
        {
          "output_type": "stream",
          "text": [
            "[Parallel(n_jobs=1)]: Using backend SequentialBackend with 1 concurrent workers.\n"
          ],
          "name": "stderr"
        },
        {
          "output_type": "stream",
          "text": [
            "[CV]  ................................................................\n",
            "[CV] ............. , accuracy=(train=0.877, test=0.877), total=   1.0s\n",
            "[CV]  ................................................................\n"
          ],
          "name": "stdout"
        },
        {
          "output_type": "stream",
          "text": [
            "[Parallel(n_jobs=1)]: Done   1 out of   1 | elapsed:    1.1s remaining:    0.0s\n"
          ],
          "name": "stderr"
        },
        {
          "output_type": "stream",
          "text": [
            "[CV] ............. , accuracy=(train=0.877, test=0.877), total=   1.1s\n",
            "[CV]  ................................................................\n"
          ],
          "name": "stdout"
        },
        {
          "output_type": "stream",
          "text": [
            "[Parallel(n_jobs=1)]: Done   2 out of   2 | elapsed:    2.3s remaining:    0.0s\n"
          ],
          "name": "stderr"
        },
        {
          "output_type": "stream",
          "text": [
            "[CV] ............. , accuracy=(train=0.877, test=0.877), total=   1.0s\n",
            "[CV]  ................................................................\n"
          ],
          "name": "stdout"
        },
        {
          "output_type": "stream",
          "text": [
            "[Parallel(n_jobs=1)]: Done   3 out of   3 | elapsed:    3.3s remaining:    0.0s\n"
          ],
          "name": "stderr"
        },
        {
          "output_type": "stream",
          "text": [
            "[CV] ............. , accuracy=(train=0.877, test=0.877), total=   1.1s\n",
            "[CV]  ................................................................\n"
          ],
          "name": "stdout"
        },
        {
          "output_type": "stream",
          "text": [
            "[Parallel(n_jobs=1)]: Done   4 out of   4 | elapsed:    4.5s remaining:    0.0s\n"
          ],
          "name": "stderr"
        },
        {
          "output_type": "stream",
          "text": [
            "[CV] ............. , accuracy=(train=0.877, test=0.877), total=   1.1s\n"
          ],
          "name": "stdout"
        },
        {
          "output_type": "stream",
          "text": [
            "[Parallel(n_jobs=1)]: Done   5 out of   5 | elapsed:    5.6s remaining:    0.0s\n",
            "[Parallel(n_jobs=1)]: Done   5 out of   5 | elapsed:    5.6s finished\n"
          ],
          "name": "stderr"
        }
      ]
    },
    {
      "cell_type": "code",
      "metadata": {
        "colab": {
          "base_uri": "https://localhost:8080/"
        },
        "id": "YOend0OifsF8",
        "outputId": "a94f0b22-5819-4f70-a7aa-524e2471b2a8"
      },
      "source": [
        "scores['train_accuracy']"
      ],
      "execution_count": null,
      "outputs": [
        {
          "output_type": "execute_result",
          "data": {
            "text/plain": [
              "array([0.87700098, 0.87701505, 0.87700567, 0.87699687, 0.87699218])"
            ]
          },
          "metadata": {},
          "execution_count": 71
        }
      ]
    },
    {
      "cell_type": "code",
      "metadata": {
        "colab": {
          "base_uri": "https://localhost:8080/"
        },
        "id": "QYg6iGF7futC",
        "outputId": "f1f5628f-7dcc-480d-a45a-d07cb8b93f4a"
      },
      "source": [
        "scores['test_accuracy']"
      ],
      "execution_count": null,
      "outputs": [
        {
          "output_type": "execute_result",
          "data": {
            "text/plain": [
              "array([0.87702089, 0.87696463, 0.87700214, 0.87701859, 0.87701859])"
            ]
          },
          "metadata": {},
          "execution_count": 72
        }
      ]
    },
    {
      "cell_type": "code",
      "metadata": {
        "colab": {
          "base_uri": "https://localhost:8080/"
        },
        "id": "CRkIN5z8fwYT",
        "outputId": "02dd1d11-533b-458f-ff1e-c6ceafafa7d1"
      },
      "source": [
        "for model in scores['estimator']:\n",
        "    print(model.coef_)"
      ],
      "execution_count": null,
      "outputs": [
        {
          "output_type": "stream",
          "text": [
            "[[ 0.04667836 -0.38279335  0.05682487 -0.00974069 -1.98857854  1.01393879\n",
            "   0.04259882 -0.13738807 -0.00205882  0.13953621  0.25121275 -0.30979387]]\n",
            "[[ 4.37984194e-02 -3.84642591e-01  5.53615120e-02 -1.25075617e-02\n",
            "  -1.97637304e+00  1.03205528e+00  4.54900481e-02 -1.27642891e-01\n",
            "  -9.93606492e-05  1.39716233e-01  2.55077088e-01 -3.13762439e-01]]\n",
            "[[ 4.32676297e-02 -3.86264703e-01  6.08100912e-02 -7.89069554e-04\n",
            "  -1.93450637e+00  1.02209208e+00  4.05632755e-02 -1.35287666e-01\n",
            "  -2.55824328e-03  1.43213378e-01  2.53144175e-01 -3.13231112e-01]]\n",
            "[[ 0.0475285  -0.38924667  0.06539145 -0.01050588 -1.99676755  1.01798212\n",
            "   0.04698312 -0.13435282 -0.00490774  0.13941285  0.25808796 -0.31667474]]\n",
            "[[ 4.40540764e-02 -3.96088250e-01  5.47090912e-02 -1.50307188e-02\n",
            "  -1.94539991e+00  1.01966070e+00  3.98493721e-02 -1.32284471e-01\n",
            "   1.33509998e-03  1.43480731e-01  2.63559150e-01 -3.23838739e-01]]\n"
          ],
          "name": "stdout"
        }
      ]
    },
    {
      "cell_type": "code",
      "metadata": {
        "id": "fBh1GnnvfyQm"
      },
      "source": [
        "from sklearn.metrics import accuracy_score, auc\n",
        "from sklearn.tree import DecisionTreeClassifier\n",
        "from sklearn import tree"
      ],
      "execution_count": null,
      "outputs": []
    },
    {
      "cell_type": "code",
      "metadata": {
        "colab": {
          "base_uri": "https://localhost:8080/"
        },
        "id": "8VJpLUPZEDOU",
        "outputId": "3c87d2b9-b1e6-42b6-912e-f6f6b8e41f72"
      },
      "source": [
        "dat_classifier = DecisionTreeClassifier(criterion='entropy', max_leaf_nodes=10, random_state=0)\n",
        "dat_classifier.fit(X_train, y_train)"
      ],
      "execution_count": null,
      "outputs": [
        {
          "output_type": "execute_result",
          "data": {
            "text/plain": [
              "DecisionTreeClassifier(ccp_alpha=0.0, class_weight=None, criterion='entropy',\n",
              "                       max_depth=None, max_features=None, max_leaf_nodes=10,\n",
              "                       min_impurity_decrease=0.0, min_impurity_split=None,\n",
              "                       min_samples_leaf=1, min_samples_split=2,\n",
              "                       min_weight_fraction_leaf=0.0, presort='deprecated',\n",
              "                       random_state=0, splitter='best')"
            ]
          },
          "metadata": {},
          "execution_count": 75
        }
      ]
    },
    {
      "cell_type": "code",
      "metadata": {
        "id": "FO9VD_lFEGFQ"
      },
      "source": [
        "y_predicted = dat_classifier.predict(X_test)"
      ],
      "execution_count": null,
      "outputs": []
    },
    {
      "cell_type": "code",
      "metadata": {
        "colab": {
          "base_uri": "https://localhost:8080/"
        },
        "id": "ao7m6McpEIF1",
        "outputId": "9f33c51e-d423-492b-82fe-cc9256b99f59"
      },
      "source": [
        "y_predicted[:10]"
      ],
      "execution_count": null,
      "outputs": [
        {
          "output_type": "execute_result",
          "data": {
            "text/plain": [
              "array([0, 0, 0, 0, 0, 0, 0, 0, 0, 0])"
            ]
          },
          "metadata": {},
          "execution_count": 77
        }
      ]
    },
    {
      "cell_type": "code",
      "metadata": {
        "colab": {
          "base_uri": "https://localhost:8080/"
        },
        "id": "JAGI4p-8EJvp",
        "outputId": "31297560-7ae9-4c07-d131-e1427700891a"
      },
      "source": [
        "y_test[:10]"
      ],
      "execution_count": null,
      "outputs": [
        {
          "output_type": "execute_result",
          "data": {
            "text/plain": [
              "id\n",
              "242793    0\n",
              "41417     0\n",
              "297286    0\n",
              "282175    0\n",
              "165066    0\n",
              "342708    0\n",
              "307686    1\n",
              "198315    0\n",
              "72179     0\n",
              "144871    0\n",
              "Name: Response, dtype: int64"
            ]
          },
          "metadata": {},
          "execution_count": 78
        }
      ]
    },
    {
      "cell_type": "code",
      "metadata": {
        "colab": {
          "base_uri": "https://localhost:8080/"
        },
        "id": "YaZSLKSnELSY",
        "outputId": "21fd71fd-4382-4ed3-afb0-cc86df7119c6"
      },
      "source": [
        "accuracy_score(y_test, y_predicted) * 100"
      ],
      "execution_count": null,
      "outputs": [
        {
          "output_type": "execute_result",
          "data": {
            "text/plain": [
              "87.83566152014845"
            ]
          },
          "metadata": {},
          "execution_count": 79
        }
      ]
    },
    {
      "cell_type": "code",
      "metadata": {
        "colab": {
          "base_uri": "https://localhost:8080/"
        },
        "id": "vrLL56QFEP3S",
        "outputId": "4bc5c543-10e2-428a-ec74-abfe224127cf"
      },
      "source": [
        "text_representation = tree.export_text(dat_classifier)\n",
        "print(text_representation)"
      ],
      "execution_count": null,
      "outputs": [
        {
          "output_type": "stream",
          "text": [
            "|--- feature_4 <= 0.08\n",
            "|   |--- feature_5 <= -0.01\n",
            "|   |   |--- class: 0\n",
            "|   |--- feature_5 >  -0.01\n",
            "|   |   |--- feature_1 <= -0.80\n",
            "|   |   |   |--- feature_7 <= 0.86\n",
            "|   |   |   |   |--- class: 0\n",
            "|   |   |   |--- feature_7 >  0.86\n",
            "|   |   |   |   |--- class: 0\n",
            "|   |   |--- feature_1 >  -0.80\n",
            "|   |   |   |--- feature_1 <= 1.27\n",
            "|   |   |   |   |--- feature_1 <= 0.62\n",
            "|   |   |   |   |   |--- feature_7 <= 0.23\n",
            "|   |   |   |   |   |   |--- class: 0\n",
            "|   |   |   |   |   |--- feature_7 >  0.23\n",
            "|   |   |   |   |   |   |--- feature_7 <= 0.77\n",
            "|   |   |   |   |   |   |   |--- class: 0\n",
            "|   |   |   |   |   |   |--- feature_7 >  0.77\n",
            "|   |   |   |   |   |   |   |--- class: 0\n",
            "|   |   |   |   |--- feature_1 >  0.62\n",
            "|   |   |   |   |   |--- class: 0\n",
            "|   |   |   |--- feature_1 >  1.27\n",
            "|   |   |   |   |--- class: 0\n",
            "|--- feature_4 >  0.08\n",
            "|   |--- feature_5 <= -0.01\n",
            "|   |   |--- class: 0\n",
            "|   |--- feature_5 >  -0.01\n",
            "|   |   |--- class: 0\n",
            "\n"
          ],
          "name": "stdout"
        }
      ]
    },
    {
      "cell_type": "code",
      "metadata": {
        "id": "qOh4QEUVER36"
      },
      "source": [
        "from sklearn.tree import DecisionTreeClassifier, export_graphviz\n",
        "from sklearn import tree\n",
        "from IPython.display import SVG\n",
        "from graphviz import Source\n",
        "from IPython.display import display"
      ],
      "execution_count": null,
      "outputs": []
    },
    {
      "cell_type": "code",
      "metadata": {
        "colab": {
          "base_uri": "https://localhost:8080/",
          "height": 1000
        },
        "id": "gPhnB_RvEgub",
        "outputId": "839f3f2e-c946-428b-cc9b-56f22d69df9e"
      },
      "source": [
        "graph = Source(tree.export_graphviz(dat_classifier, out_file=None\n",
        "   , feature_names=X.columns, class_names=['0', '1'] \n",
        "   , filled = True))\n",
        "display(SVG(graph.pipe(format='svg')))"
      ],
      "execution_count": null,
      "outputs": [
        {
          "output_type": "display_data",
          "data": {
            "text/plain": [
              "<IPython.core.display.SVG object>"
            ],
            "image/svg+xml": "<svg height=\"909pt\" viewBox=\"0.00 0.00 720.00 909.00\" width=\"720pt\" xmlns=\"http://www.w3.org/2000/svg\" xmlns:xlink=\"http://www.w3.org/1999/xlink\">\n<g class=\"graph\" id=\"graph0\" transform=\"scale(1 1) rotate(0) translate(4 905)\">\n<title>Tree</title>\n<polygon fill=\"#ffffff\" points=\"-4,4 -4,-905 716,-905 716,4 -4,4\" stroke=\"transparent\"/>\n<!-- 0 -->\n<g class=\"node\" id=\"node1\">\n<title>0</title>\n<polygon fill=\"#e99355\" points=\"502.5,-901 316.5,-901 316.5,-818 502.5,-818 502.5,-901\" stroke=\"#000000\"/>\n<text fill=\"#000000\" font-family=\"Times,serif\" font-size=\"14.00\" text-anchor=\"middle\" x=\"409.5\" y=\"-885.8\">Previously_Insured &lt;= 0.085</text>\n<text fill=\"#000000\" font-family=\"Times,serif\" font-size=\"14.00\" text-anchor=\"middle\" x=\"409.5\" y=\"-870.8\">entropy = 0.538</text>\n<text fill=\"#000000\" font-family=\"Times,serif\" font-size=\"14.00\" text-anchor=\"middle\" x=\"409.5\" y=\"-855.8\">samples = 266588</text>\n<text fill=\"#000000\" font-family=\"Times,serif\" font-size=\"14.00\" text-anchor=\"middle\" x=\"409.5\" y=\"-840.8\">value = [233801, 32787]</text>\n<text fill=\"#000000\" font-family=\"Times,serif\" font-size=\"14.00\" text-anchor=\"middle\" x=\"409.5\" y=\"-825.8\">class = 0</text>\n</g>\n<!-- 1 -->\n<g class=\"node\" id=\"node2\">\n<title>1</title>\n<polygon fill=\"#eda673\" points=\"401,-782 226,-782 226,-699 401,-699 401,-782\" stroke=\"#000000\"/>\n<text fill=\"#000000\" font-family=\"Times,serif\" font-size=\"14.00\" text-anchor=\"middle\" x=\"313.5\" y=\"-766.8\">Vehicle_Damage &lt;= -0.011</text>\n<text fill=\"#000000\" font-family=\"Times,serif\" font-size=\"14.00\" text-anchor=\"middle\" x=\"313.5\" y=\"-751.8\">entropy = 0.771</text>\n<text fill=\"#000000\" font-family=\"Times,serif\" font-size=\"14.00\" text-anchor=\"middle\" x=\"313.5\" y=\"-736.8\">samples = 144542</text>\n<text fill=\"#000000\" font-family=\"Times,serif\" font-size=\"14.00\" text-anchor=\"middle\" x=\"313.5\" y=\"-721.8\">value = [111867, 32675]</text>\n<text fill=\"#000000\" font-family=\"Times,serif\" font-size=\"14.00\" text-anchor=\"middle\" x=\"313.5\" y=\"-706.8\">class = 0</text>\n</g>\n<!-- 0&#45;&gt;1 -->\n<g class=\"edge\" id=\"edge1\">\n<title>0-&gt;1</title>\n<path d=\"M375.9239,-817.8796C368.7309,-808.9633 361.0616,-799.4565 353.649,-790.268\" fill=\"none\" stroke=\"#000000\"/>\n<polygon fill=\"#000000\" points=\"356.2224,-787.8836 347.2195,-782.2981 350.7742,-792.2788 356.2224,-787.8836\" stroke=\"#000000\"/>\n<text fill=\"#000000\" font-family=\"Times,serif\" font-size=\"14.00\" text-anchor=\"middle\" x=\"344.5602\" y=\"-803.4562\">True</text>\n</g>\n<!-- 2 -->\n<g class=\"node\" id=\"node17\">\n<title>2</title>\n<polygon fill=\"#e58139\" points=\"594,-782 419,-782 419,-699 594,-699 594,-782\" stroke=\"#000000\"/>\n<text fill=\"#000000\" font-family=\"Times,serif\" font-size=\"14.00\" text-anchor=\"middle\" x=\"506.5\" y=\"-766.8\">Vehicle_Damage &lt;= -0.011</text>\n<text fill=\"#000000\" font-family=\"Times,serif\" font-size=\"14.00\" text-anchor=\"middle\" x=\"506.5\" y=\"-751.8\">entropy = 0.011</text>\n<text fill=\"#000000\" font-family=\"Times,serif\" font-size=\"14.00\" text-anchor=\"middle\" x=\"506.5\" y=\"-736.8\">samples = 122046</text>\n<text fill=\"#000000\" font-family=\"Times,serif\" font-size=\"14.00\" text-anchor=\"middle\" x=\"506.5\" y=\"-721.8\">value = [121934, 112]</text>\n<text fill=\"#000000\" font-family=\"Times,serif\" font-size=\"14.00\" text-anchor=\"middle\" x=\"506.5\" y=\"-706.8\">class = 0</text>\n</g>\n<!-- 0&#45;&gt;2 -->\n<g class=\"edge\" id=\"edge16\">\n<title>0-&gt;2</title>\n<path d=\"M443.4259,-817.8796C450.6938,-808.9633 458.443,-799.4565 465.9328,-790.268\" fill=\"none\" stroke=\"#000000\"/>\n<polygon fill=\"#000000\" points=\"468.824,-792.2606 472.4293,-782.2981 463.3982,-787.8379 468.824,-792.2606\" stroke=\"#000000\"/>\n<text fill=\"#000000\" font-family=\"Times,serif\" font-size=\"14.00\" text-anchor=\"middle\" x=\"474.9625\" y=\"-803.4694\">False</text>\n</g>\n<!-- 3 -->\n<g class=\"node\" id=\"node3\">\n<title>3</title>\n<polygon fill=\"#e68641\" points=\"224.5,-655.5 84.5,-655.5 84.5,-587.5 224.5,-587.5 224.5,-655.5\" stroke=\"#000000\"/>\n<text fill=\"#000000\" font-family=\"Times,serif\" font-size=\"14.00\" text-anchor=\"middle\" x=\"154.5\" y=\"-640.3\">entropy = 0.232</text>\n<text fill=\"#000000\" font-family=\"Times,serif\" font-size=\"14.00\" text-anchor=\"middle\" x=\"154.5\" y=\"-625.3\">samples = 16734</text>\n<text fill=\"#000000\" font-family=\"Times,serif\" font-size=\"14.00\" text-anchor=\"middle\" x=\"154.5\" y=\"-610.3\">value = [16103, 631]</text>\n<text fill=\"#000000\" font-family=\"Times,serif\" font-size=\"14.00\" text-anchor=\"middle\" x=\"154.5\" y=\"-595.3\">class = 0</text>\n</g>\n<!-- 1&#45;&gt;3 -->\n<g class=\"edge\" id=\"edge2\">\n<title>1-&gt;3</title>\n<path d=\"M257.8895,-698.8796C241.7987,-686.8368 224.2685,-673.7167 208.2909,-661.7586\" fill=\"none\" stroke=\"#000000\"/>\n<polygon fill=\"#000000\" points=\"210.1962,-658.8129 200.093,-655.623 206.0018,-664.4171 210.1962,-658.8129\" stroke=\"#000000\"/>\n</g>\n<!-- 4 -->\n<g class=\"node\" id=\"node4\">\n<title>4</title>\n<polygon fill=\"#eeab7b\" points=\"398,-663 243,-663 243,-580 398,-580 398,-663\" stroke=\"#000000\"/>\n<text fill=\"#000000\" font-family=\"Times,serif\" font-size=\"14.00\" text-anchor=\"middle\" x=\"320.5\" y=\"-647.8\">Age &lt;= -0.795</text>\n<text fill=\"#000000\" font-family=\"Times,serif\" font-size=\"14.00\" text-anchor=\"middle\" x=\"320.5\" y=\"-632.8\">entropy = 0.812</text>\n<text fill=\"#000000\" font-family=\"Times,serif\" font-size=\"14.00\" text-anchor=\"middle\" x=\"320.5\" y=\"-617.8\">samples = 127808</text>\n<text fill=\"#000000\" font-family=\"Times,serif\" font-size=\"14.00\" text-anchor=\"middle\" x=\"320.5\" y=\"-602.8\">value = [95764, 32044]</text>\n<text fill=\"#000000\" font-family=\"Times,serif\" font-size=\"14.00\" text-anchor=\"middle\" x=\"320.5\" y=\"-587.8\">class = 0</text>\n</g>\n<!-- 1&#45;&gt;4 -->\n<g class=\"edge\" id=\"edge3\">\n<title>1-&gt;4</title>\n<path d=\"M315.9483,-698.8796C316.4304,-690.6838 316.9418,-681.9891 317.4411,-673.5013\" fill=\"none\" stroke=\"#000000\"/>\n<polygon fill=\"#000000\" points=\"320.9479,-673.4864 318.0413,-663.2981 313.96,-673.0753 320.9479,-673.4864\" stroke=\"#000000\"/>\n</g>\n<!-- 5 -->\n<g class=\"node\" id=\"node5\">\n<title>5</title>\n<polygon fill=\"#e99254\" points=\"324,-544 121,-544 121,-461 324,-461 324,-544\" stroke=\"#000000\"/>\n<text fill=\"#000000\" font-family=\"Times,serif\" font-size=\"14.00\" text-anchor=\"middle\" x=\"222.5\" y=\"-528.8\">Policy_Sales_Channel &lt;= 0.858</text>\n<text fill=\"#000000\" font-family=\"Times,serif\" font-size=\"14.00\" text-anchor=\"middle\" x=\"222.5\" y=\"-513.8\">entropy = 0.526</text>\n<text fill=\"#000000\" font-family=\"Times,serif\" font-size=\"14.00\" text-anchor=\"middle\" x=\"222.5\" y=\"-498.8\">samples = 25033</text>\n<text fill=\"#000000\" font-family=\"Times,serif\" font-size=\"14.00\" text-anchor=\"middle\" x=\"222.5\" y=\"-483.8\">value = [22060, 2973]</text>\n<text fill=\"#000000\" font-family=\"Times,serif\" font-size=\"14.00\" text-anchor=\"middle\" x=\"222.5\" y=\"-468.8\">class = 0</text>\n</g>\n<!-- 4&#45;&gt;5 -->\n<g class=\"edge\" id=\"edge4\">\n<title>4-&gt;5</title>\n<path d=\"M286.2244,-579.8796C278.8816,-570.9633 271.0524,-561.4565 263.4854,-552.268\" fill=\"none\" stroke=\"#000000\"/>\n<polygon fill=\"#000000\" points=\"265.9808,-549.7924 256.9219,-544.2981 260.5773,-554.2424 265.9808,-549.7924\" stroke=\"#000000\"/>\n</g>\n<!-- 6 -->\n<g class=\"node\" id=\"node8\">\n<title>6</title>\n<polygon fill=\"#efb387\" points=\"497,-544 342,-544 342,-461 497,-461 497,-544\" stroke=\"#000000\"/>\n<text fill=\"#000000\" font-family=\"Times,serif\" font-size=\"14.00\" text-anchor=\"middle\" x=\"419.5\" y=\"-528.8\">Age &lt;= 1.268</text>\n<text fill=\"#000000\" font-family=\"Times,serif\" font-size=\"14.00\" text-anchor=\"middle\" x=\"419.5\" y=\"-513.8\">entropy = 0.859</text>\n<text fill=\"#000000\" font-family=\"Times,serif\" font-size=\"14.00\" text-anchor=\"middle\" x=\"419.5\" y=\"-498.8\">samples = 102775</text>\n<text fill=\"#000000\" font-family=\"Times,serif\" font-size=\"14.00\" text-anchor=\"middle\" x=\"419.5\" y=\"-483.8\">value = [73704, 29071]</text>\n<text fill=\"#000000\" font-family=\"Times,serif\" font-size=\"14.00\" text-anchor=\"middle\" x=\"419.5\" y=\"-468.8\">class = 0</text>\n</g>\n<!-- 4&#45;&gt;6 -->\n<g class=\"edge\" id=\"edge7\">\n<title>4-&gt;6</title>\n<path d=\"M355.1254,-579.8796C362.618,-570.8733 370.6119,-561.2644 378.3279,-551.9897\" fill=\"none\" stroke=\"#000000\"/>\n<polygon fill=\"#000000\" points=\"381.0219,-554.224 384.7268,-544.2981 375.6407,-549.7472 381.0219,-554.224\" stroke=\"#000000\"/>\n</g>\n<!-- 9 -->\n<g class=\"node\" id=\"node6\">\n<title>9</title>\n<polygon fill=\"#e99558\" points=\"147,-417.5 0,-417.5 0,-349.5 147,-349.5 147,-417.5\" stroke=\"#000000\"/>\n<text fill=\"#000000\" font-family=\"Times,serif\" font-size=\"14.00\" text-anchor=\"middle\" x=\"73.5\" y=\"-402.3\">entropy = 0.57</text>\n<text fill=\"#000000\" font-family=\"Times,serif\" font-size=\"14.00\" text-anchor=\"middle\" x=\"73.5\" y=\"-387.3\">samples = 19671</text>\n<text fill=\"#000000\" font-family=\"Times,serif\" font-size=\"14.00\" text-anchor=\"middle\" x=\"73.5\" y=\"-372.3\">value = [17025, 2646]</text>\n<text fill=\"#000000\" font-family=\"Times,serif\" font-size=\"14.00\" text-anchor=\"middle\" x=\"73.5\" y=\"-357.3\">class = 0</text>\n</g>\n<!-- 5&#45;&gt;9 -->\n<g class=\"edge\" id=\"edge5\">\n<title>5-&gt;9</title>\n<path d=\"M170.387,-460.8796C155.5174,-449.0038 139.336,-436.0804 124.5317,-424.2568\" fill=\"none\" stroke=\"#000000\"/>\n<polygon fill=\"#000000\" points=\"126.4638,-421.3207 116.4658,-417.8149 122.0954,-426.7904 126.4638,-421.3207\" stroke=\"#000000\"/>\n</g>\n<!-- 10 -->\n<g class=\"node\" id=\"node7\">\n<title>10</title>\n<polygon fill=\"#e78946\" points=\"297.5,-417.5 165.5,-417.5 165.5,-349.5 297.5,-349.5 297.5,-417.5\" stroke=\"#000000\"/>\n<text fill=\"#000000\" font-family=\"Times,serif\" font-size=\"14.00\" text-anchor=\"middle\" x=\"231.5\" y=\"-402.3\">entropy = 0.331</text>\n<text fill=\"#000000\" font-family=\"Times,serif\" font-size=\"14.00\" text-anchor=\"middle\" x=\"231.5\" y=\"-387.3\">samples = 5362</text>\n<text fill=\"#000000\" font-family=\"Times,serif\" font-size=\"14.00\" text-anchor=\"middle\" x=\"231.5\" y=\"-372.3\">value = [5035, 327]</text>\n<text fill=\"#000000\" font-family=\"Times,serif\" font-size=\"14.00\" text-anchor=\"middle\" x=\"231.5\" y=\"-357.3\">class = 0</text>\n</g>\n<!-- 5&#45;&gt;10 -->\n<g class=\"edge\" id=\"edge6\">\n<title>5-&gt;10</title>\n<path d=\"M225.6478,-460.8796C226.4545,-450.2134 227.3251,-438.7021 228.1419,-427.9015\" fill=\"none\" stroke=\"#000000\"/>\n<polygon fill=\"#000000\" points=\"231.6405,-428.0504 228.9048,-417.8149 224.6605,-427.5225 231.6405,-428.0504\" stroke=\"#000000\"/>\n</g>\n<!-- 7 -->\n<g class=\"node\" id=\"node9\">\n<title>7</title>\n<polygon fill=\"#f1b992\" points=\"488,-425 333,-425 333,-342 488,-342 488,-425\" stroke=\"#000000\"/>\n<text fill=\"#000000\" font-family=\"Times,serif\" font-size=\"14.00\" text-anchor=\"middle\" x=\"410.5\" y=\"-409.8\">Age &lt;= 0.623</text>\n<text fill=\"#000000\" font-family=\"Times,serif\" font-size=\"14.00\" text-anchor=\"middle\" x=\"410.5\" y=\"-394.8\">entropy = 0.892</text>\n<text fill=\"#000000\" font-family=\"Times,serif\" font-size=\"14.00\" text-anchor=\"middle\" x=\"410.5\" y=\"-379.8\">samples = 82413</text>\n<text fill=\"#000000\" font-family=\"Times,serif\" font-size=\"14.00\" text-anchor=\"middle\" x=\"410.5\" y=\"-364.8\">value = [56931, 25482]</text>\n<text fill=\"#000000\" font-family=\"Times,serif\" font-size=\"14.00\" text-anchor=\"middle\" x=\"410.5\" y=\"-349.8\">class = 0</text>\n</g>\n<!-- 6&#45;&gt;7 -->\n<g class=\"edge\" id=\"edge8\">\n<title>6-&gt;7</title>\n<path d=\"M416.3522,-460.8796C415.7324,-452.6838 415.0748,-443.9891 414.4329,-435.5013\" fill=\"none\" stroke=\"#000000\"/>\n<polygon fill=\"#000000\" points=\"417.9055,-435.0056 413.6612,-425.2981 410.9254,-435.5336 417.9055,-435.0056\" stroke=\"#000000\"/>\n</g>\n<!-- 8 -->\n<g class=\"node\" id=\"node16\">\n<title>8</title>\n<polygon fill=\"#eb9c63\" points=\"653,-417.5 506,-417.5 506,-349.5 653,-349.5 653,-417.5\" stroke=\"#000000\"/>\n<text fill=\"#000000\" font-family=\"Times,serif\" font-size=\"14.00\" text-anchor=\"middle\" x=\"579.5\" y=\"-402.3\">entropy = 0.672</text>\n<text fill=\"#000000\" font-family=\"Times,serif\" font-size=\"14.00\" text-anchor=\"middle\" x=\"579.5\" y=\"-387.3\">samples = 20362</text>\n<text fill=\"#000000\" font-family=\"Times,serif\" font-size=\"14.00\" text-anchor=\"middle\" x=\"579.5\" y=\"-372.3\">value = [16773, 3589]</text>\n<text fill=\"#000000\" font-family=\"Times,serif\" font-size=\"14.00\" text-anchor=\"middle\" x=\"579.5\" y=\"-357.3\">class = 0</text>\n</g>\n<!-- 6&#45;&gt;8 -->\n<g class=\"edge\" id=\"edge15\">\n<title>6-&gt;8</title>\n<path d=\"M475.4602,-460.8796C491.6522,-448.8368 509.2927,-435.7167 525.3708,-423.7586\" fill=\"none\" stroke=\"#000000\"/>\n<polygon fill=\"#000000\" points=\"527.685,-426.3993 533.6203,-417.623 523.5075,-420.7825 527.685,-426.3993\" stroke=\"#000000\"/>\n</g>\n<!-- 13 -->\n<g class=\"node\" id=\"node10\">\n<title>13</title>\n<polygon fill=\"#f1bd98\" points=\"415,-306 212,-306 212,-223 415,-223 415,-306\" stroke=\"#000000\"/>\n<text fill=\"#000000\" font-family=\"Times,serif\" font-size=\"14.00\" text-anchor=\"middle\" x=\"313.5\" y=\"-290.8\">Policy_Sales_Channel &lt;= 0.232</text>\n<text fill=\"#000000\" font-family=\"Times,serif\" font-size=\"14.00\" text-anchor=\"middle\" x=\"313.5\" y=\"-275.8\">entropy = 0.909</text>\n<text fill=\"#000000\" font-family=\"Times,serif\" font-size=\"14.00\" text-anchor=\"middle\" x=\"313.5\" y=\"-260.8\">samples = 58955</text>\n<text fill=\"#000000\" font-family=\"Times,serif\" font-size=\"14.00\" text-anchor=\"middle\" x=\"313.5\" y=\"-245.8\">value = [39862, 19093]</text>\n<text fill=\"#000000\" font-family=\"Times,serif\" font-size=\"14.00\" text-anchor=\"middle\" x=\"313.5\" y=\"-230.8\">class = 0</text>\n</g>\n<!-- 7&#45;&gt;13 -->\n<g class=\"edge\" id=\"edge9\">\n<title>7-&gt;13</title>\n<path d=\"M376.5741,-341.8796C369.3062,-332.9633 361.557,-323.4565 354.0672,-314.268\" fill=\"none\" stroke=\"#000000\"/>\n<polygon fill=\"#000000\" points=\"356.6018,-311.8379 347.5707,-306.2981 351.176,-316.2606 356.6018,-311.8379\" stroke=\"#000000\"/>\n</g>\n<!-- 14 -->\n<g class=\"node\" id=\"node15\">\n<title>14</title>\n<polygon fill=\"#efb083\" points=\"580,-298.5 433,-298.5 433,-230.5 580,-230.5 580,-298.5\" stroke=\"#000000\"/>\n<text fill=\"#000000\" font-family=\"Times,serif\" font-size=\"14.00\" text-anchor=\"middle\" x=\"506.5\" y=\"-283.3\">entropy = 0.845</text>\n<text fill=\"#000000\" font-family=\"Times,serif\" font-size=\"14.00\" text-anchor=\"middle\" x=\"506.5\" y=\"-268.3\">samples = 23458</text>\n<text fill=\"#000000\" font-family=\"Times,serif\" font-size=\"14.00\" text-anchor=\"middle\" x=\"506.5\" y=\"-253.3\">value = [17069, 6389]</text>\n<text fill=\"#000000\" font-family=\"Times,serif\" font-size=\"14.00\" text-anchor=\"middle\" x=\"506.5\" y=\"-238.3\">class = 0</text>\n</g>\n<!-- 7&#45;&gt;14 -->\n<g class=\"edge\" id=\"edge14\">\n<title>7-&gt;14</title>\n<path d=\"M444.0761,-341.8796C453.2131,-330.5536 463.1187,-318.2748 472.2902,-306.9058\" fill=\"none\" stroke=\"#000000\"/>\n<polygon fill=\"#000000\" points=\"475.2626,-308.7957 478.8174,-298.8149 469.8144,-304.4005 475.2626,-308.7957\" stroke=\"#000000\"/>\n</g>\n<!-- 15 -->\n<g class=\"node\" id=\"node11\">\n<title>15</title>\n<polygon fill=\"#f2c29f\" points=\"293,-179.5 138,-179.5 138,-111.5 293,-111.5 293,-179.5\" stroke=\"#000000\"/>\n<text fill=\"#000000\" font-family=\"Times,serif\" font-size=\"14.00\" text-anchor=\"middle\" x=\"215.5\" y=\"-164.3\">entropy = 0.926</text>\n<text fill=\"#000000\" font-family=\"Times,serif\" font-size=\"14.00\" text-anchor=\"middle\" x=\"215.5\" y=\"-149.3\">samples = 42810</text>\n<text fill=\"#000000\" font-family=\"Times,serif\" font-size=\"14.00\" text-anchor=\"middle\" x=\"215.5\" y=\"-134.3\">value = [28218, 14592]</text>\n<text fill=\"#000000\" font-family=\"Times,serif\" font-size=\"14.00\" text-anchor=\"middle\" x=\"215.5\" y=\"-119.3\">class = 0</text>\n</g>\n<!-- 13&#45;&gt;15 -->\n<g class=\"edge\" id=\"edge10\">\n<title>13-&gt;15</title>\n<path d=\"M279.2244,-222.8796C269.8065,-211.4436 259.5887,-199.0363 250.15,-187.575\" fill=\"none\" stroke=\"#000000\"/>\n<polygon fill=\"#000000\" points=\"252.8182,-185.3093 243.7594,-179.8149 247.4147,-189.7592 252.8182,-185.3093\" stroke=\"#000000\"/>\n</g>\n<!-- 16 -->\n<g class=\"node\" id=\"node12\">\n<title>16</title>\n<polygon fill=\"#efb286\" points=\"514,-187 311,-187 311,-104 514,-104 514,-187\" stroke=\"#000000\"/>\n<text fill=\"#000000\" font-family=\"Times,serif\" font-size=\"14.00\" text-anchor=\"middle\" x=\"412.5\" y=\"-171.8\">Policy_Sales_Channel &lt;= 0.766</text>\n<text fill=\"#000000\" font-family=\"Times,serif\" font-size=\"14.00\" text-anchor=\"middle\" x=\"412.5\" y=\"-156.8\">entropy = 0.854</text>\n<text fill=\"#000000\" font-family=\"Times,serif\" font-size=\"14.00\" text-anchor=\"middle\" x=\"412.5\" y=\"-141.8\">samples = 16145</text>\n<text fill=\"#000000\" font-family=\"Times,serif\" font-size=\"14.00\" text-anchor=\"middle\" x=\"412.5\" y=\"-126.8\">value = [11644, 4501]</text>\n<text fill=\"#000000\" font-family=\"Times,serif\" font-size=\"14.00\" text-anchor=\"middle\" x=\"412.5\" y=\"-111.8\">class = 0</text>\n</g>\n<!-- 13&#45;&gt;16 -->\n<g class=\"edge\" id=\"edge11\">\n<title>13-&gt;16</title>\n<path d=\"M348.1254,-222.8796C355.618,-213.8733 363.6119,-204.2644 371.3279,-194.9897\" fill=\"none\" stroke=\"#000000\"/>\n<polygon fill=\"#000000\" points=\"374.0219,-197.224 377.7268,-187.2981 368.6407,-192.7472 374.0219,-197.224\" stroke=\"#000000\"/>\n</g>\n<!-- 17 -->\n<g class=\"node\" id=\"node13\">\n<title>17</title>\n<polygon fill=\"#eb9f68\" points=\"403.5,-68 263.5,-68 263.5,0 403.5,0 403.5,-68\" stroke=\"#000000\"/>\n<text fill=\"#000000\" font-family=\"Times,serif\" font-size=\"14.00\" text-anchor=\"middle\" x=\"333.5\" y=\"-52.8\">entropy = 0.708</text>\n<text fill=\"#000000\" font-family=\"Times,serif\" font-size=\"14.00\" text-anchor=\"middle\" x=\"333.5\" y=\"-37.8\">samples = 5368</text>\n<text fill=\"#000000\" font-family=\"Times,serif\" font-size=\"14.00\" text-anchor=\"middle\" x=\"333.5\" y=\"-22.8\">value = [4330, 1038]</text>\n<text fill=\"#000000\" font-family=\"Times,serif\" font-size=\"14.00\" text-anchor=\"middle\" x=\"333.5\" y=\"-7.8\">class = 0</text>\n</g>\n<!-- 16&#45;&gt;17 -->\n<g class=\"edge\" id=\"edge12\">\n<title>16-&gt;17</title>\n<path d=\"M383.0833,-103.9815C376.7669,-95.0666 370.0818,-85.6313 363.7349,-76.6734\" fill=\"none\" stroke=\"#000000\"/>\n<polygon fill=\"#000000\" points=\"366.4136,-74.3998 357.7765,-68.2637 360.7019,-78.4466 366.4136,-74.3998\" stroke=\"#000000\"/>\n</g>\n<!-- 18 -->\n<g class=\"node\" id=\"node14\">\n<title>18</title>\n<polygon fill=\"#f1bd97\" points=\"561.5,-68 421.5,-68 421.5,0 561.5,0 561.5,-68\" stroke=\"#000000\"/>\n<text fill=\"#000000\" font-family=\"Times,serif\" font-size=\"14.00\" text-anchor=\"middle\" x=\"491.5\" y=\"-52.8\">entropy = 0.906</text>\n<text fill=\"#000000\" font-family=\"Times,serif\" font-size=\"14.00\" text-anchor=\"middle\" x=\"491.5\" y=\"-37.8\">samples = 10777</text>\n<text fill=\"#000000\" font-family=\"Times,serif\" font-size=\"14.00\" text-anchor=\"middle\" x=\"491.5\" y=\"-22.8\">value = [7314, 3463]</text>\n<text fill=\"#000000\" font-family=\"Times,serif\" font-size=\"14.00\" text-anchor=\"middle\" x=\"491.5\" y=\"-7.8\">class = 0</text>\n</g>\n<!-- 16&#45;&gt;18 -->\n<g class=\"edge\" id=\"edge13\">\n<title>16-&gt;18</title>\n<path d=\"M441.9167,-103.9815C448.2331,-95.0666 454.9182,-85.6313 461.2651,-76.6734\" fill=\"none\" stroke=\"#000000\"/>\n<polygon fill=\"#000000\" points=\"464.2981,-78.4466 467.2235,-68.2637 458.5864,-74.3998 464.2981,-78.4466\" stroke=\"#000000\"/>\n</g>\n<!-- 11 -->\n<g class=\"node\" id=\"node18\">\n<title>11</title>\n<polygon fill=\"#e58139\" points=\"569,-655.5 430,-655.5 430,-587.5 569,-587.5 569,-655.5\" stroke=\"#000000\"/>\n<text fill=\"#000000\" font-family=\"Times,serif\" font-size=\"14.00\" text-anchor=\"middle\" x=\"499.5\" y=\"-640.3\">entropy = 0.005</text>\n<text fill=\"#000000\" font-family=\"Times,serif\" font-size=\"14.00\" text-anchor=\"middle\" x=\"499.5\" y=\"-625.3\">samples = 115031</text>\n<text fill=\"#000000\" font-family=\"Times,serif\" font-size=\"14.00\" text-anchor=\"middle\" x=\"499.5\" y=\"-610.3\">value = [114982, 49]</text>\n<text fill=\"#000000\" font-family=\"Times,serif\" font-size=\"14.00\" text-anchor=\"middle\" x=\"499.5\" y=\"-595.3\">class = 0</text>\n</g>\n<!-- 2&#45;&gt;11 -->\n<g class=\"edge\" id=\"edge17\">\n<title>2-&gt;11</title>\n<path d=\"M504.0517,-698.8796C503.4243,-688.2134 502.7472,-676.7021 502.1119,-665.9015\" fill=\"none\" stroke=\"#000000\"/>\n<polygon fill=\"#000000\" points=\"505.5998,-665.5921 501.5185,-655.8149 498.6119,-666.0032 505.5998,-665.5921\" stroke=\"#000000\"/>\n</g>\n<!-- 12 -->\n<g class=\"node\" id=\"node19\">\n<title>12</title>\n<polygon fill=\"#e5823b\" points=\"712,-655.5 587,-655.5 587,-587.5 712,-587.5 712,-655.5\" stroke=\"#000000\"/>\n<text fill=\"#000000\" font-family=\"Times,serif\" font-size=\"14.00\" text-anchor=\"middle\" x=\"649.5\" y=\"-640.3\">entropy = 0.074</text>\n<text fill=\"#000000\" font-family=\"Times,serif\" font-size=\"14.00\" text-anchor=\"middle\" x=\"649.5\" y=\"-625.3\">samples = 7015</text>\n<text fill=\"#000000\" font-family=\"Times,serif\" font-size=\"14.00\" text-anchor=\"middle\" x=\"649.5\" y=\"-610.3\">value = [6952, 63]</text>\n<text fill=\"#000000\" font-family=\"Times,serif\" font-size=\"14.00\" text-anchor=\"middle\" x=\"649.5\" y=\"-595.3\">class = 0</text>\n</g>\n<!-- 2&#45;&gt;12 -->\n<g class=\"edge\" id=\"edge18\">\n<title>2-&gt;12</title>\n<path d=\"M556.5145,-698.8796C570.7853,-687.0038 586.3151,-674.0804 600.5233,-662.2568\" fill=\"none\" stroke=\"#000000\"/>\n<polygon fill=\"#000000\" points=\"602.8166,-664.9019 608.2644,-655.8149 598.339,-659.5212 602.8166,-664.9019\" stroke=\"#000000\"/>\n</g>\n</g>\n</svg>"
          },
          "metadata": {}
        }
      ]
    },
    {
      "cell_type": "code",
      "metadata": {
        "id": "_dCZHb11EjB2"
      },
      "source": [
        ""
      ],
      "execution_count": null,
      "outputs": []
    }
  ]
}